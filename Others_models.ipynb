{
  "nbformat": 4,
  "nbformat_minor": 0,
  "metadata": {
    "colab": {
      "name": "Others_models.ipynb",
      "provenance": [],
      "collapsed_sections": [],
      "include_colab_link": true
    },
    "kernelspec": {
      "name": "python3",
      "display_name": "Python 3"
    },
    "accelerator": "GPU"
  },
  "cells": [
    {
      "cell_type": "markdown",
      "metadata": {
        "id": "view-in-github",
        "colab_type": "text"
      },
      "source": [
        "<a href=\"https://colab.research.google.com/github/dsiervo/topnews/blob/master/Others_models.ipynb\" target=\"_parent\"><img src=\"https://colab.research.google.com/assets/colab-badge.svg\" alt=\"Open In Colab\"/></a>"
      ]
    },
    {
      "cell_type": "code",
      "metadata": {
        "id": "CdLfhpjMIgsu",
        "colab_type": "code",
        "colab": {
          "base_uri": "https://localhost:8080/",
          "height": 1000
        },
        "outputId": "c16c0e2a-574f-45d4-aa2f-778cab581f16"
      },
      "source": [
        "# install simpletransformers\n",
        "!pip install simpletransformers\n",
        "!pip install ktrain"
      ],
      "execution_count": 1,
      "outputs": [
        {
          "output_type": "stream",
          "text": [
            "Collecting simpletransformers\n",
            "\u001b[?25l  Downloading https://files.pythonhosted.org/packages/43/d0/8d77f554702e311e61e88e0387e1f842c1101baf5a8ef206a6b355b5dff6/simpletransformers-0.15.3-py3-none-any.whl (95kB)\n",
            "\r\u001b[K     |███▍                            | 10kB 34.6MB/s eta 0:00:01\r\u001b[K     |██████▉                         | 20kB 6.6MB/s eta 0:00:01\r\u001b[K     |██████████▎                     | 30kB 7.7MB/s eta 0:00:01\r\u001b[K     |█████████████▊                  | 40kB 6.1MB/s eta 0:00:01\r\u001b[K     |█████████████████▏              | 51kB 6.5MB/s eta 0:00:01\r\u001b[K     |████████████████████▌           | 61kB 7.7MB/s eta 0:00:01\r\u001b[K     |████████████████████████        | 71kB 8.3MB/s eta 0:00:01\r\u001b[K     |███████████████████████████▍    | 81kB 8.0MB/s eta 0:00:01\r\u001b[K     |██████████████████████████████▉ | 92kB 8.9MB/s eta 0:00:01\r\u001b[K     |████████████████████████████████| 102kB 6.1MB/s \n",
            "\u001b[?25hCollecting transformers\n",
            "\u001b[?25l  Downloading https://files.pythonhosted.org/packages/50/10/aeefced99c8a59d828a92cc11d213e2743212d3641c87c82d61b035a7d5c/transformers-2.3.0-py3-none-any.whl (447kB)\n",
            "\r\u001b[K     |▊                               | 10kB 35.4MB/s eta 0:00:01\r\u001b[K     |█▌                              | 20kB 29.8MB/s eta 0:00:01\r\u001b[K     |██▏                             | 30kB 37.0MB/s eta 0:00:01\r\u001b[K     |███                             | 40kB 23.9MB/s eta 0:00:01\r\u001b[K     |███▋                            | 51kB 14.4MB/s eta 0:00:01\r\u001b[K     |████▍                           | 61kB 16.6MB/s eta 0:00:01\r\u001b[K     |█████▏                          | 71kB 18.4MB/s eta 0:00:01\r\u001b[K     |█████▉                          | 81kB 17.7MB/s eta 0:00:01\r\u001b[K     |██████▋                         | 92kB 19.1MB/s eta 0:00:01\r\u001b[K     |███████▎                        | 102kB 14.4MB/s eta 0:00:01\r\u001b[K     |████████                        | 112kB 14.4MB/s eta 0:00:01\r\u001b[K     |████████▉                       | 122kB 14.4MB/s eta 0:00:01\r\u001b[K     |█████████▌                      | 133kB 14.4MB/s eta 0:00:01\r\u001b[K     |██████████▎                     | 143kB 14.4MB/s eta 0:00:01\r\u001b[K     |███████████                     | 153kB 14.4MB/s eta 0:00:01\r\u001b[K     |███████████▊                    | 163kB 14.4MB/s eta 0:00:01\r\u001b[K     |████████████▌                   | 174kB 14.4MB/s eta 0:00:01\r\u001b[K     |█████████████▏                  | 184kB 14.4MB/s eta 0:00:01\r\u001b[K     |██████████████                  | 194kB 14.4MB/s eta 0:00:01\r\u001b[K     |██████████████▋                 | 204kB 14.4MB/s eta 0:00:01\r\u001b[K     |███████████████▍                | 215kB 14.4MB/s eta 0:00:01\r\u001b[K     |████████████████▏               | 225kB 14.4MB/s eta 0:00:01\r\u001b[K     |████████████████▉               | 235kB 14.4MB/s eta 0:00:01\r\u001b[K     |█████████████████▋              | 245kB 14.4MB/s eta 0:00:01\r\u001b[K     |██████████████████▎             | 256kB 14.4MB/s eta 0:00:01\r\u001b[K     |███████████████████             | 266kB 14.4MB/s eta 0:00:01\r\u001b[K     |███████████████████▊            | 276kB 14.4MB/s eta 0:00:01\r\u001b[K     |████████████████████▌           | 286kB 14.4MB/s eta 0:00:01\r\u001b[K     |█████████████████████▎          | 296kB 14.4MB/s eta 0:00:01\r\u001b[K     |██████████████████████          | 307kB 14.4MB/s eta 0:00:01\r\u001b[K     |██████████████████████▊         | 317kB 14.4MB/s eta 0:00:01\r\u001b[K     |███████████████████████▍        | 327kB 14.4MB/s eta 0:00:01\r\u001b[K     |████████████████████████▏       | 337kB 14.4MB/s eta 0:00:01\r\u001b[K     |█████████████████████████       | 348kB 14.4MB/s eta 0:00:01\r\u001b[K     |█████████████████████████▋      | 358kB 14.4MB/s eta 0:00:01\r\u001b[K     |██████████████████████████▍     | 368kB 14.4MB/s eta 0:00:01\r\u001b[K     |███████████████████████████     | 378kB 14.4MB/s eta 0:00:01\r\u001b[K     |███████████████████████████▉    | 389kB 14.4MB/s eta 0:00:01\r\u001b[K     |████████████████████████████▋   | 399kB 14.4MB/s eta 0:00:01\r\u001b[K     |█████████████████████████████▎  | 409kB 14.4MB/s eta 0:00:01\r\u001b[K     |██████████████████████████████  | 419kB 14.4MB/s eta 0:00:01\r\u001b[K     |██████████████████████████████▊ | 430kB 14.4MB/s eta 0:00:01\r\u001b[K     |███████████████████████████████▌| 440kB 14.4MB/s eta 0:00:01\r\u001b[K     |████████████████████████████████| 450kB 14.4MB/s \n",
            "\u001b[?25hRequirement already satisfied: tqdm in /usr/local/lib/python3.6/dist-packages (from simpletransformers) (4.28.1)\n",
            "Collecting seqeval\n",
            "  Downloading https://files.pythonhosted.org/packages/34/91/068aca8d60ce56dd9ba4506850e876aba5e66a6f2f29aa223224b50df0de/seqeval-0.0.12.tar.gz\n",
            "Requirement already satisfied: scipy in /usr/local/lib/python3.6/dist-packages (from simpletransformers) (1.3.3)\n",
            "Requirement already satisfied: requests in /usr/local/lib/python3.6/dist-packages (from simpletransformers) (2.21.0)\n",
            "Requirement already satisfied: scikit-learn in /usr/local/lib/python3.6/dist-packages (from simpletransformers) (0.21.3)\n",
            "Requirement already satisfied: numpy in /usr/local/lib/python3.6/dist-packages (from simpletransformers) (1.17.4)\n",
            "Requirement already satisfied: regex in /usr/local/lib/python3.6/dist-packages (from simpletransformers) (2019.12.9)\n",
            "Collecting tensorboardx\n",
            "\u001b[?25l  Downloading https://files.pythonhosted.org/packages/35/f1/5843425495765c8c2dd0784a851a93ef204d314fc87bcc2bbb9f662a3ad1/tensorboardX-2.0-py2.py3-none-any.whl (195kB)\n",
            "\u001b[K     |████████████████████████████████| 204kB 21.5MB/s \n",
            "\u001b[?25hCollecting sentencepiece\n",
            "\u001b[?25l  Downloading https://files.pythonhosted.org/packages/74/f4/2d5214cbf13d06e7cb2c20d84115ca25b53ea76fa1f0ade0e3c9749de214/sentencepiece-0.1.85-cp36-cp36m-manylinux1_x86_64.whl (1.0MB)\n",
            "\u001b[K     |████████████████████████████████| 1.0MB 24.3MB/s \n",
            "\u001b[?25hCollecting sacremoses\n",
            "\u001b[?25l  Downloading https://files.pythonhosted.org/packages/1f/8e/ed5364a06a9ba720fddd9820155cc57300d28f5f43a6fd7b7e817177e642/sacremoses-0.0.35.tar.gz (859kB)\n",
            "\u001b[K     |████████████████████████████████| 860kB 55.4MB/s \n",
            "\u001b[?25hRequirement already satisfied: boto3 in /usr/local/lib/python3.6/dist-packages (from transformers->simpletransformers) (1.10.40)\n",
            "Requirement already satisfied: Keras>=2.2.4 in /usr/local/lib/python3.6/dist-packages (from seqeval->simpletransformers) (2.2.5)\n",
            "Requirement already satisfied: chardet<3.1.0,>=3.0.2 in /usr/local/lib/python3.6/dist-packages (from requests->simpletransformers) (3.0.4)\n",
            "Requirement already satisfied: certifi>=2017.4.17 in /usr/local/lib/python3.6/dist-packages (from requests->simpletransformers) (2019.11.28)\n",
            "Requirement already satisfied: urllib3<1.25,>=1.21.1 in /usr/local/lib/python3.6/dist-packages (from requests->simpletransformers) (1.24.3)\n",
            "Requirement already satisfied: idna<2.9,>=2.5 in /usr/local/lib/python3.6/dist-packages (from requests->simpletransformers) (2.8)\n",
            "Requirement already satisfied: joblib>=0.11 in /usr/local/lib/python3.6/dist-packages (from scikit-learn->simpletransformers) (0.14.1)\n",
            "Requirement already satisfied: six in /usr/local/lib/python3.6/dist-packages (from tensorboardx->simpletransformers) (1.12.0)\n",
            "Requirement already satisfied: protobuf>=3.8.0 in /usr/local/lib/python3.6/dist-packages (from tensorboardx->simpletransformers) (3.10.0)\n",
            "Requirement already satisfied: click in /usr/local/lib/python3.6/dist-packages (from sacremoses->transformers->simpletransformers) (7.0)\n",
            "Requirement already satisfied: jmespath<1.0.0,>=0.7.1 in /usr/local/lib/python3.6/dist-packages (from boto3->transformers->simpletransformers) (0.9.4)\n",
            "Requirement already satisfied: s3transfer<0.3.0,>=0.2.0 in /usr/local/lib/python3.6/dist-packages (from boto3->transformers->simpletransformers) (0.2.1)\n",
            "Requirement already satisfied: botocore<1.14.0,>=1.13.40 in /usr/local/lib/python3.6/dist-packages (from boto3->transformers->simpletransformers) (1.13.40)\n",
            "Requirement already satisfied: h5py in /usr/local/lib/python3.6/dist-packages (from Keras>=2.2.4->seqeval->simpletransformers) (2.8.0)\n",
            "Requirement already satisfied: pyyaml in /usr/local/lib/python3.6/dist-packages (from Keras>=2.2.4->seqeval->simpletransformers) (3.13)\n",
            "Requirement already satisfied: keras-preprocessing>=1.1.0 in /usr/local/lib/python3.6/dist-packages (from Keras>=2.2.4->seqeval->simpletransformers) (1.1.0)\n",
            "Requirement already satisfied: keras-applications>=1.0.8 in /usr/local/lib/python3.6/dist-packages (from Keras>=2.2.4->seqeval->simpletransformers) (1.0.8)\n",
            "Requirement already satisfied: setuptools in /usr/local/lib/python3.6/dist-packages (from protobuf>=3.8.0->tensorboardx->simpletransformers) (42.0.2)\n",
            "Requirement already satisfied: python-dateutil<2.8.1,>=2.1; python_version >= \"2.7\" in /usr/local/lib/python3.6/dist-packages (from botocore<1.14.0,>=1.13.40->boto3->transformers->simpletransformers) (2.6.1)\n",
            "Requirement already satisfied: docutils<0.16,>=0.10 in /usr/local/lib/python3.6/dist-packages (from botocore<1.14.0,>=1.13.40->boto3->transformers->simpletransformers) (0.15.2)\n",
            "Building wheels for collected packages: seqeval, sacremoses\n",
            "  Building wheel for seqeval (setup.py) ... \u001b[?25l\u001b[?25hdone\n",
            "  Created wheel for seqeval: filename=seqeval-0.0.12-cp36-none-any.whl size=7424 sha256=5c95946c2831c91c4bf68ffa7179c5d2b1bc1293c94fd46a2f10de12065cd02b\n",
            "  Stored in directory: /root/.cache/pip/wheels/4f/32/0a/df3b340a82583566975377d65e724895b3fad101a3fb729f68\n",
            "  Building wheel for sacremoses (setup.py) ... \u001b[?25l\u001b[?25hdone\n",
            "  Created wheel for sacremoses: filename=sacremoses-0.0.35-cp36-none-any.whl size=883999 sha256=da5a4f4eb0748e085e14bb4d49bf4e1dde0d150993b028a25509009299a128ce\n",
            "  Stored in directory: /root/.cache/pip/wheels/63/2a/db/63e2909042c634ef551d0d9ac825b2b0b32dede4a6d87ddc94\n",
            "Successfully built seqeval sacremoses\n",
            "Installing collected packages: sentencepiece, sacremoses, transformers, seqeval, tensorboardx, simpletransformers\n",
            "Successfully installed sacremoses-0.0.35 sentencepiece-0.1.85 seqeval-0.0.12 simpletransformers-0.15.3 tensorboardx-2.0 transformers-2.3.0\n",
            "Collecting ktrain\n",
            "\u001b[?25l  Downloading https://files.pythonhosted.org/packages/ce/2e/11a72b91bfd73bbb5ac215870cc8899a1f6df622559e532d7af437f5bc35/ktrain-0.7.3.tar.gz (89kB)\n",
            "\u001b[K     |████████████████████████████████| 92kB 5.9MB/s \n",
            "\u001b[?25hRequirement already satisfied: scikit-learn==0.21.3 in /usr/local/lib/python3.6/dist-packages (from ktrain) (0.21.3)\n",
            "Requirement already satisfied: matplotlib>=3.0.0 in /usr/local/lib/python3.6/dist-packages (from ktrain) (3.1.2)\n",
            "Requirement already satisfied: pandas>=0.24.2 in /usr/local/lib/python3.6/dist-packages (from ktrain) (0.25.3)\n",
            "Requirement already satisfied: fastprogress>=0.1.21 in /usr/local/lib/python3.6/dist-packages (from ktrain) (0.1.22)\n",
            "Collecting keras_bert\n",
            "  Downloading https://files.pythonhosted.org/packages/df/fe/bf46de1ef9d1395cd735d8df5402f5d837ef82cfd348a252ad8f32feeaef/keras-bert-0.80.0.tar.gz\n",
            "Requirement already satisfied: requests in /usr/local/lib/python3.6/dist-packages (from ktrain) (2.21.0)\n",
            "Requirement already satisfied: joblib in /usr/local/lib/python3.6/dist-packages (from ktrain) (0.14.1)\n",
            "Collecting langdetect\n",
            "\u001b[?25l  Downloading https://files.pythonhosted.org/packages/59/59/4bc44158a767a6d66de18c4136c8aa90491d56cc951c10b74dd1e13213c9/langdetect-1.0.7.zip (998kB)\n",
            "\u001b[K     |████████████████████████████████| 1.0MB 11.3MB/s \n",
            "\u001b[?25hRequirement already satisfied: jieba in /usr/local/lib/python3.6/dist-packages (from ktrain) (0.39)\n",
            "Collecting cchardet\n",
            "\u001b[?25l  Downloading https://files.pythonhosted.org/packages/fa/4e/847feebfc3e71c773b23ee06c74687b8c50a5a6d6aaff452a0a4f4eb9a32/cchardet-2.1.5-cp36-cp36m-manylinux1_x86_64.whl (241kB)\n",
            "\u001b[K     |████████████████████████████████| 245kB 34.2MB/s \n",
            "\u001b[?25hCollecting networkx==2.3\n",
            "\u001b[?25l  Downloading https://files.pythonhosted.org/packages/85/08/f20aef11d4c343b557e5de6b9548761811eb16e438cee3d32b1c66c8566b/networkx-2.3.zip (1.7MB)\n",
            "\u001b[K     |████████████████████████████████| 1.8MB 49.3MB/s \n",
            "\u001b[?25hRequirement already satisfied: bokeh in /usr/local/lib/python3.6/dist-packages (from ktrain) (1.0.4)\n",
            "Requirement already satisfied: seqeval in /usr/local/lib/python3.6/dist-packages (from ktrain) (0.0.12)\n",
            "Requirement already satisfied: packaging in /usr/local/lib/python3.6/dist-packages (from ktrain) (19.2)\n",
            "Requirement already satisfied: scipy>=0.17.0 in /usr/local/lib/python3.6/dist-packages (from scikit-learn==0.21.3->ktrain) (1.3.3)\n",
            "Requirement already satisfied: numpy>=1.11.0 in /usr/local/lib/python3.6/dist-packages (from scikit-learn==0.21.3->ktrain) (1.17.4)\n",
            "Requirement already satisfied: pyparsing!=2.0.4,!=2.1.2,!=2.1.6,>=2.0.1 in /usr/local/lib/python3.6/dist-packages (from matplotlib>=3.0.0->ktrain) (2.4.5)\n",
            "Requirement already satisfied: python-dateutil>=2.1 in /usr/local/lib/python3.6/dist-packages (from matplotlib>=3.0.0->ktrain) (2.6.1)\n",
            "Requirement already satisfied: kiwisolver>=1.0.1 in /usr/local/lib/python3.6/dist-packages (from matplotlib>=3.0.0->ktrain) (1.1.0)\n",
            "Requirement already satisfied: cycler>=0.10 in /usr/local/lib/python3.6/dist-packages (from matplotlib>=3.0.0->ktrain) (0.10.0)\n",
            "Requirement already satisfied: pytz>=2017.2 in /usr/local/lib/python3.6/dist-packages (from pandas>=0.24.2->ktrain) (2018.9)\n",
            "Requirement already satisfied: Keras in /usr/local/lib/python3.6/dist-packages (from keras_bert->ktrain) (2.2.5)\n",
            "Collecting keras-transformer>=0.30.0\n",
            "  Downloading https://files.pythonhosted.org/packages/0a/57/496b1eab888171b0801a0a44d3245a7874b8d1cc04c1fbfdbb5e3327fc7a/keras-transformer-0.31.0.tar.gz\n",
            "Requirement already satisfied: idna<2.9,>=2.5 in /usr/local/lib/python3.6/dist-packages (from requests->ktrain) (2.8)\n",
            "Requirement already satisfied: chardet<3.1.0,>=3.0.2 in /usr/local/lib/python3.6/dist-packages (from requests->ktrain) (3.0.4)\n",
            "Requirement already satisfied: urllib3<1.25,>=1.21.1 in /usr/local/lib/python3.6/dist-packages (from requests->ktrain) (1.24.3)\n",
            "Requirement already satisfied: certifi>=2017.4.17 in /usr/local/lib/python3.6/dist-packages (from requests->ktrain) (2019.11.28)\n",
            "Requirement already satisfied: six in /usr/local/lib/python3.6/dist-packages (from langdetect->ktrain) (1.12.0)\n",
            "Requirement already satisfied: decorator>=4.3.0 in /usr/local/lib/python3.6/dist-packages (from networkx==2.3->ktrain) (4.4.1)\n",
            "Requirement already satisfied: tornado>=4.3 in /usr/local/lib/python3.6/dist-packages (from bokeh->ktrain) (4.5.3)\n",
            "Requirement already satisfied: PyYAML>=3.10 in /usr/local/lib/python3.6/dist-packages (from bokeh->ktrain) (3.13)\n",
            "Requirement already satisfied: Jinja2>=2.7 in /usr/local/lib/python3.6/dist-packages (from bokeh->ktrain) (2.10.3)\n",
            "Requirement already satisfied: pillow>=4.0 in /usr/local/lib/python3.6/dist-packages (from bokeh->ktrain) (4.3.0)\n",
            "Requirement already satisfied: setuptools in /usr/local/lib/python3.6/dist-packages (from kiwisolver>=1.0.1->matplotlib>=3.0.0->ktrain) (42.0.2)\n",
            "Requirement already satisfied: keras-applications>=1.0.8 in /usr/local/lib/python3.6/dist-packages (from Keras->keras_bert->ktrain) (1.0.8)\n",
            "Requirement already satisfied: keras-preprocessing>=1.1.0 in /usr/local/lib/python3.6/dist-packages (from Keras->keras_bert->ktrain) (1.1.0)\n",
            "Requirement already satisfied: h5py in /usr/local/lib/python3.6/dist-packages (from Keras->keras_bert->ktrain) (2.8.0)\n",
            "Collecting keras-pos-embd>=0.10.0\n",
            "  Downloading https://files.pythonhosted.org/packages/09/70/b63ed8fc660da2bb6ae29b9895401c628da5740c048c190b5d7107cadd02/keras-pos-embd-0.11.0.tar.gz\n",
            "Collecting keras-multi-head>=0.22.0\n",
            "  Downloading https://files.pythonhosted.org/packages/40/3e/d0a64bb2ac5217928effe4507c26bbd19b86145d16a1948bc2d4f4c6338a/keras-multi-head-0.22.0.tar.gz\n",
            "Collecting keras-layer-normalization>=0.12.0\n",
            "  Downloading https://files.pythonhosted.org/packages/a4/0e/d1078df0494bac9ce1a67954e5380b6e7569668f0f3b50a9531c62c1fc4a/keras-layer-normalization-0.14.0.tar.gz\n",
            "Collecting keras-position-wise-feed-forward>=0.5.0\n",
            "  Downloading https://files.pythonhosted.org/packages/e3/59/f0faa1037c033059e7e9e7758e6c23b4d1c0772cd48de14c4b6fd4033ad5/keras-position-wise-feed-forward-0.6.0.tar.gz\n",
            "Collecting keras-embed-sim>=0.7.0\n",
            "  Downloading https://files.pythonhosted.org/packages/bc/20/735fd53f6896e2af63af47e212601c1b8a7a80d00b6126c388c9d1233892/keras-embed-sim-0.7.0.tar.gz\n",
            "Requirement already satisfied: MarkupSafe>=0.23 in /usr/local/lib/python3.6/dist-packages (from Jinja2>=2.7->bokeh->ktrain) (1.1.1)\n",
            "Requirement already satisfied: olefile in /usr/local/lib/python3.6/dist-packages (from pillow>=4.0->bokeh->ktrain) (0.46)\n",
            "Collecting keras-self-attention==0.41.0\n",
            "  Downloading https://files.pythonhosted.org/packages/1b/1c/01599219bef7266fa43b3316e4f55bcb487734d3bafdc60ffd564f3cfe29/keras-self-attention-0.41.0.tar.gz\n",
            "Building wheels for collected packages: ktrain, keras-bert, langdetect, networkx, keras-transformer, keras-pos-embd, keras-multi-head, keras-layer-normalization, keras-position-wise-feed-forward, keras-embed-sim, keras-self-attention\n",
            "  Building wheel for ktrain (setup.py) ... \u001b[?25l\u001b[?25hdone\n",
            "  Created wheel for ktrain: filename=ktrain-0.7.3-cp36-none-any.whl size=113951 sha256=b6936ce38183f55efd4d57060acf569d9a4215c3e90ee69f5bee3954de7b0839\n",
            "  Stored in directory: /root/.cache/pip/wheels/86/20/70/000142264c6a768a4e8b67d8ef2ebc32c018684acb2eed7586\n",
            "  Building wheel for keras-bert (setup.py) ... \u001b[?25l\u001b[?25hdone\n",
            "  Created wheel for keras-bert: filename=keras_bert-0.80.0-cp36-none-any.whl size=37923 sha256=94a4e7ae1c2e8ced9d43e87f69a5df9b722c15aded5dde178466f6b93e47596c\n",
            "  Stored in directory: /root/.cache/pip/wheels/63/dc/87/3260cb91f3aa32c0f85c5375429a30c8fd988bbb48f5ee21b0\n",
            "  Building wheel for langdetect (setup.py) ... \u001b[?25l\u001b[?25hdone\n",
            "  Created wheel for langdetect: filename=langdetect-1.0.7-cp36-none-any.whl size=993460 sha256=cbb6a7e8a8dc1668286d88ca382edac67350ade1a072302e64e1ad766c055025\n",
            "  Stored in directory: /root/.cache/pip/wheels/ec/0c/a9/1647275e7ef5014e7b83ff30105180e332867d65e7617ddafe\n",
            "  Building wheel for networkx (setup.py) ... \u001b[?25l\u001b[?25hdone\n",
            "  Created wheel for networkx: filename=networkx-2.3-py2.py3-none-any.whl size=1556408 sha256=3bdb7624f4ae78cefbc3b1c6fcaabfe0014e509338bdebeba796e2886e115c39\n",
            "  Stored in directory: /root/.cache/pip/wheels/de/63/64/3699be2a9d0ccdb37c7f16329acf3863fd76eda58c39c737af\n",
            "  Building wheel for keras-transformer (setup.py) ... \u001b[?25l\u001b[?25hdone\n",
            "  Created wheel for keras-transformer: filename=keras_transformer-0.31.0-cp36-none-any.whl size=13385 sha256=3568a4f006b882a3fc5cbb41210713c7bb571456ab1a4ce6f3c7a39e4da22425\n",
            "  Stored in directory: /root/.cache/pip/wheels/a3/c5/9a/5a5130240be614a7a6fa786765d7692ae97f82601e2161bb56\n",
            "  Building wheel for keras-pos-embd (setup.py) ... \u001b[?25l\u001b[?25hdone\n",
            "  Created wheel for keras-pos-embd: filename=keras_pos_embd-0.11.0-cp36-none-any.whl size=7553 sha256=9c92ad4bfae8b6144472dcc498050f1b4d080b7c4224597576de61118c68f370\n",
            "  Stored in directory: /root/.cache/pip/wheels/5b/a1/a0/ce6b1d49ba1a9a76f592e70cf297b05c96bc9f418146761032\n",
            "  Building wheel for keras-multi-head (setup.py) ... \u001b[?25l\u001b[?25hdone\n",
            "  Created wheel for keras-multi-head: filename=keras_multi_head-0.22.0-cp36-none-any.whl size=15371 sha256=beb6217ce4ed3d6b7af388e5dd8a8a5f3782f798ca2c217eef7c8cd714123ea1\n",
            "  Stored in directory: /root/.cache/pip/wheels/bb/df/3f/81b36f41b66e6a9cd69224c70a737de2bb6b2f7feb3272c25e\n",
            "  Building wheel for keras-layer-normalization (setup.py) ... \u001b[?25l\u001b[?25hdone\n",
            "  Created wheel for keras-layer-normalization: filename=keras_layer_normalization-0.14.0-cp36-none-any.whl size=5268 sha256=16a99b4e271d69cdddf0e2eea32addf71ff3213f84205e927ec5893e8d86f2a4\n",
            "  Stored in directory: /root/.cache/pip/wheels/54/80/22/a638a7d406fd155e507aa33d703e3fa2612b9eb7bb4f4fe667\n",
            "  Building wheel for keras-position-wise-feed-forward (setup.py) ... \u001b[?25l\u001b[?25hdone\n",
            "  Created wheel for keras-position-wise-feed-forward: filename=keras_position_wise_feed_forward-0.6.0-cp36-none-any.whl size=5624 sha256=337d61b32a5189e068e1dd3ce2eb3cb5e4542eb80c77be46f3bc64fb8d33958f\n",
            "  Stored in directory: /root/.cache/pip/wheels/39/e2/e2/3514fef126a00574b13bc0b9e23891800158df3a3c19c96e3b\n",
            "  Building wheel for keras-embed-sim (setup.py) ... \u001b[?25l\u001b[?25hdone\n",
            "  Created wheel for keras-embed-sim: filename=keras_embed_sim-0.7.0-cp36-none-any.whl size=4676 sha256=655b2e00a7dc862e72cfb4fbc091ea892ecfae670ee60ca0bfb9f5cf62461103\n",
            "  Stored in directory: /root/.cache/pip/wheels/d1/bc/b1/b0c45cee4ca2e6c86586b0218ffafe7f0703c6d07fdf049866\n",
            "  Building wheel for keras-self-attention (setup.py) ... \u001b[?25l\u001b[?25hdone\n",
            "  Created wheel for keras-self-attention: filename=keras_self_attention-0.41.0-cp36-none-any.whl size=17290 sha256=460213228d9099f6450be32e244dd6d4a283a31382106f234a11efed514de4fa\n",
            "  Stored in directory: /root/.cache/pip/wheels/cc/dc/17/84258b27a04cd38ac91998abe148203720ca696186635db694\n",
            "Successfully built ktrain keras-bert langdetect networkx keras-transformer keras-pos-embd keras-multi-head keras-layer-normalization keras-position-wise-feed-forward keras-embed-sim keras-self-attention\n",
            "\u001b[31mERROR: albumentations 0.1.12 has requirement imgaug<0.2.7,>=0.2.5, but you'll have imgaug 0.2.9 which is incompatible.\u001b[0m\n",
            "Installing collected packages: keras-pos-embd, keras-self-attention, keras-multi-head, keras-layer-normalization, keras-position-wise-feed-forward, keras-embed-sim, keras-transformer, keras-bert, langdetect, cchardet, networkx, ktrain\n",
            "  Found existing installation: networkx 2.4\n",
            "    Uninstalling networkx-2.4:\n",
            "      Successfully uninstalled networkx-2.4\n",
            "Successfully installed cchardet-2.1.5 keras-bert-0.80.0 keras-embed-sim-0.7.0 keras-layer-normalization-0.14.0 keras-multi-head-0.22.0 keras-pos-embd-0.11.0 keras-position-wise-feed-forward-0.6.0 keras-self-attention-0.41.0 keras-transformer-0.31.0 ktrain-0.7.3 langdetect-1.0.7 networkx-2.3\n"
          ],
          "name": "stdout"
        }
      ]
    },
    {
      "cell_type": "code",
      "metadata": {
        "id": "wMpE4EFwJAFe",
        "colab_type": "code",
        "outputId": "cf001fa8-b519-47e2-86f1-5f0c6f46d9df",
        "colab": {
          "base_uri": "https://localhost:8080/",
          "height": 83
        }
      },
      "source": [
        "from simpletransformers.classification import ClassificationModel\n",
        "import tensorflow as tf\n",
        "import pandas as pd\n",
        "import ktrain\n",
        "import numpy as np\n",
        "import sklearn as sk\n",
        "from sklearn.model_selection import train_test_split\n",
        "from plotly.offline import init_notebook_mode,iplot\n",
        "import plotly.graph_objects as go\n",
        "import cufflinks as cf\n",
        "from sklearn.metrics import accuracy_score"
      ],
      "execution_count": 2,
      "outputs": [
        {
          "output_type": "display_data",
          "data": {
            "text/html": [
              "<p style=\"color: red;\">\n",
              "The default version of TensorFlow in Colab will soon switch to TensorFlow 2.x.<br>\n",
              "We recommend you <a href=\"https://www.tensorflow.org/guide/migrate\" target=\"_blank\">upgrade</a> now \n",
              "or ensure your notebook will continue to use TensorFlow 1.x via the <code>%tensorflow_version 1.x</code> magic:\n",
              "<a href=\"https://colab.research.google.com/notebooks/tensorflow_version.ipynb\" target=\"_blank\">more info</a>.</p>\n"
            ],
            "text/plain": [
              "<IPython.core.display.HTML object>"
            ]
          },
          "metadata": {
            "tags": []
          }
        },
        {
          "output_type": "stream",
          "text": [
            "using Keras version: 2.2.4-tf\n"
          ],
          "name": "stdout"
        }
      ]
    },
    {
      "cell_type": "code",
      "metadata": {
        "id": "5XAZuPiqKa5_",
        "colab_type": "code",
        "outputId": "a34adbb0-0429-4311-8f75-067b7da10f7c",
        "colab": {
          "base_uri": "https://localhost:8080/",
          "height": 128
        }
      },
      "source": [
        "from google.colab import drive\n",
        "drive.mount('/content/drive')"
      ],
      "execution_count": 3,
      "outputs": [
        {
          "output_type": "stream",
          "text": [
            "Go to this URL in a browser: https://accounts.google.com/o/oauth2/auth?client_id=947318989803-6bn6qk8qdgf4n4g3pfee6491hc0brc4i.apps.googleusercontent.com&redirect_uri=urn%3aietf%3awg%3aoauth%3a2.0%3aoob&response_type=code&scope=email%20https%3a%2f%2fwww.googleapis.com%2fauth%2fdocs.test%20https%3a%2f%2fwww.googleapis.com%2fauth%2fdrive%20https%3a%2f%2fwww.googleapis.com%2fauth%2fdrive.photos.readonly%20https%3a%2f%2fwww.googleapis.com%2fauth%2fpeopleapi.readonly\n",
            "\n",
            "Enter your authorization code:\n",
            "··········\n",
            "Mounted at /content/drive\n"
          ],
          "name": "stdout"
        }
      ]
    },
    {
      "cell_type": "markdown",
      "metadata": {
        "id": "Xk44iUEHw-Hw",
        "colab_type": "text"
      },
      "source": [
        "## Data exploration and cleaning"
      ]
    },
    {
      "cell_type": "code",
      "metadata": {
        "id": "xHNUumUMKsV6",
        "colab_type": "code",
        "colab": {}
      },
      "source": [
        "path = '/content/drive/My Drive/News_Category_Dataset_v2.json'\n",
        "\n",
        "df_ = pd.read_json(path, lines=True)"
      ],
      "execution_count": 0,
      "outputs": []
    },
    {
      "cell_type": "code",
      "metadata": {
        "id": "ao3TxAAYWpHD",
        "colab_type": "code",
        "outputId": "682cceb3-c127-4698-ed4e-f61b7967fa63",
        "colab": {
          "base_uri": "https://localhost:8080/",
          "height": 198
        }
      },
      "source": [
        "df_['text'] = df_['authors']+' '+df_['headline'] +' '+ df_['short_description']\n",
        "\n",
        "df = df_.drop(['link', 'date', 'headline', 'short_description', 'authors'], axis=1)\n",
        "\n",
        "df.head()"
      ],
      "execution_count": 5,
      "outputs": [
        {
          "output_type": "execute_result",
          "data": {
            "text/html": [
              "<div>\n",
              "<style scoped>\n",
              "    .dataframe tbody tr th:only-of-type {\n",
              "        vertical-align: middle;\n",
              "    }\n",
              "\n",
              "    .dataframe tbody tr th {\n",
              "        vertical-align: top;\n",
              "    }\n",
              "\n",
              "    .dataframe thead th {\n",
              "        text-align: right;\n",
              "    }\n",
              "</style>\n",
              "<table border=\"1\" class=\"dataframe\">\n",
              "  <thead>\n",
              "    <tr style=\"text-align: right;\">\n",
              "      <th></th>\n",
              "      <th>category</th>\n",
              "      <th>text</th>\n",
              "    </tr>\n",
              "  </thead>\n",
              "  <tbody>\n",
              "    <tr>\n",
              "      <th>0</th>\n",
              "      <td>CRIME</td>\n",
              "      <td>Melissa Jeltsen There Were 2 Mass Shootings In...</td>\n",
              "    </tr>\n",
              "    <tr>\n",
              "      <th>1</th>\n",
              "      <td>ENTERTAINMENT</td>\n",
              "      <td>Andy McDonald Will Smith Joins Diplo And Nicky...</td>\n",
              "    </tr>\n",
              "    <tr>\n",
              "      <th>2</th>\n",
              "      <td>ENTERTAINMENT</td>\n",
              "      <td>Ron Dicker Hugh Grant Marries For The First Ti...</td>\n",
              "    </tr>\n",
              "    <tr>\n",
              "      <th>3</th>\n",
              "      <td>ENTERTAINMENT</td>\n",
              "      <td>Ron Dicker Jim Carrey Blasts 'Castrato' Adam S...</td>\n",
              "    </tr>\n",
              "    <tr>\n",
              "      <th>4</th>\n",
              "      <td>ENTERTAINMENT</td>\n",
              "      <td>Ron Dicker Julianna Margulies Uses Donald Trum...</td>\n",
              "    </tr>\n",
              "  </tbody>\n",
              "</table>\n",
              "</div>"
            ],
            "text/plain": [
              "        category                                               text\n",
              "0          CRIME  Melissa Jeltsen There Were 2 Mass Shootings In...\n",
              "1  ENTERTAINMENT  Andy McDonald Will Smith Joins Diplo And Nicky...\n",
              "2  ENTERTAINMENT  Ron Dicker Hugh Grant Marries For The First Ti...\n",
              "3  ENTERTAINMENT  Ron Dicker Jim Carrey Blasts 'Castrato' Adam S...\n",
              "4  ENTERTAINMENT  Ron Dicker Julianna Margulies Uses Donald Trum..."
            ]
          },
          "metadata": {
            "tags": []
          },
          "execution_count": 5
        }
      ]
    },
    {
      "cell_type": "code",
      "metadata": {
        "id": "odmDmtZbsPJ0",
        "colab_type": "code",
        "colab": {}
      },
      "source": [
        "cat_count = df['category'].value_counts()"
      ],
      "execution_count": 0,
      "outputs": []
    },
    {
      "cell_type": "code",
      "metadata": {
        "id": "P0jRDShpY5JK",
        "colab_type": "code",
        "colab": {}
      },
      "source": [
        "culture = ['ARTS & CULTURE', 'ARTS', 'CULTURE & ARTS']\n",
        "worldpost = ['WORLDPOST', 'THE WORLDPOST']\n",
        "parents = ['PARENTING', 'PARENTS']\n",
        "\n",
        "df['category'][df['category'].isin(culture)] = \"CULTURE\"\n",
        "df['category'][df['category'].isin(worldpost)] = \"WORLDPOST\"\n",
        "df['category'][df['category'].isin(parents)] = \"PARENTS\""
      ],
      "execution_count": 0,
      "outputs": []
    },
    {
      "cell_type": "code",
      "metadata": {
        "id": "VlAB29bedb8N",
        "colab_type": "code",
        "colab": {}
      },
      "source": [
        "cats = df.category.unique()\n",
        "def cat_to_num(lab):\n",
        "  return np.where(cats == lab)[0][0]\n",
        "\n",
        "df['label'] = df['category'].apply(cat_to_num)"
      ],
      "execution_count": 0,
      "outputs": []
    },
    {
      "cell_type": "code",
      "metadata": {
        "id": "7GwK8GwO6Ipn",
        "colab_type": "code",
        "colab": {}
      },
      "source": [
        "X_train, X_test, Y_train, Y_test = train_test_split(df['text'], df['label'])"
      ],
      "execution_count": 0,
      "outputs": []
    },
    {
      "cell_type": "markdown",
      "metadata": {
        "id": "tx_aZiFCuLD5",
        "colab_type": "text"
      },
      "source": [
        "\n",
        "## Feature engineering and downloading pretrained NBSVM model\n"
      ]
    },
    {
      "cell_type": "code",
      "metadata": {
        "id": "1DJsLVNos8cb",
        "colab_type": "code",
        "outputId": "89e7ab31-e3d4-4808-cc7d-fb324c35f437",
        "colab": {
          "base_uri": "https://localhost:8080/",
          "height": 204
        }
      },
      "source": [
        "(x_train, y_train), (x_test, y_test), preproc = ktrain.text.texts_from_array(\n",
        "                                                            x_train=X_train.to_list(), y_train=Y_train.to_list(),\n",
        "                                                            x_test=X_test.to_list(), y_test=Y_test.to_list(),\n",
        "                                                            class_names=list(cats),\n",
        "                                                            maxlen=350, \n",
        "                                                            max_features=35000)"
      ],
      "execution_count": 0,
      "outputs": [
        {
          "output_type": "stream",
          "text": [
            "language: en\n",
            "Word Counts: 117168\n",
            "Nrows: 150639\n",
            "150639 train sequences\n",
            "Average train sequence length: 32\n",
            "x_train shape: (150639,350)\n",
            "y_train shape: (150639,37)\n",
            "50214 test sequences\n",
            "Average test sequence length: 32\n",
            "x_test shape: (50214,350)\n",
            "y_test shape: (50214,37)\n"
          ],
          "name": "stdout"
        }
      ]
    },
    {
      "cell_type": "markdown",
      "metadata": {
        "id": "w42np1Bu19re",
        "colab_type": "text"
      },
      "source": [
        "## Model creation and training"
      ]
    },
    {
      "cell_type": "code",
      "metadata": {
        "id": "G40Q9Bakv239",
        "colab_type": "code",
        "outputId": "d66a2ecf-276f-4430-a383-37a242388228",
        "colab": {
          "base_uri": "https://localhost:8080/",
          "height": 391
        }
      },
      "source": [
        "tf.device('/device:GPU:0')\n",
        "model = ktrain.text.text_classifier('nbsvm', (x_train, y_train), preproc=preproc)\n",
        "learner = ktrain.get_learner(model,train_data=(x_train, y_train), batch_size=6,\n",
        "                             workers=-1, use_multiprocessing = True)"
      ],
      "execution_count": 0,
      "outputs": [
        {
          "output_type": "stream",
          "text": [
            "Is Multi-Label? False\n",
            "compiling word ID features...\n",
            "maxlen is 350\n",
            "building document-term matrix... this may take a few moments...\n",
            "rows: 1-10000\n",
            "rows: 10001-20000\n",
            "rows: 20001-30000\n",
            "rows: 30001-40000\n",
            "rows: 40001-50000\n",
            "rows: 50001-60000\n",
            "rows: 60001-70000\n",
            "rows: 70001-80000\n",
            "rows: 80001-90000\n",
            "rows: 90001-100000\n",
            "rows: 100001-110000\n",
            "rows: 110001-120000\n",
            "rows: 120001-130000\n",
            "rows: 130001-140000\n",
            "rows: 140001-150000\n",
            "rows: 150001-150639\n",
            "computing log-count ratios...\n",
            "done.\n"
          ],
          "name": "stdout"
        }
      ]
    },
    {
      "cell_type": "code",
      "metadata": {
        "id": "QSU-ix-lv3dY",
        "colab_type": "code",
        "outputId": "4fd107cc-abdd-484a-c9d7-ea981d3e3522",
        "colab": {
          "base_uri": "https://localhost:8080/",
          "height": 136
        }
      },
      "source": [
        "learner.lr_find()"
      ],
      "execution_count": 0,
      "outputs": [
        {
          "output_type": "stream",
          "text": [
            "simulating training for different learning rates... this may take a few moments...\n",
            "Train on 150639 samples\n",
            "Epoch 1/1024\n",
            "  9366/150639 [>.............................] - ETA: 1:26 - loss: 3.1787 - acc: 0.3655\n",
            "\n",
            "done.\n",
            "Please invoke the Learner.lr_plot() method to visually inspect the loss plot to help identify the maximal learning rate associated with falling loss.\n"
          ],
          "name": "stdout"
        }
      ]
    },
    {
      "cell_type": "code",
      "metadata": {
        "id": "QYVsFPB7wArh",
        "colab_type": "code",
        "outputId": "6febb4a3-8599-4c1b-96f1-734830d1c928",
        "colab": {
          "base_uri": "https://localhost:8080/",
          "height": 283
        }
      },
      "source": [
        "learner.lr_plot()"
      ],
      "execution_count": 0,
      "outputs": [
        {
          "output_type": "display_data",
          "data": {
            "image/png": "[encoded data removed]",
            "text/plain": [
              "<Figure size 432x288 with 1 Axes>"
            ]
          },
          "metadata": {
            "tags": []
          }
        }
      ]
    },
    {
      "cell_type": "code",
      "metadata": {
        "id": "9MHBkosKv_hZ",
        "colab_type": "code",
        "outputId": "1f7556ea-e5ef-421a-dd7d-2f8d6ca70506",
        "colab": {
          "base_uri": "https://localhost:8080/",
          "height": 204
        }
      },
      "source": [
        "learner.autofit(0.001, 3)"
      ],
      "execution_count": 0,
      "outputs": [
        {
          "output_type": "stream",
          "text": [
            "\n",
            "\n",
            "begin training using triangular learning rate policy with max lr of 0.001...\n",
            "Train on 150639 samples\n",
            "Epoch 1/3\n",
            "150639/150639 [==============================] - 124s 822us/sample - loss: 1.3549 - acc: 0.7081\n",
            "Epoch 2/3\n",
            "150639/150639 [==============================] - 123s 818us/sample - loss: 0.8560 - acc: 0.7711\n",
            "Epoch 3/3\n",
            "150639/150639 [==============================] - 123s 818us/sample - loss: 0.8053 - acc: 0.7839\n"
          ],
          "name": "stdout"
        },
        {
          "output_type": "execute_result",
          "data": {
            "text/plain": [
              "<tensorflow.python.keras.callbacks.History at 0x7f00da9b92b0>"
            ]
          },
          "metadata": {
            "tags": []
          },
          "execution_count": 50
        }
      ]
    },
    {
      "cell_type": "code",
      "metadata": {
        "id": "ukq6uwh66Orx",
        "colab_type": "code",
        "outputId": "41256f84-49a6-4664-f0ae-90f2aac6893f",
        "colab": {
          "base_uri": "https://localhost:8080/",
          "height": 884
        }
      },
      "source": [
        "learner.validate(val_data=(x_test, y_test), class_names=list(cats))"
      ],
      "execution_count": 0,
      "outputs": [
        {
          "output_type": "stream",
          "text": [
            "                precision    recall  f1-score   support\n",
            "\n",
            "         CRIME       0.54      0.70      0.61       814\n",
            " ENTERTAINMENT       0.85      0.74      0.79      3993\n",
            "    WORLD NEWS       0.31      0.54      0.39       510\n",
            "        IMPACT       0.54      0.46      0.49       853\n",
            "      POLITICS       0.88      0.80      0.84      8305\n",
            "    WEIRD NEWS       0.50      0.51      0.51       639\n",
            "  BLACK VOICES       0.66      0.55      0.60      1163\n",
            "         WOMEN       0.57      0.46      0.51       854\n",
            "        COMEDY       0.68      0.66      0.67      1298\n",
            "  QUEER VOICES       0.87      0.79      0.83      1616\n",
            "        SPORTS       0.78      0.78      0.78      1253\n",
            "      BUSINESS       0.70      0.50      0.58      1460\n",
            "        TRAVEL       0.88      0.83      0.85      2474\n",
            "         MEDIA       0.52      0.57      0.54       702\n",
            "          TECH       0.58      0.66      0.62       511\n",
            "      RELIGION       0.68      0.64      0.66       640\n",
            "       SCIENCE       0.59      0.68      0.63       530\n",
            " LATINO VOICES       0.28      0.70      0.40       290\n",
            "     EDUCATION       0.21      0.61      0.31       267\n",
            "       COLLEGE       0.30      0.54      0.38       296\n",
            "       PARENTS       0.80      0.76      0.78      3168\n",
            "       CULTURE       0.76      0.71      0.73       951\n",
            "         STYLE       0.52      0.54      0.53       582\n",
            "         GREEN       0.53      0.40      0.45       623\n",
            "         TASTE       0.58      0.77      0.66       526\n",
            "HEALTHY LIVING       0.72      0.47      0.57      1648\n",
            "     WORLDPOST       0.71      0.54      0.61      1553\n",
            "     GOOD NEWS       0.31      0.69      0.43       348\n",
            "         FIFTY       0.29      0.72      0.41       373\n",
            "      WELLNESS       0.82      0.80      0.81      4478\n",
            " HOME & LIVING       0.90      0.85      0.87      1085\n",
            "STYLE & BEAUTY       0.84      0.87      0.85      2451\n",
            "       DIVORCE       0.72      0.80      0.76       819\n",
            "      WEDDINGS       0.80      0.81      0.80       915\n",
            "  FOOD & DRINK       0.86      0.82      0.84      1518\n",
            "         MONEY       0.42      0.67      0.52       406\n",
            "   ENVIRONMENT       0.28      0.69      0.40       302\n",
            "\n",
            "      accuracy                           0.72     50214\n",
            "     macro avg       0.62      0.67      0.62     50214\n",
            "  weighted avg       0.75      0.72      0.73     50214\n",
            "\n"
          ],
          "name": "stdout"
        },
        {
          "output_type": "execute_result",
          "data": {
            "text/plain": [
              "array([[ 573,    3,    9, ...,    0,    3,    9],\n",
              "       [  32, 2964,   15, ...,    2,    6,   13],\n",
              "       [   7,    2,  274, ...,    0,    0,    3],\n",
              "       ...,\n",
              "       [   0,    8,    0, ..., 1245,    3,   11],\n",
              "       [   5,    4,    2, ...,    1,  270,    8],\n",
              "       [   2,    4,    4, ...,    5,    6,  209]])"
            ]
          },
          "metadata": {
            "tags": []
          },
          "execution_count": 51
        }
      ]
    },
    {
      "cell_type": "markdown",
      "metadata": {
        "id": "UnHrvfDgxQdi",
        "colab_type": "text"
      },
      "source": [
        "# fasttext model"
      ]
    },
    {
      "cell_type": "code",
      "metadata": {
        "id": "hyTOukASxgfK",
        "colab_type": "code",
        "outputId": "cb1018bd-ac2a-4366-cf4f-1e0e4df37bc4",
        "colab": {
          "base_uri": "https://localhost:8080/",
          "height": 85
        }
      },
      "source": [
        "model = ktrain.text.text_classifier('fasttext', (x_train, y_train), preproc=preproc)\n",
        "learner = ktrain.get_learner(model,train_data=(x_train, y_train), batch_size=6,\n",
        "                             workers=-1, use_multiprocessing = True)"
      ],
      "execution_count": 0,
      "outputs": [
        {
          "output_type": "stream",
          "text": [
            "Is Multi-Label? False\n",
            "compiling word ID features...\n",
            "maxlen is 350\n",
            "done.\n"
          ],
          "name": "stdout"
        }
      ]
    },
    {
      "cell_type": "code",
      "metadata": {
        "id": "oyCUhkldxr49",
        "colab_type": "code",
        "outputId": "f5762f91-ec89-4460-b828-d90b161acb35",
        "colab": {
          "base_uri": "https://localhost:8080/",
          "height": 136
        }
      },
      "source": [
        "learner.lr_find()"
      ],
      "execution_count": 0,
      "outputs": [
        {
          "output_type": "stream",
          "text": [
            "simulating training for different learning rates... this may take a few moments...\n",
            "Train on 150639 samples\n",
            "Epoch 1/1024\n",
            " 10224/150639 [=>............................] - ETA: 2:17 - loss: 3.7169 - acc: 0.0737\n",
            "\n",
            "done.\n",
            "Please invoke the Learner.lr_plot() method to visually inspect the loss plot to help identify the maximal learning rate associated with falling loss.\n"
          ],
          "name": "stdout"
        }
      ]
    },
    {
      "cell_type": "code",
      "metadata": {
        "id": "QopCwXimxxcV",
        "colab_type": "code",
        "outputId": "7c7601c8-8bfe-4dba-9d54-78729b9375d0",
        "colab": {
          "base_uri": "https://localhost:8080/",
          "height": 283
        }
      },
      "source": [
        "learner.lr_plot()"
      ],
      "execution_count": 0,
      "outputs": [
        {
          "output_type": "display_data",
          "data": {
            "image/png": "[encoded data removed]",
            "text/plain": [
              "<Figure size 432x288 with 1 Axes>"
            ]
          },
          "metadata": {
            "tags": []
          }
        }
      ]
    },
    {
      "cell_type": "code",
      "metadata": {
        "id": "BSN_Tql6x0qg",
        "colab_type": "code",
        "outputId": "c774e6a1-e8df-4860-8dff-d17cd217fd0a",
        "colab": {
          "base_uri": "https://localhost:8080/",
          "height": 204
        }
      },
      "source": [
        "learner.autofit(0.2, 3)"
      ],
      "execution_count": 0,
      "outputs": [
        {
          "output_type": "stream",
          "text": [
            "\n",
            "\n",
            "begin training using triangular learning rate policy with max lr of 0.2...\n",
            "Train on 150639 samples\n",
            "Epoch 1/3\n",
            "150639/150639 [==============================] - 178s 1ms/sample - loss: 3.2628 - acc: 0.1560\n",
            "Epoch 2/3\n",
            "150639/150639 [==============================] - 176s 1ms/sample - loss: 3.2616 - acc: 0.1561\n",
            "Epoch 3/3\n",
            "150639/150639 [==============================] - 177s 1ms/sample - loss: 3.2614 - acc: 0.1565\n"
          ],
          "name": "stdout"
        },
        {
          "output_type": "execute_result",
          "data": {
            "text/plain": [
              "<tensorflow.python.keras.callbacks.History at 0x7f00da5c44e0>"
            ]
          },
          "metadata": {
            "tags": []
          },
          "execution_count": 58
        }
      ]
    },
    {
      "cell_type": "code",
      "metadata": {
        "id": "rKRXJUvCx9N2",
        "colab_type": "code",
        "outputId": "3e6b42c5-b668-4fc6-a8a2-fd228da357f8",
        "colab": {
          "base_uri": "https://localhost:8080/",
          "height": 952
        }
      },
      "source": [
        "learner.validate(val_data=(x_test, y_test), class_names=list(cats))"
      ],
      "execution_count": 0,
      "outputs": [
        {
          "output_type": "stream",
          "text": [
            "                precision    recall  f1-score   support\n",
            "\n",
            "         CRIME       0.00      0.00      0.00       814\n",
            " ENTERTAINMENT       0.00      0.00      0.00      3993\n",
            "    WORLD NEWS       0.00      0.00      0.00       510\n",
            "        IMPACT       0.00      0.00      0.00       853\n",
            "      POLITICS       0.17      1.00      0.28      8305\n",
            "    WEIRD NEWS       0.00      0.00      0.00       639\n",
            "  BLACK VOICES       0.00      0.00      0.00      1163\n",
            "         WOMEN       0.00      0.00      0.00       854\n",
            "        COMEDY       0.00      0.00      0.00      1298\n",
            "  QUEER VOICES       0.00      0.00      0.00      1616\n",
            "        SPORTS       0.00      0.00      0.00      1253\n",
            "      BUSINESS       0.00      0.00      0.00      1460\n",
            "        TRAVEL       0.00      0.00      0.00      2474\n",
            "         MEDIA       0.00      0.00      0.00       702\n",
            "          TECH       0.00      0.00      0.00       511\n",
            "      RELIGION       0.00      0.00      0.00       640\n",
            "       SCIENCE       0.00      0.00      0.00       530\n",
            " LATINO VOICES       0.00      0.00      0.00       290\n",
            "     EDUCATION       0.00      0.00      0.00       267\n",
            "       COLLEGE       0.00      0.00      0.00       296\n",
            "       PARENTS       0.00      0.00      0.00      3168\n",
            "       CULTURE       0.00      0.00      0.00       951\n",
            "         STYLE       0.00      0.00      0.00       582\n",
            "         GREEN       0.00      0.00      0.00       623\n",
            "         TASTE       0.00      0.00      0.00       526\n",
            "HEALTHY LIVING       0.00      0.00      0.00      1648\n",
            "     WORLDPOST       0.00      0.00      0.00      1553\n",
            "     GOOD NEWS       0.00      0.00      0.00       348\n",
            "         FIFTY       0.00      0.00      0.00       373\n",
            "      WELLNESS       0.00      0.00      0.00      4478\n",
            " HOME & LIVING       0.00      0.00      0.00      1085\n",
            "STYLE & BEAUTY       0.00      0.00      0.00      2451\n",
            "       DIVORCE       0.00      0.00      0.00       819\n",
            "      WEDDINGS       0.00      0.00      0.00       915\n",
            "  FOOD & DRINK       0.00      0.00      0.00      1518\n",
            "         MONEY       0.00      0.00      0.00       406\n",
            "   ENVIRONMENT       0.00      0.00      0.00       302\n",
            "\n",
            "      accuracy                           0.17     50214\n",
            "     macro avg       0.00      0.03      0.01     50214\n",
            "  weighted avg       0.03      0.17      0.05     50214\n",
            "\n"
          ],
          "name": "stdout"
        },
        {
          "output_type": "stream",
          "text": [
            "/usr/local/lib/python3.6/dist-packages/sklearn/metrics/classification.py:1437: UndefinedMetricWarning:\n",
            "\n",
            "Precision and F-score are ill-defined and being set to 0.0 in labels with no predicted samples.\n",
            "\n"
          ],
          "name": "stderr"
        },
        {
          "output_type": "execute_result",
          "data": {
            "text/plain": [
              "array([[0, 0, 0, ..., 0, 0, 0],\n",
              "       [0, 0, 0, ..., 0, 0, 0],\n",
              "       [0, 0, 0, ..., 0, 0, 0],\n",
              "       ...,\n",
              "       [0, 0, 0, ..., 0, 0, 0],\n",
              "       [0, 0, 0, ..., 0, 0, 0],\n",
              "       [0, 0, 0, ..., 0, 0, 0]])"
            ]
          },
          "metadata": {
            "tags": []
          },
          "execution_count": 59
        }
      ]
    },
    {
      "cell_type": "markdown",
      "metadata": {
        "id": "IvKX7VAlywVw",
        "colab_type": "text"
      },
      "source": [
        "# Using simpletransformers"
      ]
    },
    {
      "cell_type": "code",
      "metadata": {
        "id": "0hTPMDavEa4Z",
        "colab_type": "code",
        "colab": {}
      },
      "source": [
        "!wget https://repo.anaconda.com/archive/Anaconda3-5.2.0-Linux-x86_64.sh && bash Anaconda3-5.2.0-Linux-x86_64.sh -bfp /usr/local"
      ],
      "execution_count": 0,
      "outputs": []
    },
    {
      "cell_type": "code",
      "metadata": {
        "id": "-KTM3QYwEgse",
        "colab_type": "code",
        "colab": {}
      },
      "source": [
        "import sys\n",
        "sys.path.append('/usr/local/lib/python3.6/site-packages')"
      ],
      "execution_count": 0,
      "outputs": []
    },
    {
      "cell_type": "code",
      "metadata": {
        "id": "Rf1iZ19qEGnf",
        "colab_type": "code",
        "colab": {}
      },
      "source": [
        "!conda install -y -q pytorch cudatoolkit=10.0 -c pytorch"
      ],
      "execution_count": 0,
      "outputs": []
    },
    {
      "cell_type": "code",
      "metadata": {
        "id": "x6DfhpVxGGHf",
        "colab_type": "code",
        "outputId": "70049b2f-3b23-4383-c22d-1a0413e35f4c",
        "colab": {
          "base_uri": "https://localhost:8080/",
          "height": 35
        }
      },
      "source": [
        "%%writefile setup.sh\n",
        "\n",
        "git clone https://github.com/NVIDIA/apex\n",
        "pip install -v --no-cache-dir --global-option=\"--cpp_ext\" --global-option=\"--cuda_ext\" ./apex"
      ],
      "execution_count": 13,
      "outputs": [
        {
          "output_type": "stream",
          "text": [
            "Writing setup.sh\n"
          ],
          "name": "stdout"
        }
      ]
    },
    {
      "cell_type": "code",
      "metadata": {
        "id": "m2zYpZ6BGkD7",
        "colab_type": "code",
        "colab": {}
      },
      "source": [
        "!sh setup.sh"
      ],
      "execution_count": 0,
      "outputs": []
    },
    {
      "cell_type": "code",
      "metadata": {
        "id": "lm5Rv1aXy45C",
        "colab_type": "code",
        "colab": {}
      },
      "source": [
        "train = pd.concat([X_train, Y_train], axis=1)\n",
        "test = pd.concat([X_test, Y_test], axis=1)"
      ],
      "execution_count": 0,
      "outputs": []
    },
    {
      "cell_type": "code",
      "metadata": {
        "id": "rTmKMYzZXgsj",
        "colab_type": "code",
        "colab": {}
      },
      "source": [
        "train['text'] = train['text'].apply(lambda x: x.replace('\\\\', ' '))\n",
        "test['text'] = test['text'].apply(lambda x: x.replace('\\\\', ' '))"
      ],
      "execution_count": 0,
      "outputs": []
    },
    {
      "cell_type": "code",
      "metadata": {
        "id": "Uc0QmSq6y52I",
        "colab_type": "code",
        "colab": {}
      },
      "source": [
        "model = ClassificationModel('albert', 'albert-base-v2', num_labels=len(cats),\n",
        "                            args={'reprocess_input_data': True,\n",
        "                                  'overwrite_output_dir': True,\n",
        "                                  'fp16_opt_level': 'O3',\n",
        "                                  'keep_batchnorm_fp32':True,\n",
        "                                  \"output_dir\": \"/content/drive/My Drive/NewsBert/outputs/\",\n",
        "                                  \"cache_dir\": \"/content/drive/My Drive/NewsBert/cache_dir/\",\n",
        "                                  \"learning_rate\": 2e-5,\n",
        "                                  \"num_train_epochs\": 3,\n",
        "                                  'max_seq_length': 300,\n",
        "                                  'silent': True,\n",
        "                                  'tensorboard_folder': \"/content/drive/My Drive/NewsBert/run/\"})"
      ],
      "execution_count": 0,
      "outputs": []
    },
    {
      "cell_type": "code",
      "metadata": {
        "id": "juiJOPNSy6PM",
        "colab_type": "code",
        "colab": {}
      },
      "source": [
        "model.train_model(train)"
      ],
      "execution_count": 0,
      "outputs": []
    },
    {
      "cell_type": "code",
      "metadata": {
        "id": "DqzDrRFt7v0r",
        "colab_type": "code",
        "colab": {}
      },
      "source": [
        "reloaded_model = ClassificationModel('albert', '/content/drive/My Drive/NewsBert/outputs/', num_labels=len(cats),\n",
        "                            args={'reprocess_input_data': True,\n",
        "                                  'overwrite_output_dir': True,\n",
        "                                  \"output_dir\": \"/content/drive/My Drive/NewsBert/outputs/\",\n",
        "                                  \"cache_dir\": \"/content/drive/My Drive/NewsBert/cache_dir/\",\n",
        "                                  \"learning_rate\": 5e-5,\n",
        "                                  \"num_train_epochs\": 1,\n",
        "                                  'max_seq_length': 300,\n",
        "                                  'tensorboard_folder': \"/content/drive/My Drive/NewsBert/run/\"})"
      ],
      "execution_count": 0,
      "outputs": []
    },
    {
      "cell_type": "code",
      "metadata": {
        "id": "AQkEBO23y6v8",
        "colab_type": "code",
        "colab": {
          "base_uri": "https://localhost:8080/",
          "height": 108
        },
        "outputId": "1485aa80-cfdd-496e-e808-484aed2257f3"
      },
      "source": [
        "result, model_outputs, wrong_predictions = model.eval_model(test, acc=sk.metrics.accuracy_score)"
      ],
      "execution_count": 21,
      "outputs": [
        {
          "output_type": "stream",
          "text": [
            "Converting to features started.\n"
          ],
          "name": "stdout"
        },
        {
          "output_type": "stream",
          "text": [
            "/usr/local/lib/python3.6/dist-packages/sklearn/metrics/classification.py:872: RuntimeWarning:\n",
            "\n",
            "invalid value encountered in double_scalars\n",
            "\n"
          ],
          "name": "stderr"
        }
      ]
    },
    {
      "cell_type": "code",
      "metadata": {
        "id": "UffbAaof_kih",
        "colab_type": "code",
        "colab": {}
      },
      "source": [
        "result"
      ],
      "execution_count": 0,
      "outputs": []
    },
    {
      "cell_type": "code",
      "metadata": {
        "id": "r6qc40MJITg9",
        "colab_type": "code",
        "colab": {}
      },
      "source": [
        "train.head()"
      ],
      "execution_count": 0,
      "outputs": []
    },
    {
      "cell_type": "code",
      "metadata": {
        "id": "DN04DHfgJ3Jq",
        "colab_type": "code",
        "colab": {}
      },
      "source": [
        "train.info()"
      ],
      "execution_count": 0,
      "outputs": []
    },
    {
      "cell_type": "code",
      "metadata": {
        "id": "JgaG89SbKTtI",
        "colab_type": "code",
        "colab": {}
      },
      "source": [
        ""
      ],
      "execution_count": 0,
      "outputs": []
    }
  ]
}