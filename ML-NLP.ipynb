{
 "cells": [
  {
   "cell_type": "code",
   "execution_count": 97,
   "metadata": {},
   "outputs": [
    {
     "data": {
      "text/html": [
       "        <script type=\"text/javascript\">\n",
       "        window.PlotlyConfig = {MathJaxConfig: 'local'};\n",
       "        if (window.MathJax) {MathJax.Hub.Config({SVG: {font: \"STIX-Web\"}});}\n",
       "        if (typeof require !== 'undefined') {\n",
       "        require.undef(\"plotly\");\n",
       "        requirejs.config({\n",
       "            paths: {\n",
       "                'plotly': ['https://cdn.plot.ly/plotly-latest.min']\n",
       "            }\n",
       "        });\n",
       "        require(['plotly'], function(Plotly) {\n",
       "            window._Plotly = Plotly;\n",
       "        });\n",
       "        }\n",
       "        </script>\n",
       "        "
      ]
     },
     "metadata": {},
     "output_type": "display_data"
    }
   ],
   "source": [
    "import pandas as pd\n",
    "from plotly.offline import init_notebook_mode,iplot\n",
    "import plotly.graph_objects as go\n",
    "import cufflinks as cf\n",
    "import matplotlib.pyplot as plt\n",
    "\n",
    "from sklearn.model_selection import train_test_split\n",
    "\n",
    "%matplotlib inline\n",
    "init_notebook_mode(connected=True)"
   ]
  },
  {
   "cell_type": "code",
   "execution_count": 110,
   "metadata": {},
   "outputs": [
    {
     "name": "stdout",
     "output_type": "stream",
     "text": [
      "<class 'pandas.core.frame.DataFrame'>\n",
      "RangeIndex: 200853 entries, 0 to 200852\n",
      "Data columns (total 6 columns):\n",
      "category             200853 non-null object\n",
      "headline             200853 non-null object\n",
      "authors              200853 non-null object\n",
      "link                 200853 non-null object\n",
      "short_description    200853 non-null object\n",
      "date                 200853 non-null datetime64[ns]\n",
      "dtypes: datetime64[ns](1), object(5)\n",
      "memory usage: 9.2+ MB\n"
     ]
    }
   ],
   "source": [
    "df_ = pd.read_json('News_Category_Dataset_v2.json', lines=True)\n",
    "\n",
    "df_.info()"
   ]
  },
  {
   "cell_type": "code",
   "execution_count": 78,
   "metadata": {},
   "outputs": [
    {
     "data": {
      "text/html": [
       "<div>\n",
       "<style scoped>\n",
       "    .dataframe tbody tr th:only-of-type {\n",
       "        vertical-align: middle;\n",
       "    }\n",
       "\n",
       "    .dataframe tbody tr th {\n",
       "        vertical-align: top;\n",
       "    }\n",
       "\n",
       "    .dataframe thead th {\n",
       "        text-align: right;\n",
       "    }\n",
       "</style>\n",
       "<table border=\"1\" class=\"dataframe\">\n",
       "  <thead>\n",
       "    <tr style=\"text-align: right;\">\n",
       "      <th></th>\n",
       "      <th>category</th>\n",
       "      <th>headline</th>\n",
       "      <th>authors</th>\n",
       "      <th>link</th>\n",
       "      <th>short_description</th>\n",
       "      <th>date</th>\n",
       "    </tr>\n",
       "  </thead>\n",
       "  <tbody>\n",
       "    <tr>\n",
       "      <td>0</td>\n",
       "      <td>CRIME</td>\n",
       "      <td>There Were 2 Mass Shootings In Texas Last Week...</td>\n",
       "      <td>Melissa Jeltsen</td>\n",
       "      <td>https://www.huffingtonpost.com/entry/texas-ama...</td>\n",
       "      <td>She left her husband. He killed their children...</td>\n",
       "      <td>2018-05-26</td>\n",
       "    </tr>\n",
       "    <tr>\n",
       "      <td>1</td>\n",
       "      <td>ENTERTAINMENT</td>\n",
       "      <td>Will Smith Joins Diplo And Nicky Jam For The 2...</td>\n",
       "      <td>Andy McDonald</td>\n",
       "      <td>https://www.huffingtonpost.com/entry/will-smit...</td>\n",
       "      <td>Of course it has a song.</td>\n",
       "      <td>2018-05-26</td>\n",
       "    </tr>\n",
       "    <tr>\n",
       "      <td>2</td>\n",
       "      <td>ENTERTAINMENT</td>\n",
       "      <td>Hugh Grant Marries For The First Time At Age 57</td>\n",
       "      <td>Ron Dicker</td>\n",
       "      <td>https://www.huffingtonpost.com/entry/hugh-gran...</td>\n",
       "      <td>The actor and his longtime girlfriend Anna Ebe...</td>\n",
       "      <td>2018-05-26</td>\n",
       "    </tr>\n",
       "    <tr>\n",
       "      <td>3</td>\n",
       "      <td>ENTERTAINMENT</td>\n",
       "      <td>Jim Carrey Blasts 'Castrato' Adam Schiff And D...</td>\n",
       "      <td>Ron Dicker</td>\n",
       "      <td>https://www.huffingtonpost.com/entry/jim-carre...</td>\n",
       "      <td>The actor gives Dems an ass-kicking for not fi...</td>\n",
       "      <td>2018-05-26</td>\n",
       "    </tr>\n",
       "    <tr>\n",
       "      <td>4</td>\n",
       "      <td>ENTERTAINMENT</td>\n",
       "      <td>Julianna Margulies Uses Donald Trump Poop Bags...</td>\n",
       "      <td>Ron Dicker</td>\n",
       "      <td>https://www.huffingtonpost.com/entry/julianna-...</td>\n",
       "      <td>The \"Dietland\" actress said using the bags is ...</td>\n",
       "      <td>2018-05-26</td>\n",
       "    </tr>\n",
       "  </tbody>\n",
       "</table>\n",
       "</div>"
      ],
      "text/plain": [
       "        category                                           headline  \\\n",
       "0          CRIME  There Were 2 Mass Shootings In Texas Last Week...   \n",
       "1  ENTERTAINMENT  Will Smith Joins Diplo And Nicky Jam For The 2...   \n",
       "2  ENTERTAINMENT    Hugh Grant Marries For The First Time At Age 57   \n",
       "3  ENTERTAINMENT  Jim Carrey Blasts 'Castrato' Adam Schiff And D...   \n",
       "4  ENTERTAINMENT  Julianna Margulies Uses Donald Trump Poop Bags...   \n",
       "\n",
       "           authors                                               link  \\\n",
       "0  Melissa Jeltsen  https://www.huffingtonpost.com/entry/texas-ama...   \n",
       "1    Andy McDonald  https://www.huffingtonpost.com/entry/will-smit...   \n",
       "2       Ron Dicker  https://www.huffingtonpost.com/entry/hugh-gran...   \n",
       "3       Ron Dicker  https://www.huffingtonpost.com/entry/jim-carre...   \n",
       "4       Ron Dicker  https://www.huffingtonpost.com/entry/julianna-...   \n",
       "\n",
       "                                   short_description       date  \n",
       "0  She left her husband. He killed their children... 2018-05-26  \n",
       "1                           Of course it has a song. 2018-05-26  \n",
       "2  The actor and his longtime girlfriend Anna Ebe... 2018-05-26  \n",
       "3  The actor gives Dems an ass-kicking for not fi... 2018-05-26  \n",
       "4  The \"Dietland\" actress said using the bags is ... 2018-05-26  "
      ]
     },
     "execution_count": 78,
     "metadata": {},
     "output_type": "execute_result"
    }
   ],
   "source": [
    "df_.head()"
   ]
  },
  {
   "cell_type": "markdown",
   "metadata": {},
   "source": [
    "Eliminando columnas innecesarias y creando columna texto"
   ]
  },
  {
   "cell_type": "code",
   "execution_count": 122,
   "metadata": {},
   "outputs": [
    {
     "data": {
      "text/html": [
       "<div>\n",
       "<style scoped>\n",
       "    .dataframe tbody tr th:only-of-type {\n",
       "        vertical-align: middle;\n",
       "    }\n",
       "\n",
       "    .dataframe tbody tr th {\n",
       "        vertical-align: top;\n",
       "    }\n",
       "\n",
       "    .dataframe thead th {\n",
       "        text-align: right;\n",
       "    }\n",
       "</style>\n",
       "<table border=\"1\" class=\"dataframe\">\n",
       "  <thead>\n",
       "    <tr style=\"text-align: right;\">\n",
       "      <th></th>\n",
       "      <th>category</th>\n",
       "      <th>headline</th>\n",
       "      <th>authors</th>\n",
       "      <th>link</th>\n",
       "      <th>short_description</th>\n",
       "      <th>date</th>\n",
       "    </tr>\n",
       "  </thead>\n",
       "  <tbody>\n",
       "    <tr>\n",
       "      <td>6194</td>\n",
       "      <td>PARENTS</td>\n",
       "      <td>40 Tweets That Sum Up Life With 4-Year-Olds</td>\n",
       "      <td>Caroline Bologna</td>\n",
       "      <td>https://www.huffingtonpost.com/entry/40-tweets...</td>\n",
       "      <td>\"Hell hath no fury like a 4yo whose apple slic...</td>\n",
       "      <td>2018-02-06</td>\n",
       "    </tr>\n",
       "    <tr>\n",
       "      <td>6524</td>\n",
       "      <td>PARENTS</td>\n",
       "      <td>These Were The Trendiest Baby Names In The Lat...</td>\n",
       "      <td>Caroline Bologna</td>\n",
       "      <td>https://www.huffingtonpost.com/entry/these-wer...</td>\n",
       "      <td>Shout out to the Jessicas and Ambers of the wo...</td>\n",
       "      <td>2018-01-31</td>\n",
       "    </tr>\n",
       "    <tr>\n",
       "      <td>6625</td>\n",
       "      <td>PARENTS</td>\n",
       "      <td>These Quotes From Kids Are Hilarious, Adorable...</td>\n",
       "      <td>Caroline Bologna</td>\n",
       "      <td>https://www.huffingtonpost.com/entry/hilarious...</td>\n",
       "      <td>\"Mommy, this song sounds a lot like the McDonn...</td>\n",
       "      <td>2018-01-30</td>\n",
       "    </tr>\n",
       "    <tr>\n",
       "      <td>6848</td>\n",
       "      <td>PARENTS</td>\n",
       "      <td>30 'Star Wars'-Inspired Names Parents Are Givi...</td>\n",
       "      <td>Caroline Bologna</td>\n",
       "      <td>https://www.huffingtonpost.com/entry/star-wars...</td>\n",
       "      <td>Get ready to meet some more Kylos and Anakins.</td>\n",
       "      <td>2018-01-26</td>\n",
       "    </tr>\n",
       "    <tr>\n",
       "      <td>6955</td>\n",
       "      <td>PARENTS</td>\n",
       "      <td>Parents Are Honoring Their Favorite Musicians ...</td>\n",
       "      <td>Caroline Bologna</td>\n",
       "      <td>https://www.huffingtonpost.com/entry/musician-...</td>\n",
       "      <td>From Wilco and Beyonce to Jagger and Bowie.</td>\n",
       "      <td>2018-01-24</td>\n",
       "    </tr>\n",
       "    <tr>\n",
       "      <td>...</td>\n",
       "      <td>...</td>\n",
       "      <td>...</td>\n",
       "      <td>...</td>\n",
       "      <td>...</td>\n",
       "      <td>...</td>\n",
       "      <td>...</td>\n",
       "    </tr>\n",
       "    <tr>\n",
       "      <td>200726</td>\n",
       "      <td>PARENTING</td>\n",
       "      <td>Awesomely Geeky Dad Dicken Schrader Collaborat...</td>\n",
       "      <td></td>\n",
       "      <td>https://www.huffingtonpost.com/entry/dicken-sc...</td>\n",
       "      <td>All the ingredients for a classic embarrassing...</td>\n",
       "      <td>2012-01-29</td>\n",
       "    </tr>\n",
       "    <tr>\n",
       "      <td>200738</td>\n",
       "      <td>PARENTING</td>\n",
       "      <td>Backyard Boys</td>\n",
       "      <td>Janell Burley Hofmann, Contributor\\nAuthor of ...</td>\n",
       "      <td>https://www.huffingtonpost.com/entry/backyard-...</td>\n",
       "      <td>Long before leadership courses, sensitivity tr...</td>\n",
       "      <td>2012-01-29</td>\n",
       "    </tr>\n",
       "    <tr>\n",
       "      <td>200789</td>\n",
       "      <td>PARENTING</td>\n",
       "      <td>With Friends Like These</td>\n",
       "      <td>Devon Corneal, Contributor\\nMother, writer, la...</td>\n",
       "      <td>https://www.huffingtonpost.com/entry/mom-frien...</td>\n",
       "      <td>I didn't appreciate the freedom of introducing...</td>\n",
       "      <td>2012-01-28</td>\n",
       "    </tr>\n",
       "    <tr>\n",
       "      <td>200791</td>\n",
       "      <td>PARENTING</td>\n",
       "      <td>Confession: This Pediatrician Is a Sleep Softie</td>\n",
       "      <td>Claire McCarthy, M.D., Contributor\\nPediatrici...</td>\n",
       "      <td>https://www.huffingtonpost.com/entry/co-sleepi...</td>\n",
       "      <td>This may not be a great confession to make as ...</td>\n",
       "      <td>2012-01-28</td>\n",
       "    </tr>\n",
       "    <tr>\n",
       "      <td>200807</td>\n",
       "      <td>PARENTING</td>\n",
       "      <td>Teen Responsibility Doesn't Happen -- It's Nur...</td>\n",
       "      <td>Gwenn Schurgin O'Keeffe, MD, Contributor\\nPedi...</td>\n",
       "      <td>https://www.huffingtonpost.com/entry/teaching-...</td>\n",
       "      <td>Do you feel kids today are as responsible as k...</td>\n",
       "      <td>2012-01-28</td>\n",
       "    </tr>\n",
       "  </tbody>\n",
       "</table>\n",
       "<p>12632 rows × 6 columns</p>\n",
       "</div>"
      ],
      "text/plain": [
       "         category                                           headline  \\\n",
       "6194      PARENTS        40 Tweets That Sum Up Life With 4-Year-Olds   \n",
       "6524      PARENTS  These Were The Trendiest Baby Names In The Lat...   \n",
       "6625      PARENTS  These Quotes From Kids Are Hilarious, Adorable...   \n",
       "6848      PARENTS  30 'Star Wars'-Inspired Names Parents Are Givi...   \n",
       "6955      PARENTS  Parents Are Honoring Their Favorite Musicians ...   \n",
       "...           ...                                                ...   \n",
       "200726  PARENTING  Awesomely Geeky Dad Dicken Schrader Collaborat...   \n",
       "200738  PARENTING                                      Backyard Boys   \n",
       "200789  PARENTING                            With Friends Like These   \n",
       "200791  PARENTING    Confession: This Pediatrician Is a Sleep Softie   \n",
       "200807  PARENTING  Teen Responsibility Doesn't Happen -- It's Nur...   \n",
       "\n",
       "                                                  authors  \\\n",
       "6194                                     Caroline Bologna   \n",
       "6524                                     Caroline Bologna   \n",
       "6625                                     Caroline Bologna   \n",
       "6848                                     Caroline Bologna   \n",
       "6955                                     Caroline Bologna   \n",
       "...                                                   ...   \n",
       "200726                                                      \n",
       "200738  Janell Burley Hofmann, Contributor\\nAuthor of ...   \n",
       "200789  Devon Corneal, Contributor\\nMother, writer, la...   \n",
       "200791  Claire McCarthy, M.D., Contributor\\nPediatrici...   \n",
       "200807  Gwenn Schurgin O'Keeffe, MD, Contributor\\nPedi...   \n",
       "\n",
       "                                                     link  \\\n",
       "6194    https://www.huffingtonpost.com/entry/40-tweets...   \n",
       "6524    https://www.huffingtonpost.com/entry/these-wer...   \n",
       "6625    https://www.huffingtonpost.com/entry/hilarious...   \n",
       "6848    https://www.huffingtonpost.com/entry/star-wars...   \n",
       "6955    https://www.huffingtonpost.com/entry/musician-...   \n",
       "...                                                   ...   \n",
       "200726  https://www.huffingtonpost.com/entry/dicken-sc...   \n",
       "200738  https://www.huffingtonpost.com/entry/backyard-...   \n",
       "200789  https://www.huffingtonpost.com/entry/mom-frien...   \n",
       "200791  https://www.huffingtonpost.com/entry/co-sleepi...   \n",
       "200807  https://www.huffingtonpost.com/entry/teaching-...   \n",
       "\n",
       "                                        short_description       date  \n",
       "6194    \"Hell hath no fury like a 4yo whose apple slic... 2018-02-06  \n",
       "6524    Shout out to the Jessicas and Ambers of the wo... 2018-01-31  \n",
       "6625    \"Mommy, this song sounds a lot like the McDonn... 2018-01-30  \n",
       "6848       Get ready to meet some more Kylos and Anakins. 2018-01-26  \n",
       "6955          From Wilco and Beyonce to Jagger and Bowie. 2018-01-24  \n",
       "...                                                   ...        ...  \n",
       "200726  All the ingredients for a classic embarrassing... 2012-01-29  \n",
       "200738  Long before leadership courses, sensitivity tr... 2012-01-29  \n",
       "200789  I didn't appreciate the freedom of introducing... 2012-01-28  \n",
       "200791  This may not be a great confession to make as ... 2012-01-28  \n",
       "200807  Do you feel kids today are as responsible as k... 2012-01-28  \n",
       "\n",
       "[12632 rows x 6 columns]"
      ]
     },
     "execution_count": 122,
     "metadata": {},
     "output_type": "execute_result"
    }
   ],
   "source": [
    "df_.query('category == \"PARENTS\" or category == \"PARENTING\"')"
   ]
  },
  {
   "cell_type": "code",
   "execution_count": 132,
   "metadata": {},
   "outputs": [
    {
     "name": "stdout",
     "output_type": "stream",
     "text": [
      "authors                                                Melissa Jeltsen\n",
      "headline             There Were 2 Mass Shootings In Texas Last Week...\n",
      "short_description    She left her husband. He killed their children...\n",
      "text                 Melissa Jeltsen There Were 2 Mass Shootings In...\n",
      "Name: 0, dtype: object\n",
      "There Were 2 Mass Shootings In Texas Last Week, But Only 1 On TV\n"
     ]
    }
   ],
   "source": [
    "df_['text'] = df_['authors'] +' '+df_['headline'] +' '+ df_['short_description']\n",
    "\n",
    "df = df_.drop(['link', 'date'], axis=1)\n",
    "\n",
    "print(df.loc[0][['authors', 'headline', 'short_description', 'text']])\n",
    "print(df.loc[0]['headline'])"
   ]
  },
  {
   "cell_type": "code",
   "execution_count": 136,
   "metadata": {},
   "outputs": [
    {
     "data": {
      "text/html": [
       "<div>\n",
       "<style scoped>\n",
       "    .dataframe tbody tr th:only-of-type {\n",
       "        vertical-align: middle;\n",
       "    }\n",
       "\n",
       "    .dataframe tbody tr th {\n",
       "        vertical-align: top;\n",
       "    }\n",
       "\n",
       "    .dataframe thead th {\n",
       "        text-align: right;\n",
       "    }\n",
       "</style>\n",
       "<table border=\"1\" class=\"dataframe\">\n",
       "  <thead>\n",
       "    <tr style=\"text-align: right;\">\n",
       "      <th></th>\n",
       "      <th>authors</th>\n",
       "      <th>headline</th>\n",
       "      <th>short_description</th>\n",
       "      <th>text</th>\n",
       "    </tr>\n",
       "  </thead>\n",
       "  <tbody>\n",
       "    <tr>\n",
       "      <td>0</td>\n",
       "      <td>Melissa Jeltsen</td>\n",
       "      <td>There Were 2 Mass Shootings In Texas Last Week...</td>\n",
       "      <td>She left her husband. He killed their children...</td>\n",
       "      <td>Melissa Jeltsen There Were 2 Mass Shootings In...</td>\n",
       "    </tr>\n",
       "    <tr>\n",
       "      <td>1</td>\n",
       "      <td>Andy McDonald</td>\n",
       "      <td>Will Smith Joins Diplo And Nicky Jam For The 2...</td>\n",
       "      <td>Of course it has a song.</td>\n",
       "      <td>Andy McDonald Will Smith Joins Diplo And Nicky...</td>\n",
       "    </tr>\n",
       "    <tr>\n",
       "      <td>2</td>\n",
       "      <td>Ron Dicker</td>\n",
       "      <td>Hugh Grant Marries For The First Time At Age 57</td>\n",
       "      <td>The actor and his longtime girlfriend Anna Ebe...</td>\n",
       "      <td>Ron Dicker Hugh Grant Marries For The First Ti...</td>\n",
       "    </tr>\n",
       "    <tr>\n",
       "      <td>3</td>\n",
       "      <td>Ron Dicker</td>\n",
       "      <td>Jim Carrey Blasts 'Castrato' Adam Schiff And D...</td>\n",
       "      <td>The actor gives Dems an ass-kicking for not fi...</td>\n",
       "      <td>Ron Dicker Jim Carrey Blasts 'Castrato' Adam S...</td>\n",
       "    </tr>\n",
       "    <tr>\n",
       "      <td>4</td>\n",
       "      <td>Ron Dicker</td>\n",
       "      <td>Julianna Margulies Uses Donald Trump Poop Bags...</td>\n",
       "      <td>The \"Dietland\" actress said using the bags is ...</td>\n",
       "      <td>Ron Dicker Julianna Margulies Uses Donald Trum...</td>\n",
       "    </tr>\n",
       "    <tr>\n",
       "      <td>5</td>\n",
       "      <td>Ron Dicker</td>\n",
       "      <td>Morgan Freeman 'Devastated' That Sexual Harass...</td>\n",
       "      <td>\"It is not right to equate horrific incidents ...</td>\n",
       "      <td>Ron Dicker Morgan Freeman 'Devastated' That Se...</td>\n",
       "    </tr>\n",
       "    <tr>\n",
       "      <td>6</td>\n",
       "      <td>Ron Dicker</td>\n",
       "      <td>Donald Trump Is Lovin' New McDonald's Jingle I...</td>\n",
       "      <td>It's catchy, all right.</td>\n",
       "      <td>Ron Dicker Donald Trump Is Lovin' New McDonald...</td>\n",
       "    </tr>\n",
       "    <tr>\n",
       "      <td>7</td>\n",
       "      <td>Todd Van Luling</td>\n",
       "      <td>What To Watch On Amazon Prime That’s New This ...</td>\n",
       "      <td>There's a great mini-series joining this week.</td>\n",
       "      <td>Todd Van Luling What To Watch On Amazon Prime ...</td>\n",
       "    </tr>\n",
       "    <tr>\n",
       "      <td>8</td>\n",
       "      <td>Andy McDonald</td>\n",
       "      <td>Mike Myers Reveals He'd 'Like To' Do A Fourth ...</td>\n",
       "      <td>Myer's kids may be pushing for a new \"Powers\" ...</td>\n",
       "      <td>Andy McDonald Mike Myers Reveals He'd 'Like To...</td>\n",
       "    </tr>\n",
       "    <tr>\n",
       "      <td>9</td>\n",
       "      <td>Todd Van Luling</td>\n",
       "      <td>What To Watch On Hulu That’s New This Week</td>\n",
       "      <td>You're getting a recent Academy Award-winning ...</td>\n",
       "      <td>Todd Van Luling What To Watch On Hulu That’s N...</td>\n",
       "    </tr>\n",
       "    <tr>\n",
       "      <td>10</td>\n",
       "      <td>Sebastian Murdock</td>\n",
       "      <td>Justin Timberlake Visits Texas School Shooting...</td>\n",
       "      <td>The pop star also wore a \"Santa Fe Strong\" shi...</td>\n",
       "      <td>Sebastian Murdock Justin Timberlake Visits Tex...</td>\n",
       "    </tr>\n",
       "    <tr>\n",
       "      <td>11</td>\n",
       "      <td></td>\n",
       "      <td>South Korean President Meets North Korea's Kim...</td>\n",
       "      <td>The two met to pave the way for a summit betwe...</td>\n",
       "      <td>South Korean President Meets North Korea's Ki...</td>\n",
       "    </tr>\n",
       "    <tr>\n",
       "      <td>12</td>\n",
       "      <td>Karen Pinchin</td>\n",
       "      <td>With Its Way Of Life At Risk, This Remote Oyst...</td>\n",
       "      <td>The revolution is coming to rural New Brunswick.</td>\n",
       "      <td>Karen Pinchin With Its Way Of Life At Risk, Th...</td>\n",
       "    </tr>\n",
       "    <tr>\n",
       "      <td>13</td>\n",
       "      <td>Elise Foley and Roque Planas</td>\n",
       "      <td>Trump's Crackdown On Immigrant Parents Puts Mo...</td>\n",
       "      <td>Last month a Health and Human Services officia...</td>\n",
       "      <td>Elise Foley and Roque Planas Trump's Crackdown...</td>\n",
       "    </tr>\n",
       "    <tr>\n",
       "      <td>14</td>\n",
       "      <td>Michael Isikoff, Yahoo News</td>\n",
       "      <td>'Trump's Son Should Be Concerned': FBI Obtaine...</td>\n",
       "      <td>The wiretaps feature conversations between Ale...</td>\n",
       "      <td>Michael Isikoff, Yahoo News 'Trump's Son Shoul...</td>\n",
       "    </tr>\n",
       "    <tr>\n",
       "      <td>15</td>\n",
       "      <td>Mary Papenfuss</td>\n",
       "      <td>Edward Snowden: There's No One Trump Loves Mor...</td>\n",
       "      <td>But don't count on Robert Mueller to nail him,...</td>\n",
       "      <td>Mary Papenfuss Edward Snowden: There's No One ...</td>\n",
       "    </tr>\n",
       "    <tr>\n",
       "      <td>16</td>\n",
       "      <td>Mary Papenfuss</td>\n",
       "      <td>Booyah: Obama Photographer Hilariously Trolls ...</td>\n",
       "      <td>Just a peeping minute.</td>\n",
       "      <td>Mary Papenfuss Booyah: Obama Photographer Hila...</td>\n",
       "    </tr>\n",
       "    <tr>\n",
       "      <td>17</td>\n",
       "      <td>Laura Bassett</td>\n",
       "      <td>Ireland Votes To Repeal Abortion Amendment In ...</td>\n",
       "      <td>Irish women will no longer have to travel to t...</td>\n",
       "      <td>Laura Bassett Ireland Votes To Repeal Abortion...</td>\n",
       "    </tr>\n",
       "    <tr>\n",
       "      <td>18</td>\n",
       "      <td>Chris D'Angelo</td>\n",
       "      <td>Ryan Zinke Looks To Reel Back Some Critics Wit...</td>\n",
       "      <td>The interior secretary attempts damage control...</td>\n",
       "      <td>Chris D'Angelo Ryan Zinke Looks To Reel Back S...</td>\n",
       "    </tr>\n",
       "    <tr>\n",
       "      <td>19</td>\n",
       "      <td>Mary Papenfuss</td>\n",
       "      <td>Trump's Scottish Golf Resort Pays Women Signif...</td>\n",
       "      <td>And there are four times as many male as femal...</td>\n",
       "      <td>Mary Papenfuss Trump's Scottish Golf Resort Pa...</td>\n",
       "    </tr>\n",
       "    <tr>\n",
       "      <td>20</td>\n",
       "      <td>David Moye</td>\n",
       "      <td>Weird Father's Day Gifts Your Dad Doesn't Know...</td>\n",
       "      <td>Why buy a boring tie when you can give him tes...</td>\n",
       "      <td>David Moye Weird Father's Day Gifts Your Dad D...</td>\n",
       "    </tr>\n",
       "    <tr>\n",
       "      <td>21</td>\n",
       "      <td>Andy McDonald</td>\n",
       "      <td>Twitter #PutStarWarsInOtherFilms And It Was Un...</td>\n",
       "      <td>There's no such thing as too much \"Star Wars.\"</td>\n",
       "      <td>Andy McDonald Twitter #PutStarWarsInOtherFilms...</td>\n",
       "    </tr>\n",
       "    <tr>\n",
       "      <td>22</td>\n",
       "      <td>Hilary Hanson</td>\n",
       "      <td>Mystery 'Wolf-Like' Animal Reportedly Shot In ...</td>\n",
       "      <td>“We have no idea what this was until we get a ...</td>\n",
       "      <td>Hilary Hanson Mystery 'Wolf-Like' Animal Repor...</td>\n",
       "    </tr>\n",
       "    <tr>\n",
       "      <td>23</td>\n",
       "      <td>Josh Smith and Christine Kim, Reuters</td>\n",
       "      <td>North Korea Still Open To Talks After Trump Ca...</td>\n",
       "      <td>Trump’s announcement came after repeated threa...</td>\n",
       "      <td>Josh Smith and Christine Kim, Reuters North Ko...</td>\n",
       "    </tr>\n",
       "    <tr>\n",
       "      <td>24</td>\n",
       "      <td></td>\n",
       "      <td>2 Men Detonate Bomb Inside Indian Restaurant N...</td>\n",
       "      <td>Fifteen people were taken to the hospital, thr...</td>\n",
       "      <td>2 Men Detonate Bomb Inside Indian Restaurant ...</td>\n",
       "    </tr>\n",
       "    <tr>\n",
       "      <td>25</td>\n",
       "      <td>Antonia Blumberg</td>\n",
       "      <td>Thousands Travel Home To Ireland To Vote On Ab...</td>\n",
       "      <td>Just try to read these #HomeToVote tweets with...</td>\n",
       "      <td>Antonia Blumberg Thousands Travel Home To Irel...</td>\n",
       "    </tr>\n",
       "    <tr>\n",
       "      <td>26</td>\n",
       "      <td></td>\n",
       "      <td>Irish Voters Set To Liberalize Abortion Laws I...</td>\n",
       "      <td>Vote counting will begin Saturday.</td>\n",
       "      <td>Irish Voters Set To Liberalize Abortion Laws ...</td>\n",
       "    </tr>\n",
       "    <tr>\n",
       "      <td>27</td>\n",
       "      <td>Sebastian Murdock</td>\n",
       "      <td>Warriors Coach Steve Kerr Calls NFL Ban On Pro...</td>\n",
       "      <td>Forbidding players to take a knee during the n...</td>\n",
       "      <td>Sebastian Murdock Warriors Coach Steve Kerr Ca...</td>\n",
       "    </tr>\n",
       "    <tr>\n",
       "      <td>28</td>\n",
       "      <td>Kenya Downs</td>\n",
       "      <td>In Historic Victory, Barbados Elects First Fem...</td>\n",
       "      <td>Mia Amor Mottley even earned the backing of th...</td>\n",
       "      <td>Kenya Downs In Historic Victory, Barbados Elec...</td>\n",
       "    </tr>\n",
       "    <tr>\n",
       "      <td>29</td>\n",
       "      <td>Sebastian Murdock</td>\n",
       "      <td>Police Killed At Least 378 Black Americans Fro...</td>\n",
       "      <td>These Americans deserve to be more than anothe...</td>\n",
       "      <td>Sebastian Murdock Police Killed At Least 378 B...</td>\n",
       "    </tr>\n",
       "  </tbody>\n",
       "</table>\n",
       "</div>"
      ],
      "text/plain": [
       "                                  authors  \\\n",
       "0                         Melissa Jeltsen   \n",
       "1                           Andy McDonald   \n",
       "2                              Ron Dicker   \n",
       "3                              Ron Dicker   \n",
       "4                              Ron Dicker   \n",
       "5                              Ron Dicker   \n",
       "6                              Ron Dicker   \n",
       "7                         Todd Van Luling   \n",
       "8                           Andy McDonald   \n",
       "9                         Todd Van Luling   \n",
       "10                      Sebastian Murdock   \n",
       "11                                          \n",
       "12                          Karen Pinchin   \n",
       "13           Elise Foley and Roque Planas   \n",
       "14            Michael Isikoff, Yahoo News   \n",
       "15                         Mary Papenfuss   \n",
       "16                         Mary Papenfuss   \n",
       "17                          Laura Bassett   \n",
       "18                         Chris D'Angelo   \n",
       "19                         Mary Papenfuss   \n",
       "20                             David Moye   \n",
       "21                          Andy McDonald   \n",
       "22                          Hilary Hanson   \n",
       "23  Josh Smith and Christine Kim, Reuters   \n",
       "24                                          \n",
       "25                       Antonia Blumberg   \n",
       "26                                          \n",
       "27                      Sebastian Murdock   \n",
       "28                            Kenya Downs   \n",
       "29                      Sebastian Murdock   \n",
       "\n",
       "                                             headline  \\\n",
       "0   There Were 2 Mass Shootings In Texas Last Week...   \n",
       "1   Will Smith Joins Diplo And Nicky Jam For The 2...   \n",
       "2     Hugh Grant Marries For The First Time At Age 57   \n",
       "3   Jim Carrey Blasts 'Castrato' Adam Schiff And D...   \n",
       "4   Julianna Margulies Uses Donald Trump Poop Bags...   \n",
       "5   Morgan Freeman 'Devastated' That Sexual Harass...   \n",
       "6   Donald Trump Is Lovin' New McDonald's Jingle I...   \n",
       "7   What To Watch On Amazon Prime That’s New This ...   \n",
       "8   Mike Myers Reveals He'd 'Like To' Do A Fourth ...   \n",
       "9          What To Watch On Hulu That’s New This Week   \n",
       "10  Justin Timberlake Visits Texas School Shooting...   \n",
       "11  South Korean President Meets North Korea's Kim...   \n",
       "12  With Its Way Of Life At Risk, This Remote Oyst...   \n",
       "13  Trump's Crackdown On Immigrant Parents Puts Mo...   \n",
       "14  'Trump's Son Should Be Concerned': FBI Obtaine...   \n",
       "15  Edward Snowden: There's No One Trump Loves Mor...   \n",
       "16  Booyah: Obama Photographer Hilariously Trolls ...   \n",
       "17  Ireland Votes To Repeal Abortion Amendment In ...   \n",
       "18  Ryan Zinke Looks To Reel Back Some Critics Wit...   \n",
       "19  Trump's Scottish Golf Resort Pays Women Signif...   \n",
       "20  Weird Father's Day Gifts Your Dad Doesn't Know...   \n",
       "21  Twitter #PutStarWarsInOtherFilms And It Was Un...   \n",
       "22  Mystery 'Wolf-Like' Animal Reportedly Shot In ...   \n",
       "23  North Korea Still Open To Talks After Trump Ca...   \n",
       "24  2 Men Detonate Bomb Inside Indian Restaurant N...   \n",
       "25  Thousands Travel Home To Ireland To Vote On Ab...   \n",
       "26  Irish Voters Set To Liberalize Abortion Laws I...   \n",
       "27  Warriors Coach Steve Kerr Calls NFL Ban On Pro...   \n",
       "28  In Historic Victory, Barbados Elects First Fem...   \n",
       "29  Police Killed At Least 378 Black Americans Fro...   \n",
       "\n",
       "                                    short_description  \\\n",
       "0   She left her husband. He killed their children...   \n",
       "1                            Of course it has a song.   \n",
       "2   The actor and his longtime girlfriend Anna Ebe...   \n",
       "3   The actor gives Dems an ass-kicking for not fi...   \n",
       "4   The \"Dietland\" actress said using the bags is ...   \n",
       "5   \"It is not right to equate horrific incidents ...   \n",
       "6                             It's catchy, all right.   \n",
       "7      There's a great mini-series joining this week.   \n",
       "8   Myer's kids may be pushing for a new \"Powers\" ...   \n",
       "9   You're getting a recent Academy Award-winning ...   \n",
       "10  The pop star also wore a \"Santa Fe Strong\" shi...   \n",
       "11  The two met to pave the way for a summit betwe...   \n",
       "12   The revolution is coming to rural New Brunswick.   \n",
       "13  Last month a Health and Human Services officia...   \n",
       "14  The wiretaps feature conversations between Ale...   \n",
       "15  But don't count on Robert Mueller to nail him,...   \n",
       "16                             Just a peeping minute.   \n",
       "17  Irish women will no longer have to travel to t...   \n",
       "18  The interior secretary attempts damage control...   \n",
       "19  And there are four times as many male as femal...   \n",
       "20  Why buy a boring tie when you can give him tes...   \n",
       "21     There's no such thing as too much \"Star Wars.\"   \n",
       "22  “We have no idea what this was until we get a ...   \n",
       "23  Trump’s announcement came after repeated threa...   \n",
       "24  Fifteen people were taken to the hospital, thr...   \n",
       "25  Just try to read these #HomeToVote tweets with...   \n",
       "26                 Vote counting will begin Saturday.   \n",
       "27  Forbidding players to take a knee during the n...   \n",
       "28  Mia Amor Mottley even earned the backing of th...   \n",
       "29  These Americans deserve to be more than anothe...   \n",
       "\n",
       "                                                 text  \n",
       "0   Melissa Jeltsen There Were 2 Mass Shootings In...  \n",
       "1   Andy McDonald Will Smith Joins Diplo And Nicky...  \n",
       "2   Ron Dicker Hugh Grant Marries For The First Ti...  \n",
       "3   Ron Dicker Jim Carrey Blasts 'Castrato' Adam S...  \n",
       "4   Ron Dicker Julianna Margulies Uses Donald Trum...  \n",
       "5   Ron Dicker Morgan Freeman 'Devastated' That Se...  \n",
       "6   Ron Dicker Donald Trump Is Lovin' New McDonald...  \n",
       "7   Todd Van Luling What To Watch On Amazon Prime ...  \n",
       "8   Andy McDonald Mike Myers Reveals He'd 'Like To...  \n",
       "9   Todd Van Luling What To Watch On Hulu That’s N...  \n",
       "10  Sebastian Murdock Justin Timberlake Visits Tex...  \n",
       "11   South Korean President Meets North Korea's Ki...  \n",
       "12  Karen Pinchin With Its Way Of Life At Risk, Th...  \n",
       "13  Elise Foley and Roque Planas Trump's Crackdown...  \n",
       "14  Michael Isikoff, Yahoo News 'Trump's Son Shoul...  \n",
       "15  Mary Papenfuss Edward Snowden: There's No One ...  \n",
       "16  Mary Papenfuss Booyah: Obama Photographer Hila...  \n",
       "17  Laura Bassett Ireland Votes To Repeal Abortion...  \n",
       "18  Chris D'Angelo Ryan Zinke Looks To Reel Back S...  \n",
       "19  Mary Papenfuss Trump's Scottish Golf Resort Pa...  \n",
       "20  David Moye Weird Father's Day Gifts Your Dad D...  \n",
       "21  Andy McDonald Twitter #PutStarWarsInOtherFilms...  \n",
       "22  Hilary Hanson Mystery 'Wolf-Like' Animal Repor...  \n",
       "23  Josh Smith and Christine Kim, Reuters North Ko...  \n",
       "24   2 Men Detonate Bomb Inside Indian Restaurant ...  \n",
       "25  Antonia Blumberg Thousands Travel Home To Irel...  \n",
       "26   Irish Voters Set To Liberalize Abortion Laws ...  \n",
       "27  Sebastian Murdock Warriors Coach Steve Kerr Ca...  \n",
       "28  Kenya Downs In Historic Victory, Barbados Elec...  \n",
       "29  Sebastian Murdock Police Killed At Least 378 B...  "
      ]
     },
     "execution_count": 136,
     "metadata": {},
     "output_type": "execute_result"
    }
   ],
   "source": [
    "df[['authors', 'headline', 'short_description', 'text']].head(30)"
   ]
  },
  {
   "cell_type": "markdown",
   "metadata": {},
   "source": [
    "Visualizando los datos"
   ]
  },
  {
   "cell_type": "code",
   "execution_count": 115,
   "metadata": {},
   "outputs": [
    {
     "name": "stdout",
     "output_type": "stream",
     "text": [
      "41 37\n"
     ]
    }
   ],
   "source": [
    "print(len(df_.category.value_counts()), len(df.category.value_counts()))"
   ]
  },
  {
   "cell_type": "code",
   "execution_count": 118,
   "metadata": {},
   "outputs": [
    {
     "data": {
      "text/plain": [
       "POLITICS          32739\n",
       "WELLNESS          17827\n",
       "ENTERTAINMENT     16058\n",
       "TRAVEL             9887\n",
       "STYLE & BEAUTY     9649\n",
       "PARENTING          8677\n",
       "HEALTHY LIVING     6694\n",
       "QUEER VOICES       6314\n",
       "FOOD & DRINK       6226\n",
       "BUSINESS           5937\n",
       "COMEDY             5175\n",
       "SPORTS             4884\n",
       "BLACK VOICES       4528\n",
       "HOME & LIVING      4195\n",
       "PARENTS            3955\n",
       "THE WORLDPOST      3664\n",
       "WEDDINGS           3651\n",
       "WOMEN              3490\n",
       "IMPACT             3459\n",
       "DIVORCE            3426\n",
       "CRIME              3405\n",
       "MEDIA              2815\n",
       "WEIRD NEWS         2670\n",
       "GREEN              2622\n",
       "WORLDPOST          2579\n",
       "RELIGION           2556\n",
       "STYLE              2254\n",
       "SCIENCE            2178\n",
       "WORLD NEWS         2177\n",
       "TASTE              2096\n",
       "TECH               2082\n",
       "MONEY              1707\n",
       "ARTS               1509\n",
       "FIFTY              1401\n",
       "GOOD NEWS          1398\n",
       "ARTS & CULTURE     1339\n",
       "ENVIRONMENT        1323\n",
       "COLLEGE            1144\n",
       "LATINO VOICES      1129\n",
       "CULTURE & ARTS     1030\n",
       "EDUCATION          1004\n",
       "Name: category, dtype: int64"
      ]
     },
     "execution_count": 118,
     "metadata": {},
     "output_type": "execute_result"
    }
   ],
   "source": [
    "df_.category.value_counts()"
   ]
  },
  {
   "cell_type": "code",
   "execution_count": 116,
   "metadata": {},
   "outputs": [
    {
     "data": {
      "application/vnd.plotly.v1+json": {
       "config": {
        "linkText": "Export to plot.ly",
        "plotlyServerURL": "https://plot.ly",
        "showLink": false
       },
       "data": [
        {
         "type": "bar",
         "x": [
          "CRIME",
          "ENTERTAINMENT",
          "WORLD NEWS",
          "IMPACT",
          "POLITICS",
          "WEIRD NEWS",
          "BLACK VOICES",
          "WOMEN",
          "COMEDY",
          "QUEER VOICES",
          "SPORTS",
          "BUSINESS",
          "TRAVEL",
          "MEDIA",
          "TECH",
          "RELIGION",
          "SCIENCE",
          "LATINO VOICES",
          "EDUCATION",
          "COLLEGE",
          "PARENTS",
          "CULTURE",
          "STYLE",
          "GREEN",
          "TASTE",
          "HEALTHY LIVING",
          "WORLDPOST",
          "GOOD NEWS",
          "FIFTY",
          "WELLNESS",
          "HOME & LIVING",
          "STYLE & BEAUTY",
          "DIVORCE",
          "WEDDINGS",
          "FOOD & DRINK",
          "MONEY",
          "ENVIRONMENT"
         ],
         "y": [
          32739,
          17827,
          16058,
          12632,
          9887,
          9649,
          6694,
          6314,
          6243,
          6226,
          5937,
          5175,
          4884,
          4528,
          4195,
          3878,
          3651,
          3490,
          3459,
          3426,
          3405,
          2815,
          2670,
          2622,
          2556,
          2254,
          2178,
          2177,
          2096,
          2082,
          1707,
          1401,
          1398,
          1323,
          1144,
          1129,
          1004
         ]
        }
       ],
       "layout": {
        "template": {
         "data": {
          "bar": [
           {
            "error_x": {
             "color": "#2a3f5f"
            },
            "error_y": {
             "color": "#2a3f5f"
            },
            "marker": {
             "line": {
              "color": "#E5ECF6",
              "width": 0.5
             }
            },
            "type": "bar"
           }
          ],
          "barpolar": [
           {
            "marker": {
             "line": {
              "color": "#E5ECF6",
              "width": 0.5
             }
            },
            "type": "barpolar"
           }
          ],
          "carpet": [
           {
            "aaxis": {
             "endlinecolor": "#2a3f5f",
             "gridcolor": "white",
             "linecolor": "white",
             "minorgridcolor": "white",
             "startlinecolor": "#2a3f5f"
            },
            "baxis": {
             "endlinecolor": "#2a3f5f",
             "gridcolor": "white",
             "linecolor": "white",
             "minorgridcolor": "white",
             "startlinecolor": "#2a3f5f"
            },
            "type": "carpet"
           }
          ],
          "choropleth": [
           {
            "colorbar": {
             "outlinewidth": 0,
             "ticks": ""
            },
            "type": "choropleth"
           }
          ],
          "contour": [
           {
            "colorbar": {
             "outlinewidth": 0,
             "ticks": ""
            },
            "colorscale": [
             [
              0,
              "#0d0887"
             ],
             [
              0.1111111111111111,
              "#46039f"
             ],
             [
              0.2222222222222222,
              "#7201a8"
             ],
             [
              0.3333333333333333,
              "#9c179e"
             ],
             [
              0.4444444444444444,
              "#bd3786"
             ],
             [
              0.5555555555555556,
              "#d8576b"
             ],
             [
              0.6666666666666666,
              "#ed7953"
             ],
             [
              0.7777777777777778,
              "#fb9f3a"
             ],
             [
              0.8888888888888888,
              "#fdca26"
             ],
             [
              1,
              "#f0f921"
             ]
            ],
            "type": "contour"
           }
          ],
          "contourcarpet": [
           {
            "colorbar": {
             "outlinewidth": 0,
             "ticks": ""
            },
            "type": "contourcarpet"
           }
          ],
          "heatmap": [
           {
            "colorbar": {
             "outlinewidth": 0,
             "ticks": ""
            },
            "colorscale": [
             [
              0,
              "#0d0887"
             ],
             [
              0.1111111111111111,
              "#46039f"
             ],
             [
              0.2222222222222222,
              "#7201a8"
             ],
             [
              0.3333333333333333,
              "#9c179e"
             ],
             [
              0.4444444444444444,
              "#bd3786"
             ],
             [
              0.5555555555555556,
              "#d8576b"
             ],
             [
              0.6666666666666666,
              "#ed7953"
             ],
             [
              0.7777777777777778,
              "#fb9f3a"
             ],
             [
              0.8888888888888888,
              "#fdca26"
             ],
             [
              1,
              "#f0f921"
             ]
            ],
            "type": "heatmap"
           }
          ],
          "heatmapgl": [
           {
            "colorbar": {
             "outlinewidth": 0,
             "ticks": ""
            },
            "colorscale": [
             [
              0,
              "#0d0887"
             ],
             [
              0.1111111111111111,
              "#46039f"
             ],
             [
              0.2222222222222222,
              "#7201a8"
             ],
             [
              0.3333333333333333,
              "#9c179e"
             ],
             [
              0.4444444444444444,
              "#bd3786"
             ],
             [
              0.5555555555555556,
              "#d8576b"
             ],
             [
              0.6666666666666666,
              "#ed7953"
             ],
             [
              0.7777777777777778,
              "#fb9f3a"
             ],
             [
              0.8888888888888888,
              "#fdca26"
             ],
             [
              1,
              "#f0f921"
             ]
            ],
            "type": "heatmapgl"
           }
          ],
          "histogram": [
           {
            "marker": {
             "colorbar": {
              "outlinewidth": 0,
              "ticks": ""
             }
            },
            "type": "histogram"
           }
          ],
          "histogram2d": [
           {
            "colorbar": {
             "outlinewidth": 0,
             "ticks": ""
            },
            "colorscale": [
             [
              0,
              "#0d0887"
             ],
             [
              0.1111111111111111,
              "#46039f"
             ],
             [
              0.2222222222222222,
              "#7201a8"
             ],
             [
              0.3333333333333333,
              "#9c179e"
             ],
             [
              0.4444444444444444,
              "#bd3786"
             ],
             [
              0.5555555555555556,
              "#d8576b"
             ],
             [
              0.6666666666666666,
              "#ed7953"
             ],
             [
              0.7777777777777778,
              "#fb9f3a"
             ],
             [
              0.8888888888888888,
              "#fdca26"
             ],
             [
              1,
              "#f0f921"
             ]
            ],
            "type": "histogram2d"
           }
          ],
          "histogram2dcontour": [
           {
            "colorbar": {
             "outlinewidth": 0,
             "ticks": ""
            },
            "colorscale": [
             [
              0,
              "#0d0887"
             ],
             [
              0.1111111111111111,
              "#46039f"
             ],
             [
              0.2222222222222222,
              "#7201a8"
             ],
             [
              0.3333333333333333,
              "#9c179e"
             ],
             [
              0.4444444444444444,
              "#bd3786"
             ],
             [
              0.5555555555555556,
              "#d8576b"
             ],
             [
              0.6666666666666666,
              "#ed7953"
             ],
             [
              0.7777777777777778,
              "#fb9f3a"
             ],
             [
              0.8888888888888888,
              "#fdca26"
             ],
             [
              1,
              "#f0f921"
             ]
            ],
            "type": "histogram2dcontour"
           }
          ],
          "mesh3d": [
           {
            "colorbar": {
             "outlinewidth": 0,
             "ticks": ""
            },
            "type": "mesh3d"
           }
          ],
          "parcoords": [
           {
            "line": {
             "colorbar": {
              "outlinewidth": 0,
              "ticks": ""
             }
            },
            "type": "parcoords"
           }
          ],
          "pie": [
           {
            "automargin": true,
            "type": "pie"
           }
          ],
          "scatter": [
           {
            "marker": {
             "colorbar": {
              "outlinewidth": 0,
              "ticks": ""
             }
            },
            "type": "scatter"
           }
          ],
          "scatter3d": [
           {
            "line": {
             "colorbar": {
              "outlinewidth": 0,
              "ticks": ""
             }
            },
            "marker": {
             "colorbar": {
              "outlinewidth": 0,
              "ticks": ""
             }
            },
            "type": "scatter3d"
           }
          ],
          "scattercarpet": [
           {
            "marker": {
             "colorbar": {
              "outlinewidth": 0,
              "ticks": ""
             }
            },
            "type": "scattercarpet"
           }
          ],
          "scattergeo": [
           {
            "marker": {
             "colorbar": {
              "outlinewidth": 0,
              "ticks": ""
             }
            },
            "type": "scattergeo"
           }
          ],
          "scattergl": [
           {
            "marker": {
             "colorbar": {
              "outlinewidth": 0,
              "ticks": ""
             }
            },
            "type": "scattergl"
           }
          ],
          "scattermapbox": [
           {
            "marker": {
             "colorbar": {
              "outlinewidth": 0,
              "ticks": ""
             }
            },
            "type": "scattermapbox"
           }
          ],
          "scatterpolar": [
           {
            "marker": {
             "colorbar": {
              "outlinewidth": 0,
              "ticks": ""
             }
            },
            "type": "scatterpolar"
           }
          ],
          "scatterpolargl": [
           {
            "marker": {
             "colorbar": {
              "outlinewidth": 0,
              "ticks": ""
             }
            },
            "type": "scatterpolargl"
           }
          ],
          "scatterternary": [
           {
            "marker": {
             "colorbar": {
              "outlinewidth": 0,
              "ticks": ""
             }
            },
            "type": "scatterternary"
           }
          ],
          "surface": [
           {
            "colorbar": {
             "outlinewidth": 0,
             "ticks": ""
            },
            "colorscale": [
             [
              0,
              "#0d0887"
             ],
             [
              0.1111111111111111,
              "#46039f"
             ],
             [
              0.2222222222222222,
              "#7201a8"
             ],
             [
              0.3333333333333333,
              "#9c179e"
             ],
             [
              0.4444444444444444,
              "#bd3786"
             ],
             [
              0.5555555555555556,
              "#d8576b"
             ],
             [
              0.6666666666666666,
              "#ed7953"
             ],
             [
              0.7777777777777778,
              "#fb9f3a"
             ],
             [
              0.8888888888888888,
              "#fdca26"
             ],
             [
              1,
              "#f0f921"
             ]
            ],
            "type": "surface"
           }
          ],
          "table": [
           {
            "cells": {
             "fill": {
              "color": "#EBF0F8"
             },
             "line": {
              "color": "white"
             }
            },
            "header": {
             "fill": {
              "color": "#C8D4E3"
             },
             "line": {
              "color": "white"
             }
            },
            "type": "table"
           }
          ]
         },
         "layout": {
          "annotationdefaults": {
           "arrowcolor": "#2a3f5f",
           "arrowhead": 0,
           "arrowwidth": 1
          },
          "coloraxis": {
           "colorbar": {
            "outlinewidth": 0,
            "ticks": ""
           }
          },
          "colorscale": {
           "diverging": [
            [
             0,
             "#8e0152"
            ],
            [
             0.1,
             "#c51b7d"
            ],
            [
             0.2,
             "#de77ae"
            ],
            [
             0.3,
             "#f1b6da"
            ],
            [
             0.4,
             "#fde0ef"
            ],
            [
             0.5,
             "#f7f7f7"
            ],
            [
             0.6,
             "#e6f5d0"
            ],
            [
             0.7,
             "#b8e186"
            ],
            [
             0.8,
             "#7fbc41"
            ],
            [
             0.9,
             "#4d9221"
            ],
            [
             1,
             "#276419"
            ]
           ],
           "sequential": [
            [
             0,
             "#0d0887"
            ],
            [
             0.1111111111111111,
             "#46039f"
            ],
            [
             0.2222222222222222,
             "#7201a8"
            ],
            [
             0.3333333333333333,
             "#9c179e"
            ],
            [
             0.4444444444444444,
             "#bd3786"
            ],
            [
             0.5555555555555556,
             "#d8576b"
            ],
            [
             0.6666666666666666,
             "#ed7953"
            ],
            [
             0.7777777777777778,
             "#fb9f3a"
            ],
            [
             0.8888888888888888,
             "#fdca26"
            ],
            [
             1,
             "#f0f921"
            ]
           ],
           "sequentialminus": [
            [
             0,
             "#0d0887"
            ],
            [
             0.1111111111111111,
             "#46039f"
            ],
            [
             0.2222222222222222,
             "#7201a8"
            ],
            [
             0.3333333333333333,
             "#9c179e"
            ],
            [
             0.4444444444444444,
             "#bd3786"
            ],
            [
             0.5555555555555556,
             "#d8576b"
            ],
            [
             0.6666666666666666,
             "#ed7953"
            ],
            [
             0.7777777777777778,
             "#fb9f3a"
            ],
            [
             0.8888888888888888,
             "#fdca26"
            ],
            [
             1,
             "#f0f921"
            ]
           ]
          },
          "colorway": [
           "#636efa",
           "#EF553B",
           "#00cc96",
           "#ab63fa",
           "#FFA15A",
           "#19d3f3",
           "#FF6692",
           "#B6E880",
           "#FF97FF",
           "#FECB52"
          ],
          "font": {
           "color": "#2a3f5f"
          },
          "geo": {
           "bgcolor": "white",
           "lakecolor": "white",
           "landcolor": "#E5ECF6",
           "showlakes": true,
           "showland": true,
           "subunitcolor": "white"
          },
          "hoverlabel": {
           "align": "left"
          },
          "hovermode": "closest",
          "mapbox": {
           "style": "light"
          },
          "paper_bgcolor": "white",
          "plot_bgcolor": "#E5ECF6",
          "polar": {
           "angularaxis": {
            "gridcolor": "white",
            "linecolor": "white",
            "ticks": ""
           },
           "bgcolor": "#E5ECF6",
           "radialaxis": {
            "gridcolor": "white",
            "linecolor": "white",
            "ticks": ""
           }
          },
          "scene": {
           "xaxis": {
            "backgroundcolor": "#E5ECF6",
            "gridcolor": "white",
            "gridwidth": 2,
            "linecolor": "white",
            "showbackground": true,
            "ticks": "",
            "zerolinecolor": "white"
           },
           "yaxis": {
            "backgroundcolor": "#E5ECF6",
            "gridcolor": "white",
            "gridwidth": 2,
            "linecolor": "white",
            "showbackground": true,
            "ticks": "",
            "zerolinecolor": "white"
           },
           "zaxis": {
            "backgroundcolor": "#E5ECF6",
            "gridcolor": "white",
            "gridwidth": 2,
            "linecolor": "white",
            "showbackground": true,
            "ticks": "",
            "zerolinecolor": "white"
           }
          },
          "shapedefaults": {
           "line": {
            "color": "#2a3f5f"
           }
          },
          "ternary": {
           "aaxis": {
            "gridcolor": "white",
            "linecolor": "white",
            "ticks": ""
           },
           "baxis": {
            "gridcolor": "white",
            "linecolor": "white",
            "ticks": ""
           },
           "bgcolor": "#E5ECF6",
           "caxis": {
            "gridcolor": "white",
            "linecolor": "white",
            "ticks": ""
           }
          },
          "title": {
           "x": 0.05
          },
          "xaxis": {
           "automargin": true,
           "gridcolor": "white",
           "linecolor": "white",
           "ticks": "",
           "title": {
            "standoff": 15
           },
           "zerolinecolor": "white",
           "zerolinewidth": 2
          },
          "yaxis": {
           "automargin": true,
           "gridcolor": "white",
           "linecolor": "white",
           "ticks": "",
           "title": {
            "standoff": 15
           },
           "zerolinecolor": "white",
           "zerolinewidth": 2
          }
         }
        },
        "title": {
         "text": "Categories count"
        },
        "xaxis": {
         "title": {
          "text": "Category"
         }
        }
       }
      },
      "text/html": [
       "<div>\n",
       "        \n",
       "        \n",
       "            <div id=\"a5af3896-429b-4389-8587-3b73add65d40\" class=\"plotly-graph-div\" style=\"height:525px; width:100%;\"></div>\n",
       "            <script type=\"text/javascript\">\n",
       "                require([\"plotly\"], function(Plotly) {\n",
       "                    window.PLOTLYENV=window.PLOTLYENV || {};\n",
       "                    \n",
       "                if (document.getElementById(\"a5af3896-429b-4389-8587-3b73add65d40\")) {\n",
       "                    Plotly.newPlot(\n",
       "                        'a5af3896-429b-4389-8587-3b73add65d40',\n",
       "                        [{\"type\": \"bar\", \"x\": [\"CRIME\", \"ENTERTAINMENT\", \"WORLD NEWS\", \"IMPACT\", \"POLITICS\", \"WEIRD NEWS\", \"BLACK VOICES\", \"WOMEN\", \"COMEDY\", \"QUEER VOICES\", \"SPORTS\", \"BUSINESS\", \"TRAVEL\", \"MEDIA\", \"TECH\", \"RELIGION\", \"SCIENCE\", \"LATINO VOICES\", \"EDUCATION\", \"COLLEGE\", \"PARENTS\", \"CULTURE\", \"STYLE\", \"GREEN\", \"TASTE\", \"HEALTHY LIVING\", \"WORLDPOST\", \"GOOD NEWS\", \"FIFTY\", \"WELLNESS\", \"HOME & LIVING\", \"STYLE & BEAUTY\", \"DIVORCE\", \"WEDDINGS\", \"FOOD & DRINK\", \"MONEY\", \"ENVIRONMENT\"], \"y\": [32739, 17827, 16058, 12632, 9887, 9649, 6694, 6314, 6243, 6226, 5937, 5175, 4884, 4528, 4195, 3878, 3651, 3490, 3459, 3426, 3405, 2815, 2670, 2622, 2556, 2254, 2178, 2177, 2096, 2082, 1707, 1401, 1398, 1323, 1144, 1129, 1004]}],\n",
       "                        {\"template\": {\"data\": {\"bar\": [{\"error_x\": {\"color\": \"#2a3f5f\"}, \"error_y\": {\"color\": \"#2a3f5f\"}, \"marker\": {\"line\": {\"color\": \"#E5ECF6\", \"width\": 0.5}}, \"type\": \"bar\"}], \"barpolar\": [{\"marker\": {\"line\": {\"color\": \"#E5ECF6\", \"width\": 0.5}}, \"type\": \"barpolar\"}], \"carpet\": [{\"aaxis\": {\"endlinecolor\": \"#2a3f5f\", \"gridcolor\": \"white\", \"linecolor\": \"white\", \"minorgridcolor\": \"white\", \"startlinecolor\": \"#2a3f5f\"}, \"baxis\": {\"endlinecolor\": \"#2a3f5f\", \"gridcolor\": \"white\", \"linecolor\": \"white\", \"minorgridcolor\": \"white\", \"startlinecolor\": \"#2a3f5f\"}, \"type\": \"carpet\"}], \"choropleth\": [{\"colorbar\": {\"outlinewidth\": 0, \"ticks\": \"\"}, \"type\": \"choropleth\"}], \"contour\": [{\"colorbar\": {\"outlinewidth\": 0, \"ticks\": \"\"}, \"colorscale\": [[0.0, \"#0d0887\"], [0.1111111111111111, \"#46039f\"], [0.2222222222222222, \"#7201a8\"], [0.3333333333333333, \"#9c179e\"], [0.4444444444444444, \"#bd3786\"], [0.5555555555555556, \"#d8576b\"], [0.6666666666666666, \"#ed7953\"], [0.7777777777777778, \"#fb9f3a\"], [0.8888888888888888, \"#fdca26\"], [1.0, \"#f0f921\"]], \"type\": \"contour\"}], \"contourcarpet\": [{\"colorbar\": {\"outlinewidth\": 0, \"ticks\": \"\"}, \"type\": \"contourcarpet\"}], \"heatmap\": [{\"colorbar\": {\"outlinewidth\": 0, \"ticks\": \"\"}, \"colorscale\": [[0.0, \"#0d0887\"], [0.1111111111111111, \"#46039f\"], [0.2222222222222222, \"#7201a8\"], [0.3333333333333333, \"#9c179e\"], [0.4444444444444444, \"#bd3786\"], [0.5555555555555556, \"#d8576b\"], [0.6666666666666666, \"#ed7953\"], [0.7777777777777778, \"#fb9f3a\"], [0.8888888888888888, \"#fdca26\"], [1.0, \"#f0f921\"]], \"type\": \"heatmap\"}], \"heatmapgl\": [{\"colorbar\": {\"outlinewidth\": 0, \"ticks\": \"\"}, \"colorscale\": [[0.0, \"#0d0887\"], [0.1111111111111111, \"#46039f\"], [0.2222222222222222, \"#7201a8\"], [0.3333333333333333, \"#9c179e\"], [0.4444444444444444, \"#bd3786\"], [0.5555555555555556, \"#d8576b\"], [0.6666666666666666, \"#ed7953\"], [0.7777777777777778, \"#fb9f3a\"], [0.8888888888888888, \"#fdca26\"], [1.0, \"#f0f921\"]], \"type\": \"heatmapgl\"}], \"histogram\": [{\"marker\": {\"colorbar\": {\"outlinewidth\": 0, \"ticks\": \"\"}}, \"type\": \"histogram\"}], \"histogram2d\": [{\"colorbar\": {\"outlinewidth\": 0, \"ticks\": \"\"}, \"colorscale\": [[0.0, \"#0d0887\"], [0.1111111111111111, \"#46039f\"], [0.2222222222222222, \"#7201a8\"], [0.3333333333333333, \"#9c179e\"], [0.4444444444444444, \"#bd3786\"], [0.5555555555555556, \"#d8576b\"], [0.6666666666666666, \"#ed7953\"], [0.7777777777777778, \"#fb9f3a\"], [0.8888888888888888, \"#fdca26\"], [1.0, \"#f0f921\"]], \"type\": \"histogram2d\"}], \"histogram2dcontour\": [{\"colorbar\": {\"outlinewidth\": 0, \"ticks\": \"\"}, \"colorscale\": [[0.0, \"#0d0887\"], [0.1111111111111111, \"#46039f\"], [0.2222222222222222, \"#7201a8\"], [0.3333333333333333, \"#9c179e\"], [0.4444444444444444, \"#bd3786\"], [0.5555555555555556, \"#d8576b\"], [0.6666666666666666, \"#ed7953\"], [0.7777777777777778, \"#fb9f3a\"], [0.8888888888888888, \"#fdca26\"], [1.0, \"#f0f921\"]], \"type\": \"histogram2dcontour\"}], \"mesh3d\": [{\"colorbar\": {\"outlinewidth\": 0, \"ticks\": \"\"}, \"type\": \"mesh3d\"}], \"parcoords\": [{\"line\": {\"colorbar\": {\"outlinewidth\": 0, \"ticks\": \"\"}}, \"type\": \"parcoords\"}], \"pie\": [{\"automargin\": true, \"type\": \"pie\"}], \"scatter\": [{\"marker\": {\"colorbar\": {\"outlinewidth\": 0, \"ticks\": \"\"}}, \"type\": \"scatter\"}], \"scatter3d\": [{\"line\": {\"colorbar\": {\"outlinewidth\": 0, \"ticks\": \"\"}}, \"marker\": {\"colorbar\": {\"outlinewidth\": 0, \"ticks\": \"\"}}, \"type\": \"scatter3d\"}], \"scattercarpet\": [{\"marker\": {\"colorbar\": {\"outlinewidth\": 0, \"ticks\": \"\"}}, \"type\": \"scattercarpet\"}], \"scattergeo\": [{\"marker\": {\"colorbar\": {\"outlinewidth\": 0, \"ticks\": \"\"}}, \"type\": \"scattergeo\"}], \"scattergl\": [{\"marker\": {\"colorbar\": {\"outlinewidth\": 0, \"ticks\": \"\"}}, \"type\": \"scattergl\"}], \"scattermapbox\": [{\"marker\": {\"colorbar\": {\"outlinewidth\": 0, \"ticks\": \"\"}}, \"type\": \"scattermapbox\"}], \"scatterpolar\": [{\"marker\": {\"colorbar\": {\"outlinewidth\": 0, \"ticks\": \"\"}}, \"type\": \"scatterpolar\"}], \"scatterpolargl\": [{\"marker\": {\"colorbar\": {\"outlinewidth\": 0, \"ticks\": \"\"}}, \"type\": \"scatterpolargl\"}], \"scatterternary\": [{\"marker\": {\"colorbar\": {\"outlinewidth\": 0, \"ticks\": \"\"}}, \"type\": \"scatterternary\"}], \"surface\": [{\"colorbar\": {\"outlinewidth\": 0, \"ticks\": \"\"}, \"colorscale\": [[0.0, \"#0d0887\"], [0.1111111111111111, \"#46039f\"], [0.2222222222222222, \"#7201a8\"], [0.3333333333333333, \"#9c179e\"], [0.4444444444444444, \"#bd3786\"], [0.5555555555555556, \"#d8576b\"], [0.6666666666666666, \"#ed7953\"], [0.7777777777777778, \"#fb9f3a\"], [0.8888888888888888, \"#fdca26\"], [1.0, \"#f0f921\"]], \"type\": \"surface\"}], \"table\": [{\"cells\": {\"fill\": {\"color\": \"#EBF0F8\"}, \"line\": {\"color\": \"white\"}}, \"header\": {\"fill\": {\"color\": \"#C8D4E3\"}, \"line\": {\"color\": \"white\"}}, \"type\": \"table\"}]}, \"layout\": {\"annotationdefaults\": {\"arrowcolor\": \"#2a3f5f\", \"arrowhead\": 0, \"arrowwidth\": 1}, \"coloraxis\": {\"colorbar\": {\"outlinewidth\": 0, \"ticks\": \"\"}}, \"colorscale\": {\"diverging\": [[0, \"#8e0152\"], [0.1, \"#c51b7d\"], [0.2, \"#de77ae\"], [0.3, \"#f1b6da\"], [0.4, \"#fde0ef\"], [0.5, \"#f7f7f7\"], [0.6, \"#e6f5d0\"], [0.7, \"#b8e186\"], [0.8, \"#7fbc41\"], [0.9, \"#4d9221\"], [1, \"#276419\"]], \"sequential\": [[0.0, \"#0d0887\"], [0.1111111111111111, \"#46039f\"], [0.2222222222222222, \"#7201a8\"], [0.3333333333333333, \"#9c179e\"], [0.4444444444444444, \"#bd3786\"], [0.5555555555555556, \"#d8576b\"], [0.6666666666666666, \"#ed7953\"], [0.7777777777777778, \"#fb9f3a\"], [0.8888888888888888, \"#fdca26\"], [1.0, \"#f0f921\"]], \"sequentialminus\": [[0.0, \"#0d0887\"], [0.1111111111111111, \"#46039f\"], [0.2222222222222222, \"#7201a8\"], [0.3333333333333333, \"#9c179e\"], [0.4444444444444444, \"#bd3786\"], [0.5555555555555556, \"#d8576b\"], [0.6666666666666666, \"#ed7953\"], [0.7777777777777778, \"#fb9f3a\"], [0.8888888888888888, \"#fdca26\"], [1.0, \"#f0f921\"]]}, \"colorway\": [\"#636efa\", \"#EF553B\", \"#00cc96\", \"#ab63fa\", \"#FFA15A\", \"#19d3f3\", \"#FF6692\", \"#B6E880\", \"#FF97FF\", \"#FECB52\"], \"font\": {\"color\": \"#2a3f5f\"}, \"geo\": {\"bgcolor\": \"white\", \"lakecolor\": \"white\", \"landcolor\": \"#E5ECF6\", \"showlakes\": true, \"showland\": true, \"subunitcolor\": \"white\"}, \"hoverlabel\": {\"align\": \"left\"}, \"hovermode\": \"closest\", \"mapbox\": {\"style\": \"light\"}, \"paper_bgcolor\": \"white\", \"plot_bgcolor\": \"#E5ECF6\", \"polar\": {\"angularaxis\": {\"gridcolor\": \"white\", \"linecolor\": \"white\", \"ticks\": \"\"}, \"bgcolor\": \"#E5ECF6\", \"radialaxis\": {\"gridcolor\": \"white\", \"linecolor\": \"white\", \"ticks\": \"\"}}, \"scene\": {\"xaxis\": {\"backgroundcolor\": \"#E5ECF6\", \"gridcolor\": \"white\", \"gridwidth\": 2, \"linecolor\": \"white\", \"showbackground\": true, \"ticks\": \"\", \"zerolinecolor\": \"white\"}, \"yaxis\": {\"backgroundcolor\": \"#E5ECF6\", \"gridcolor\": \"white\", \"gridwidth\": 2, \"linecolor\": \"white\", \"showbackground\": true, \"ticks\": \"\", \"zerolinecolor\": \"white\"}, \"zaxis\": {\"backgroundcolor\": \"#E5ECF6\", \"gridcolor\": \"white\", \"gridwidth\": 2, \"linecolor\": \"white\", \"showbackground\": true, \"ticks\": \"\", \"zerolinecolor\": \"white\"}}, \"shapedefaults\": {\"line\": {\"color\": \"#2a3f5f\"}}, \"ternary\": {\"aaxis\": {\"gridcolor\": \"white\", \"linecolor\": \"white\", \"ticks\": \"\"}, \"baxis\": {\"gridcolor\": \"white\", \"linecolor\": \"white\", \"ticks\": \"\"}, \"bgcolor\": \"#E5ECF6\", \"caxis\": {\"gridcolor\": \"white\", \"linecolor\": \"white\", \"ticks\": \"\"}}, \"title\": {\"x\": 0.05}, \"xaxis\": {\"automargin\": true, \"gridcolor\": \"white\", \"linecolor\": \"white\", \"ticks\": \"\", \"title\": {\"standoff\": 15}, \"zerolinecolor\": \"white\", \"zerolinewidth\": 2}, \"yaxis\": {\"automargin\": true, \"gridcolor\": \"white\", \"linecolor\": \"white\", \"ticks\": \"\", \"title\": {\"standoff\": 15}, \"zerolinecolor\": \"white\", \"zerolinewidth\": 2}}}, \"title\": {\"text\": \"Categories count\"}, \"xaxis\": {\"title\": {\"text\": \"Category\"}}},\n",
       "                        {\"responsive\": true}\n",
       "                    ).then(function(){\n",
       "                            \n",
       "var gd = document.getElementById('a5af3896-429b-4389-8587-3b73add65d40');\n",
       "var x = new MutationObserver(function (mutations, observer) {{\n",
       "        var display = window.getComputedStyle(gd).display;\n",
       "        if (!display || display === 'none') {{\n",
       "            console.log([gd, 'removed!']);\n",
       "            Plotly.purge(gd);\n",
       "            observer.disconnect();\n",
       "        }}\n",
       "}});\n",
       "\n",
       "// Listen for the removal of the full notebook cells\n",
       "var notebookContainer = gd.closest('#notebook-container');\n",
       "if (notebookContainer) {{\n",
       "    x.observe(notebookContainer, {childList: true});\n",
       "}}\n",
       "\n",
       "// Listen for the clearing of the current output cell\n",
       "var outputEl = gd.closest('.output');\n",
       "if (outputEl) {{\n",
       "    x.observe(outputEl, {childList: true});\n",
       "}}\n",
       "\n",
       "                        })\n",
       "                };\n",
       "                });\n",
       "            </script>\n",
       "        </div>"
      ]
     },
     "metadata": {},
     "output_type": "display_data"
    }
   ],
   "source": [
    "#defining data\n",
    "trace = go.Bar(x = list(df['category'].unique()),y=df['category'].value_counts())\n",
    "data=[trace]\n",
    "#defining layout\n",
    "layout = go.Layout(title='Categories count',xaxis=dict(title='Category'))\n",
    "#defining figure and plotting\n",
    "figure = go.Figure(data=data,layout=layout)\n",
    "iplot(figure)"
   ]
  },
  {
   "cell_type": "markdown",
   "metadata": {},
   "source": [
    "Se puede observar que muchas de las categorías podrían unirse en una sola, como es el caso de  ARTS, CULTURE & ARTS Y ARTS & CULTURE"
   ]
  },
  {
   "cell_type": "code",
   "execution_count": 117,
   "metadata": {},
   "outputs": [
    {
     "name": "stderr",
     "output_type": "stream",
     "text": [
      "ERROR:root:Internal Python error in the inspect module.\n",
      "Below is the traceback from this internal error.\n",
      "\n"
     ]
    },
    {
     "name": "stdout",
     "output_type": "stream",
     "text": [
      "Traceback (most recent call last):\n",
      "  File \"/Users/danielsiervo/opt/anaconda3/lib/python3.7/site-packages/IPython/core/interactiveshell.py\", line 3326, in run_code\n",
      "    exec(code_obj, self.user_global_ns, self.user_ns)\n",
      "  File \"<ipython-input-117-580d4c7a15a6>\", line 1, in <module>\n",
      "    df[df['category'] == 'PARENTING']['text'].iloc[20]\n",
      "  File \"/Users/danielsiervo/opt/anaconda3/lib/python3.7/site-packages/pandas/core/indexing.py\", line 1424, in __getitem__\n",
      "    return self._getitem_axis(maybe_callable, axis=axis)\n",
      "  File \"/Users/danielsiervo/opt/anaconda3/lib/python3.7/site-packages/pandas/core/indexing.py\", line 2157, in _getitem_axis\n",
      "    self._validate_integer(key, axis)\n",
      "  File \"/Users/danielsiervo/opt/anaconda3/lib/python3.7/site-packages/pandas/core/indexing.py\", line 2088, in _validate_integer\n",
      "    raise IndexError(\"single positional indexer is out-of-bounds\")\n",
      "IndexError: single positional indexer is out-of-bounds\n",
      "\n",
      "During handling of the above exception, another exception occurred:\n",
      "\n",
      "Traceback (most recent call last):\n",
      "  File \"/Users/danielsiervo/opt/anaconda3/lib/python3.7/site-packages/IPython/core/interactiveshell.py\", line 2040, in showtraceback\n",
      "    stb = value._render_traceback_()\n",
      "AttributeError: 'IndexError' object has no attribute '_render_traceback_'\n",
      "\n",
      "During handling of the above exception, another exception occurred:\n",
      "\n",
      "Traceback (most recent call last):\n",
      "  File \"/Users/danielsiervo/opt/anaconda3/lib/python3.7/site-packages/tensorflow_core/python/pywrap_tensorflow.py\", line 58, in <module>\n",
      "    from tensorflow.python.pywrap_tensorflow_internal import *\n",
      "  File \"/Users/danielsiervo/opt/anaconda3/lib/python3.7/site-packages/tensorflow_core/python/pywrap_tensorflow_internal.py\", line 2453, in <module>\n",
      "    from tensorflow.python.util import deprecation\n",
      "  File \"/Users/danielsiervo/opt/anaconda3/lib/python3.7/site-packages/tensorflow_core/python/util/deprecation.py\", line 25, in <module>\n",
      "    from tensorflow.python.platform import tf_logging as logging\n",
      "ImportError: cannot import name 'tf_logging' from 'tensorflow.python.platform' (/Users/danielsiervo/opt/anaconda3/lib/python3.7/site-packages/tensorflow/python/platform/__init__.py)\n",
      "\n",
      "During handling of the above exception, another exception occurred:\n",
      "\n",
      "Traceback (most recent call last):\n",
      "  File \"/Users/danielsiervo/opt/anaconda3/lib/python3.7/site-packages/IPython/core/ultratb.py\", line 1101, in get_records\n",
      "    return _fixed_getinnerframes(etb, number_of_lines_of_context, tb_offset)\n",
      "  File \"/Users/danielsiervo/opt/anaconda3/lib/python3.7/site-packages/IPython/core/ultratb.py\", line 319, in wrapped\n",
      "    return f(*args, **kwargs)\n",
      "  File \"/Users/danielsiervo/opt/anaconda3/lib/python3.7/site-packages/IPython/core/ultratb.py\", line 353, in _fixed_getinnerframes\n",
      "    records = fix_frame_records_filenames(inspect.getinnerframes(etb, context))\n",
      "  File \"/Users/danielsiervo/opt/anaconda3/lib/python3.7/inspect.py\", line 1502, in getinnerframes\n",
      "    frameinfo = (tb.tb_frame,) + getframeinfo(tb, context)\n",
      "  File \"/Users/danielsiervo/opt/anaconda3/lib/python3.7/inspect.py\", line 1460, in getframeinfo\n",
      "    filename = getsourcefile(frame) or getfile(frame)\n",
      "  File \"/Users/danielsiervo/opt/anaconda3/lib/python3.7/inspect.py\", line 696, in getsourcefile\n",
      "    if getattr(getmodule(object, filename), '__loader__', None) is not None:\n",
      "  File \"/Users/danielsiervo/opt/anaconda3/lib/python3.7/inspect.py\", line 733, in getmodule\n",
      "    if ismodule(module) and hasattr(module, '__file__'):\n",
      "  File \"/Users/danielsiervo/opt/anaconda3/lib/python3.7/site-packages/tensorflow/__init__.py\", line 50, in __getattr__\n",
      "    module = self._load()\n",
      "  File \"/Users/danielsiervo/opt/anaconda3/lib/python3.7/site-packages/tensorflow/__init__.py\", line 44, in _load\n",
      "    module = _importlib.import_module(self.__name__)\n",
      "  File \"/Users/danielsiervo/opt/anaconda3/lib/python3.7/importlib/__init__.py\", line 127, in import_module\n",
      "    return _bootstrap._gcd_import(name[level:], package, level)\n",
      "  File \"<frozen importlib._bootstrap>\", line 1006, in _gcd_import\n",
      "  File \"<frozen importlib._bootstrap>\", line 983, in _find_and_load\n",
      "  File \"<frozen importlib._bootstrap>\", line 953, in _find_and_load_unlocked\n",
      "  File \"<frozen importlib._bootstrap>\", line 219, in _call_with_frames_removed\n",
      "  File \"<frozen importlib._bootstrap>\", line 1006, in _gcd_import\n",
      "  File \"<frozen importlib._bootstrap>\", line 983, in _find_and_load\n",
      "  File \"<frozen importlib._bootstrap>\", line 967, in _find_and_load_unlocked\n",
      "  File \"<frozen importlib._bootstrap>\", line 677, in _load_unlocked\n",
      "  File \"<frozen importlib._bootstrap_external>\", line 728, in exec_module\n",
      "  File \"<frozen importlib._bootstrap>\", line 219, in _call_with_frames_removed\n",
      "  File \"/Users/danielsiervo/opt/anaconda3/lib/python3.7/site-packages/tensorflow_core/__init__.py\", line 42, in <module>\n",
      "    from . _api.v2 import audio\n",
      "  File \"/Users/danielsiervo/opt/anaconda3/lib/python3.7/site-packages/tensorflow_core/_api/v2/audio/__init__.py\", line 10, in <module>\n",
      "    from tensorflow.python.ops.gen_audio_ops import decode_wav\n",
      "  File \"/Users/danielsiervo/opt/anaconda3/lib/python3.7/site-packages/tensorflow_core/python/ops/gen_audio_ops.py\", line 10, in <module>\n",
      "    from tensorflow.python import pywrap_tensorflow as _pywrap_tensorflow\n",
      "  File \"/Users/danielsiervo/opt/anaconda3/lib/python3.7/site-packages/tensorflow/__init__.py\", line 50, in __getattr__\n",
      "    module = self._load()\n",
      "  File \"/Users/danielsiervo/opt/anaconda3/lib/python3.7/site-packages/tensorflow/__init__.py\", line 44, in _load\n",
      "    module = _importlib.import_module(self.__name__)\n",
      "  File \"/Users/danielsiervo/opt/anaconda3/lib/python3.7/importlib/__init__.py\", line 127, in import_module\n",
      "    return _bootstrap._gcd_import(name[level:], package, level)\n",
      "  File \"/Users/danielsiervo/opt/anaconda3/lib/python3.7/site-packages/tensorflow_core/python/__init__.py\", line 49, in <module>\n",
      "    from tensorflow.python import pywrap_tensorflow\n",
      "  File \"/Users/danielsiervo/opt/anaconda3/lib/python3.7/site-packages/tensorflow_core/python/pywrap_tensorflow.py\", line 74, in <module>\n",
      "    raise ImportError(msg)\n",
      "ImportError: Traceback (most recent call last):\n",
      "  File \"/Users/danielsiervo/opt/anaconda3/lib/python3.7/site-packages/IPython/core/interactiveshell.py\", line 3326, in run_code\n",
      "    exec(code_obj, self.user_global_ns, self.user_ns)\n",
      "  File \"<ipython-input-117-580d4c7a15a6>\", line 1, in <module>\n",
      "    df[df['category'] == 'PARENTING']['text'].iloc[20]\n",
      "  File \"/Users/danielsiervo/opt/anaconda3/lib/python3.7/site-packages/pandas/core/indexing.py\", line 1424, in __getitem__\n",
      "    return self._getitem_axis(maybe_callable, axis=axis)\n",
      "  File \"/Users/danielsiervo/opt/anaconda3/lib/python3.7/site-packages/pandas/core/indexing.py\", line 2157, in _getitem_axis\n",
      "    self._validate_integer(key, axis)\n",
      "  File \"/Users/danielsiervo/opt/anaconda3/lib/python3.7/site-packages/pandas/core/indexing.py\", line 2088, in _validate_integer\n",
      "    raise IndexError(\"single positional indexer is out-of-bounds\")\n",
      "IndexError: single positional indexer is out-of-bounds\n",
      "\n",
      "During handling of the above exception, another exception occurred:\n",
      "\n",
      "Traceback (most recent call last):\n",
      "  File \"/Users/danielsiervo/opt/anaconda3/lib/python3.7/site-packages/IPython/core/interactiveshell.py\", line 2040, in showtraceback\n",
      "    stb = value._render_traceback_()\n",
      "AttributeError: 'IndexError' object has no attribute '_render_traceback_'\n",
      "\n",
      "During handling of the above exception, another exception occurred:\n",
      "\n",
      "Traceback (most recent call last):\n",
      "  File \"/Users/danielsiervo/opt/anaconda3/lib/python3.7/site-packages/tensorflow_core/python/pywrap_tensorflow.py\", line 58, in <module>\n",
      "    from tensorflow.python.pywrap_tensorflow_internal import *\n",
      "  File \"/Users/danielsiervo/opt/anaconda3/lib/python3.7/site-packages/tensorflow_core/python/pywrap_tensorflow_internal.py\", line 2453, in <module>\n",
      "    from tensorflow.python.util import deprecation\n",
      "  File \"/Users/danielsiervo/opt/anaconda3/lib/python3.7/site-packages/tensorflow_core/python/util/deprecation.py\", line 25, in <module>\n",
      "    from tensorflow.python.platform import tf_logging as logging\n",
      "ImportError: cannot import name 'tf_logging' from 'tensorflow.python.platform' (/Users/danielsiervo/opt/anaconda3/lib/python3.7/site-packages/tensorflow/python/platform/__init__.py)\n",
      "\n",
      "\n",
      "Failed to load the native TensorFlow runtime.\n",
      "\n",
      "See https://www.tensorflow.org/install/errors\n",
      "\n",
      "for some common reasons and solutions.  Include the entire stack trace\n",
      "above this error message when asking for help.\n"
     ]
    },
    {
     "ename": "IndexError",
     "evalue": "single positional indexer is out-of-bounds",
     "output_type": "error",
     "traceback": [
      "\u001b[0;31m---------------------------------------------------------------------------\u001b[0m"
     ]
    }
   ],
   "source": [
    "df[df['category'] == 'PARENTING']['text'].iloc[20]"
   ]
  },
  {
   "cell_type": "code",
   "execution_count": 177,
   "metadata": {},
   "outputs": [
    {
     "data": {
      "text/plain": [
       "<matplotlib.axes._subplots.AxesSubplot at 0x1c4ef96c90>"
      ]
     },
     "execution_count": 177,
     "metadata": {},
     "output_type": "execute_result"
    },
    {
     "data": {
      "image/png": "[encoded data removed]",
      "text/plain": [
       "<Figure size 432x288 with 1 Axes>"
      ]
     },
     "metadata": {
      "needs_background": "light"
     },
     "output_type": "display_data"
    }
   ],
   "source": [
    "culture = ['ARTS & CULTURE', 'ARTS', 'CULTURE & ARTS']\n",
    "worldpost = ['WORLDPOST', 'THE WORLDPOST']\n",
    "parents = ['PARENTING', 'PARENTS']\n",
    "\n",
    "df['category'][df['category'].isin(culture)] = \"CULTURE\"\n",
    "df['category'][df['category'].isin(worldpost)] = \"WORLDPOST\"\n",
    "df['category'][df['category'].isin(parents)] = \"PARENTS\"\n",
    "\n",
    "df['category'].value_counts().plot(kind='bar')"
   ]
  },
  {
   "cell_type": "code",
   "execution_count": 138,
   "metadata": {},
   "outputs": [
    {
     "name": "stdout",
     "output_type": "stream",
     "text": [
      "37\n",
      "POLITICS          32739\n",
      "WELLNESS          17827\n",
      "ENTERTAINMENT     16058\n",
      "PARENTS           12632\n",
      "TRAVEL             9887\n",
      "STYLE & BEAUTY     9649\n",
      "HEALTHY LIVING     6694\n",
      "QUEER VOICES       6314\n",
      "WORLDPOST          6243\n",
      "FOOD & DRINK       6226\n",
      "BUSINESS           5937\n",
      "COMEDY             5175\n",
      "SPORTS             4884\n",
      "BLACK VOICES       4528\n",
      "HOME & LIVING      4195\n",
      "CULTURE            3878\n",
      "WEDDINGS           3651\n",
      "WOMEN              3490\n",
      "IMPACT             3459\n",
      "DIVORCE            3426\n",
      "CRIME              3405\n",
      "MEDIA              2815\n",
      "WEIRD NEWS         2670\n",
      "GREEN              2622\n",
      "RELIGION           2556\n",
      "STYLE              2254\n",
      "SCIENCE            2178\n",
      "WORLD NEWS         2177\n",
      "TASTE              2096\n",
      "TECH               2082\n",
      "MONEY              1707\n",
      "FIFTY              1401\n",
      "GOOD NEWS          1398\n",
      "ENVIRONMENT        1323\n",
      "COLLEGE            1144\n",
      "LATINO VOICES      1129\n",
      "EDUCATION          1004\n",
      "Name: category, dtype: int64\n"
     ]
    }
   ],
   "source": [
    "cat = df['category'].value_counts()\n",
    "print(len(cat))\n",
    "print(cat)"
   ]
  },
  {
   "cell_type": "code",
   "execution_count": 139,
   "metadata": {},
   "outputs": [
    {
     "data": {
      "text/plain": [
       "33.17052769936222"
      ]
     },
     "execution_count": 139,
     "metadata": {},
     "output_type": "execute_result"
    }
   ],
   "source": [
    "(cat['POLITICS'] + cat['WELLNESS'] + cat['ENTERTAINMENT'])/cat.sum()*100"
   ]
  },
  {
   "cell_type": "markdown",
   "metadata": {},
   "source": [
    "## Feature Engineering"
   ]
  },
  {
   "cell_type": "markdown",
   "metadata": {},
   "source": [
    "### text cleaning"
   ]
  },
  {
   "cell_type": "code",
   "execution_count": null,
   "metadata": {},
   "outputs": [],
   "source": [
    "df.loc[3]['text']"
   ]
  },
  {
   "cell_type": "code",
   "execution_count": null,
   "metadata": {},
   "outputs": [],
   "source": [
    "df.loc[300]['text']"
   ]
  },
  {
   "cell_type": "code",
   "execution_count": null,
   "metadata": {},
   "outputs": [],
   "source": [
    "df.loc[3000]['text']"
   ]
  },
  {
   "cell_type": "code",
   "execution_count": null,
   "metadata": {},
   "outputs": [],
   "source": [
    "df.loc[29864]['text']"
   ]
  },
  {
   "cell_type": "code",
   "execution_count": null,
   "metadata": {},
   "outputs": [],
   "source": [
    "df.loc[123678]['text']"
   ]
  },
  {
   "cell_type": "markdown",
   "metadata": {},
   "source": [
    "## Categories in weekday"
   ]
  },
  {
   "cell_type": "code",
   "execution_count": 183,
   "metadata": {},
   "outputs": [],
   "source": [
    "df[\"weekday\"] = pd.to_datetime(df_[\"date\"]).dt.date.apply(lambda x: x.weekday())\n",
    "\n",
    "def int2weekday(x):\n",
    "    days = [\"Mon\", \"Tue\", \"Wed\", \"Thu\", \"Fri\", \"Sat\", \"Sun\"]\n",
    "    return days[x]\n",
    "\n",
    "df[\"weekday\"] = df[\"weekday\"].apply(int2weekday)"
   ]
  },
  {
   "cell_type": "code",
   "execution_count": 184,
   "metadata": {},
   "outputs": [
    {
     "data": {
      "text/html": [
       "<div>\n",
       "<style scoped>\n",
       "    .dataframe tbody tr th:only-of-type {\n",
       "        vertical-align: middle;\n",
       "    }\n",
       "\n",
       "    .dataframe tbody tr th {\n",
       "        vertical-align: top;\n",
       "    }\n",
       "\n",
       "    .dataframe thead th {\n",
       "        text-align: right;\n",
       "    }\n",
       "</style>\n",
       "<table border=\"1\" class=\"dataframe\">\n",
       "  <thead>\n",
       "    <tr style=\"text-align: right;\">\n",
       "      <th></th>\n",
       "      <th>weekday</th>\n",
       "      <th>category</th>\n",
       "      <th>data</th>\n",
       "      <th>norm</th>\n",
       "    </tr>\n",
       "  </thead>\n",
       "  <tbody>\n",
       "    <tr>\n",
       "      <td>254</td>\n",
       "      <td>Wed</td>\n",
       "      <td>WEIRD NEWS</td>\n",
       "      <td>339</td>\n",
       "      <td>0.126966</td>\n",
       "    </tr>\n",
       "    <tr>\n",
       "      <td>255</td>\n",
       "      <td>Wed</td>\n",
       "      <td>WELLNESS</td>\n",
       "      <td>3212</td>\n",
       "      <td>0.180176</td>\n",
       "    </tr>\n",
       "    <tr>\n",
       "      <td>256</td>\n",
       "      <td>Wed</td>\n",
       "      <td>WOMEN</td>\n",
       "      <td>538</td>\n",
       "      <td>0.154155</td>\n",
       "    </tr>\n",
       "    <tr>\n",
       "      <td>257</td>\n",
       "      <td>Wed</td>\n",
       "      <td>WORLD NEWS</td>\n",
       "      <td>382</td>\n",
       "      <td>0.175471</td>\n",
       "    </tr>\n",
       "    <tr>\n",
       "      <td>258</td>\n",
       "      <td>Wed</td>\n",
       "      <td>WORLDPOST</td>\n",
       "      <td>639</td>\n",
       "      <td>0.102355</td>\n",
       "    </tr>\n",
       "  </tbody>\n",
       "</table>\n",
       "</div>"
      ],
      "text/plain": [
       "    weekday    category  data      norm\n",
       "254     Wed  WEIRD NEWS   339  0.126966\n",
       "255     Wed    WELLNESS  3212  0.180176\n",
       "256     Wed       WOMEN   538  0.154155\n",
       "257     Wed  WORLD NEWS   382  0.175471\n",
       "258     Wed   WORLDPOST   639  0.102355"
      ]
     },
     "execution_count": 184,
     "metadata": {},
     "output_type": "execute_result"
    }
   ],
   "source": [
    "heat_map = df.groupby([\"weekday\", \"category\"]).size().reset_index(name=\"data\")\n",
    "\n",
    "heat_map['norm'] = heat_map['data'] / heat_map.groupby('category')['data'].transform('sum')\n",
    "\n",
    "\n",
    "heat_map.tail()"
   ]
  },
  {
   "cell_type": "code",
   "execution_count": 185,
   "metadata": {},
   "outputs": [
    {
     "data": {
      "text/html": [
       "<div>\n",
       "<style scoped>\n",
       "    .dataframe tbody tr th:only-of-type {\n",
       "        vertical-align: middle;\n",
       "    }\n",
       "\n",
       "    .dataframe tbody tr th {\n",
       "        vertical-align: top;\n",
       "    }\n",
       "\n",
       "    .dataframe thead th {\n",
       "        text-align: right;\n",
       "    }\n",
       "</style>\n",
       "<table border=\"1\" class=\"dataframe\">\n",
       "  <thead>\n",
       "    <tr style=\"text-align: right;\">\n",
       "      <th>category</th>\n",
       "      <th>BLACK VOICES</th>\n",
       "      <th>BUSINESS</th>\n",
       "      <th>COLLEGE</th>\n",
       "      <th>COMEDY</th>\n",
       "      <th>CRIME</th>\n",
       "      <th>CULTURE</th>\n",
       "      <th>DIVORCE</th>\n",
       "      <th>EDUCATION</th>\n",
       "      <th>ENTERTAINMENT</th>\n",
       "      <th>ENVIRONMENT</th>\n",
       "      <th>...</th>\n",
       "      <th>STYLE &amp; BEAUTY</th>\n",
       "      <th>TASTE</th>\n",
       "      <th>TECH</th>\n",
       "      <th>TRAVEL</th>\n",
       "      <th>WEDDINGS</th>\n",
       "      <th>WEIRD NEWS</th>\n",
       "      <th>WELLNESS</th>\n",
       "      <th>WOMEN</th>\n",
       "      <th>WORLD NEWS</th>\n",
       "      <th>WORLDPOST</th>\n",
       "    </tr>\n",
       "    <tr>\n",
       "      <th>weekday</th>\n",
       "      <th></th>\n",
       "      <th></th>\n",
       "      <th></th>\n",
       "      <th></th>\n",
       "      <th></th>\n",
       "      <th></th>\n",
       "      <th></th>\n",
       "      <th></th>\n",
       "      <th></th>\n",
       "      <th></th>\n",
       "      <th></th>\n",
       "      <th></th>\n",
       "      <th></th>\n",
       "      <th></th>\n",
       "      <th></th>\n",
       "      <th></th>\n",
       "      <th></th>\n",
       "      <th></th>\n",
       "      <th></th>\n",
       "      <th></th>\n",
       "      <th></th>\n",
       "    </tr>\n",
       "  </thead>\n",
       "  <tbody>\n",
       "    <tr>\n",
       "      <td>Sun</td>\n",
       "      <td>0.140018</td>\n",
       "      <td>0.215092</td>\n",
       "      <td>0.125874</td>\n",
       "      <td>0.174493</td>\n",
       "      <td>0.179148</td>\n",
       "      <td>0.166065</td>\n",
       "      <td>0.023643</td>\n",
       "      <td>0.152390</td>\n",
       "      <td>0.169012</td>\n",
       "      <td>0.489040</td>\n",
       "      <td>...</td>\n",
       "      <td>0.086952</td>\n",
       "      <td>0.098282</td>\n",
       "      <td>0.195005</td>\n",
       "      <td>0.079397</td>\n",
       "      <td>0.028759</td>\n",
       "      <td>0.107865</td>\n",
       "      <td>0.063892</td>\n",
       "      <td>0.058739</td>\n",
       "      <td>0.109325</td>\n",
       "      <td>0.206792</td>\n",
       "    </tr>\n",
       "    <tr>\n",
       "      <td>Sat</td>\n",
       "      <td>0.118595</td>\n",
       "      <td>0.214418</td>\n",
       "      <td>0.103147</td>\n",
       "      <td>0.184541</td>\n",
       "      <td>0.207048</td>\n",
       "      <td>0.231047</td>\n",
       "      <td>0.056626</td>\n",
       "      <td>0.128486</td>\n",
       "      <td>0.174368</td>\n",
       "      <td>0.439153</td>\n",
       "      <td>...</td>\n",
       "      <td>0.067054</td>\n",
       "      <td>0.105916</td>\n",
       "      <td>0.216619</td>\n",
       "      <td>0.070901</td>\n",
       "      <td>0.072309</td>\n",
       "      <td>0.163296</td>\n",
       "      <td>0.060751</td>\n",
       "      <td>0.078510</td>\n",
       "      <td>0.070740</td>\n",
       "      <td>0.205190</td>\n",
       "    </tr>\n",
       "    <tr>\n",
       "      <td>Fri</td>\n",
       "      <td>0.140459</td>\n",
       "      <td>0.109651</td>\n",
       "      <td>0.129371</td>\n",
       "      <td>0.133333</td>\n",
       "      <td>0.123642</td>\n",
       "      <td>0.120939</td>\n",
       "      <td>0.195563</td>\n",
       "      <td>0.120518</td>\n",
       "      <td>0.127538</td>\n",
       "      <td>0.010582</td>\n",
       "      <td>...</td>\n",
       "      <td>0.155975</td>\n",
       "      <td>0.166508</td>\n",
       "      <td>0.102786</td>\n",
       "      <td>0.163042</td>\n",
       "      <td>0.179951</td>\n",
       "      <td>0.179026</td>\n",
       "      <td>0.172828</td>\n",
       "      <td>0.197994</td>\n",
       "      <td>0.146991</td>\n",
       "      <td>0.137434</td>\n",
       "    </tr>\n",
       "    <tr>\n",
       "      <td>Thu</td>\n",
       "      <td>0.153931</td>\n",
       "      <td>0.112515</td>\n",
       "      <td>0.158217</td>\n",
       "      <td>0.136425</td>\n",
       "      <td>0.131571</td>\n",
       "      <td>0.109850</td>\n",
       "      <td>0.192061</td>\n",
       "      <td>0.131474</td>\n",
       "      <td>0.130215</td>\n",
       "      <td>0.005291</td>\n",
       "      <td>...</td>\n",
       "      <td>0.156700</td>\n",
       "      <td>0.159351</td>\n",
       "      <td>0.110951</td>\n",
       "      <td>0.173764</td>\n",
       "      <td>0.185703</td>\n",
       "      <td>0.139326</td>\n",
       "      <td>0.174511</td>\n",
       "      <td>0.163037</td>\n",
       "      <td>0.169499</td>\n",
       "      <td>0.110844</td>\n",
       "    </tr>\n",
       "    <tr>\n",
       "      <td>Wed</td>\n",
       "      <td>0.156140</td>\n",
       "      <td>0.109314</td>\n",
       "      <td>0.159091</td>\n",
       "      <td>0.131401</td>\n",
       "      <td>0.116006</td>\n",
       "      <td>0.123259</td>\n",
       "      <td>0.194396</td>\n",
       "      <td>0.141434</td>\n",
       "      <td>0.120065</td>\n",
       "      <td>0.008314</td>\n",
       "      <td>...</td>\n",
       "      <td>0.168722</td>\n",
       "      <td>0.176527</td>\n",
       "      <td>0.119597</td>\n",
       "      <td>0.168403</td>\n",
       "      <td>0.190907</td>\n",
       "      <td>0.126966</td>\n",
       "      <td>0.180176</td>\n",
       "      <td>0.154155</td>\n",
       "      <td>0.175471</td>\n",
       "      <td>0.102355</td>\n",
       "    </tr>\n",
       "    <tr>\n",
       "      <td>Tue</td>\n",
       "      <td>0.141564</td>\n",
       "      <td>0.116557</td>\n",
       "      <td>0.164336</td>\n",
       "      <td>0.134686</td>\n",
       "      <td>0.116593</td>\n",
       "      <td>0.113203</td>\n",
       "      <td>0.179218</td>\n",
       "      <td>0.145418</td>\n",
       "      <td>0.133142</td>\n",
       "      <td>0.009826</td>\n",
       "      <td>...</td>\n",
       "      <td>0.188724</td>\n",
       "      <td>0.141221</td>\n",
       "      <td>0.119597</td>\n",
       "      <td>0.177607</td>\n",
       "      <td>0.175842</td>\n",
       "      <td>0.148689</td>\n",
       "      <td>0.169967</td>\n",
       "      <td>0.187966</td>\n",
       "      <td>0.179146</td>\n",
       "      <td>0.107961</td>\n",
       "    </tr>\n",
       "    <tr>\n",
       "      <td>Mon</td>\n",
       "      <td>0.149293</td>\n",
       "      <td>0.122452</td>\n",
       "      <td>0.159965</td>\n",
       "      <td>0.105121</td>\n",
       "      <td>0.125991</td>\n",
       "      <td>0.135637</td>\n",
       "      <td>0.158494</td>\n",
       "      <td>0.180279</td>\n",
       "      <td>0.145659</td>\n",
       "      <td>0.037793</td>\n",
       "      <td>...</td>\n",
       "      <td>0.175873</td>\n",
       "      <td>0.152195</td>\n",
       "      <td>0.135447</td>\n",
       "      <td>0.166886</td>\n",
       "      <td>0.166530</td>\n",
       "      <td>0.134831</td>\n",
       "      <td>0.177876</td>\n",
       "      <td>0.159599</td>\n",
       "      <td>0.148829</td>\n",
       "      <td>0.129425</td>\n",
       "    </tr>\n",
       "  </tbody>\n",
       "</table>\n",
       "<p>7 rows × 37 columns</p>\n",
       "</div>"
      ],
      "text/plain": [
       "category  BLACK VOICES  BUSINESS   COLLEGE    COMEDY     CRIME   CULTURE  \\\n",
       "weekday                                                                    \n",
       "Sun           0.140018  0.215092  0.125874  0.174493  0.179148  0.166065   \n",
       "Sat           0.118595  0.214418  0.103147  0.184541  0.207048  0.231047   \n",
       "Fri           0.140459  0.109651  0.129371  0.133333  0.123642  0.120939   \n",
       "Thu           0.153931  0.112515  0.158217  0.136425  0.131571  0.109850   \n",
       "Wed           0.156140  0.109314  0.159091  0.131401  0.116006  0.123259   \n",
       "Tue           0.141564  0.116557  0.164336  0.134686  0.116593  0.113203   \n",
       "Mon           0.149293  0.122452  0.159965  0.105121  0.125991  0.135637   \n",
       "\n",
       "category   DIVORCE  EDUCATION  ENTERTAINMENT  ENVIRONMENT  ...  \\\n",
       "weekday                                                    ...   \n",
       "Sun       0.023643   0.152390       0.169012     0.489040  ...   \n",
       "Sat       0.056626   0.128486       0.174368     0.439153  ...   \n",
       "Fri       0.195563   0.120518       0.127538     0.010582  ...   \n",
       "Thu       0.192061   0.131474       0.130215     0.005291  ...   \n",
       "Wed       0.194396   0.141434       0.120065     0.008314  ...   \n",
       "Tue       0.179218   0.145418       0.133142     0.009826  ...   \n",
       "Mon       0.158494   0.180279       0.145659     0.037793  ...   \n",
       "\n",
       "category  STYLE & BEAUTY     TASTE      TECH    TRAVEL  WEDDINGS  WEIRD NEWS  \\\n",
       "weekday                                                                        \n",
       "Sun             0.086952  0.098282  0.195005  0.079397  0.028759    0.107865   \n",
       "Sat             0.067054  0.105916  0.216619  0.070901  0.072309    0.163296   \n",
       "Fri             0.155975  0.166508  0.102786  0.163042  0.179951    0.179026   \n",
       "Thu             0.156700  0.159351  0.110951  0.173764  0.185703    0.139326   \n",
       "Wed             0.168722  0.176527  0.119597  0.168403  0.190907    0.126966   \n",
       "Tue             0.188724  0.141221  0.119597  0.177607  0.175842    0.148689   \n",
       "Mon             0.175873  0.152195  0.135447  0.166886  0.166530    0.134831   \n",
       "\n",
       "category  WELLNESS     WOMEN  WORLD NEWS  WORLDPOST  \n",
       "weekday                                              \n",
       "Sun       0.063892  0.058739    0.109325   0.206792  \n",
       "Sat       0.060751  0.078510    0.070740   0.205190  \n",
       "Fri       0.172828  0.197994    0.146991   0.137434  \n",
       "Thu       0.174511  0.163037    0.169499   0.110844  \n",
       "Wed       0.180176  0.154155    0.175471   0.102355  \n",
       "Tue       0.169967  0.187966    0.179146   0.107961  \n",
       "Mon       0.177876  0.159599    0.148829   0.129425  \n",
       "\n",
       "[7 rows x 37 columns]"
      ]
     },
     "execution_count": 185,
     "metadata": {},
     "output_type": "execute_result"
    }
   ],
   "source": [
    "heat_map2 = heat_map.pivot(\"weekday\", \"category\", \"norm\").fillna(0).reindex([\"Mon\",\n",
    "                                                    \"Tue\", \"Wed\", \"Thu\", \"Fri\", \"Sat\", \"Sun\"][::-1])\n",
    "heat_map2.head(10)"
   ]
  },
  {
   "cell_type": "code",
   "execution_count": 186,
   "metadata": {},
   "outputs": [
    {
     "data": {
      "text/plain": [
       "<matplotlib.axes._subplots.AxesSubplot at 0x1c4e5f3dd0>"
      ]
     },
     "execution_count": 186,
     "metadata": {},
     "output_type": "execute_result"
    },
    {
     "data": {
      "image/png": "[encoded data removed]",
      "text/plain": [
       "<Figure size 2016x936 with 2 Axes>"
      ]
     },
     "metadata": {
      "needs_background": "light"
     },
     "output_type": "display_data"
    }
   ],
   "source": [
    "import seaborn as sns\n",
    "import matplotlib as pl\n",
    "sns.set(font_scale=1.8)\n",
    "%matplotlib inline\n",
    "fig, ax = plt.subplots(figsize=(28,13))\n",
    "#plt.xticks(fontsize=14)\n",
    "ax.set_ylim(-0.5, 7+0.5)\n",
    "sns.heatmap(heat_map2, cbar_kws={'label': 'percentage of the total articles'}, ax=ax)\n"
   ]
  },
  {
   "cell_type": "markdown",
   "metadata": {},
   "source": [
    "## Categories and author"
   ]
  },
  {
   "cell_type": "code",
   "execution_count": 144,
   "metadata": {},
   "outputs": [
    {
     "data": {
      "text/html": [
       "<div>\n",
       "<style scoped>\n",
       "    .dataframe tbody tr th:only-of-type {\n",
       "        vertical-align: middle;\n",
       "    }\n",
       "\n",
       "    .dataframe tbody tr th {\n",
       "        vertical-align: top;\n",
       "    }\n",
       "\n",
       "    .dataframe thead th {\n",
       "        text-align: right;\n",
       "    }\n",
       "</style>\n",
       "<table border=\"1\" class=\"dataframe\">\n",
       "  <thead>\n",
       "    <tr style=\"text-align: right;\">\n",
       "      <th></th>\n",
       "      <th>authors</th>\n",
       "      <th>category</th>\n",
       "      <th>data</th>\n",
       "      <th>norm</th>\n",
       "    </tr>\n",
       "  </thead>\n",
       "  <tbody>\n",
       "    <tr>\n",
       "      <td>0</td>\n",
       "      <td>UNK</td>\n",
       "      <td>BLACK VOICES</td>\n",
       "      <td>1006</td>\n",
       "      <td>0.222173</td>\n",
       "    </tr>\n",
       "    <tr>\n",
       "      <td>1</td>\n",
       "      <td>UNK</td>\n",
       "      <td>BUSINESS</td>\n",
       "      <td>989</td>\n",
       "      <td>0.166582</td>\n",
       "    </tr>\n",
       "    <tr>\n",
       "      <td>2</td>\n",
       "      <td>UNK</td>\n",
       "      <td>COLLEGE</td>\n",
       "      <td>111</td>\n",
       "      <td>0.097028</td>\n",
       "    </tr>\n",
       "    <tr>\n",
       "      <td>3</td>\n",
       "      <td>UNK</td>\n",
       "      <td>COMEDY</td>\n",
       "      <td>729</td>\n",
       "      <td>0.140870</td>\n",
       "    </tr>\n",
       "    <tr>\n",
       "      <td>4</td>\n",
       "      <td>UNK</td>\n",
       "      <td>CRIME</td>\n",
       "      <td>953</td>\n",
       "      <td>0.279883</td>\n",
       "    </tr>\n",
       "  </tbody>\n",
       "</table>\n",
       "</div>"
      ],
      "text/plain": [
       "  authors      category  data      norm\n",
       "0     UNK  BLACK VOICES  1006  0.222173\n",
       "1     UNK      BUSINESS   989  0.166582\n",
       "2     UNK       COLLEGE   111  0.097028\n",
       "3     UNK        COMEDY   729  0.140870\n",
       "4     UNK         CRIME   953  0.279883"
      ]
     },
     "execution_count": 144,
     "metadata": {},
     "output_type": "execute_result"
    }
   ],
   "source": [
    "authors = df.groupby(['authors', 'category']).size().reset_index(name='data')\n",
    "\n",
    "authors['norm'] = authors['data'] / authors.groupby('category')['data'].transform('sum')\n",
    "authors['authors'].replace(r'^\\s*$', 'UNK', regex=True, inplace=True)\n",
    "authors.head()"
   ]
  },
  {
   "cell_type": "code",
   "execution_count": 145,
   "metadata": {},
   "outputs": [
    {
     "data": {
      "text/html": [
       "<div>\n",
       "<style scoped>\n",
       "    .dataframe tbody tr th:only-of-type {\n",
       "        vertical-align: middle;\n",
       "    }\n",
       "\n",
       "    .dataframe tbody tr th {\n",
       "        vertical-align: top;\n",
       "    }\n",
       "\n",
       "    .dataframe thead th {\n",
       "        text-align: right;\n",
       "    }\n",
       "</style>\n",
       "<table border=\"1\" class=\"dataframe\">\n",
       "  <thead>\n",
       "    <tr style=\"text-align: right;\">\n",
       "      <th>category</th>\n",
       "      <th>BLACK VOICES</th>\n",
       "      <th>BUSINESS</th>\n",
       "      <th>COLLEGE</th>\n",
       "      <th>COMEDY</th>\n",
       "      <th>CRIME</th>\n",
       "      <th>CULTURE</th>\n",
       "      <th>DIVORCE</th>\n",
       "      <th>EDUCATION</th>\n",
       "      <th>ENTERTAINMENT</th>\n",
       "      <th>ENVIRONMENT</th>\n",
       "      <th>...</th>\n",
       "      <th>STYLE &amp; BEAUTY</th>\n",
       "      <th>TASTE</th>\n",
       "      <th>TECH</th>\n",
       "      <th>TRAVEL</th>\n",
       "      <th>WEDDINGS</th>\n",
       "      <th>WEIRD NEWS</th>\n",
       "      <th>WELLNESS</th>\n",
       "      <th>WOMEN</th>\n",
       "      <th>WORLD NEWS</th>\n",
       "      <th>WORLDPOST</th>\n",
       "    </tr>\n",
       "    <tr>\n",
       "      <th>authors</th>\n",
       "      <th></th>\n",
       "      <th></th>\n",
       "      <th></th>\n",
       "      <th></th>\n",
       "      <th></th>\n",
       "      <th></th>\n",
       "      <th></th>\n",
       "      <th></th>\n",
       "      <th></th>\n",
       "      <th></th>\n",
       "      <th></th>\n",
       "      <th></th>\n",
       "      <th></th>\n",
       "      <th></th>\n",
       "      <th></th>\n",
       "      <th></th>\n",
       "      <th></th>\n",
       "      <th></th>\n",
       "      <th></th>\n",
       "      <th></th>\n",
       "      <th></th>\n",
       "    </tr>\n",
       "  </thead>\n",
       "  <tbody>\n",
       "    <tr>\n",
       "      <td>Basil Kreimendahl, Contributor\\nPlaywright</td>\n",
       "      <td>0.0</td>\n",
       "      <td>0.0</td>\n",
       "      <td>0.0</td>\n",
       "      <td>0.0</td>\n",
       "      <td>0.0</td>\n",
       "      <td>0.0</td>\n",
       "      <td>0.0</td>\n",
       "      <td>0.0</td>\n",
       "      <td>0.0</td>\n",
       "      <td>0.0</td>\n",
       "      <td>...</td>\n",
       "      <td>0.0</td>\n",
       "      <td>0.0</td>\n",
       "      <td>0.0</td>\n",
       "      <td>0.0</td>\n",
       "      <td>0.0</td>\n",
       "      <td>0.0</td>\n",
       "      <td>0.0</td>\n",
       "      <td>0.0</td>\n",
       "      <td>0.0</td>\n",
       "      <td>0.0</td>\n",
       "    </tr>\n",
       "    <tr>\n",
       "      <td>Bill Bigelow, ContributorRethinking Schools curriculum editor, Zinn Education Project c...</td>\n",
       "      <td>0.0</td>\n",
       "      <td>0.0</td>\n",
       "      <td>0.0</td>\n",
       "      <td>0.0</td>\n",
       "      <td>0.0</td>\n",
       "      <td>0.0</td>\n",
       "      <td>0.0</td>\n",
       "      <td>0.0</td>\n",
       "      <td>0.0</td>\n",
       "      <td>0.0</td>\n",
       "      <td>...</td>\n",
       "      <td>0.0</td>\n",
       "      <td>0.0</td>\n",
       "      <td>0.0</td>\n",
       "      <td>0.0</td>\n",
       "      <td>0.0</td>\n",
       "      <td>0.0</td>\n",
       "      <td>0.0</td>\n",
       "      <td>0.0</td>\n",
       "      <td>0.0</td>\n",
       "      <td>0.0</td>\n",
       "    </tr>\n",
       "    <tr>\n",
       "      <td>Bustle, Contributor\\nNews, entertainment, lifestyle site</td>\n",
       "      <td>0.0</td>\n",
       "      <td>0.0</td>\n",
       "      <td>0.0</td>\n",
       "      <td>0.0</td>\n",
       "      <td>0.0</td>\n",
       "      <td>0.0</td>\n",
       "      <td>0.0</td>\n",
       "      <td>0.0</td>\n",
       "      <td>0.0</td>\n",
       "      <td>0.0</td>\n",
       "      <td>...</td>\n",
       "      <td>0.0</td>\n",
       "      <td>0.0</td>\n",
       "      <td>0.0</td>\n",
       "      <td>0.0</td>\n",
       "      <td>1.0</td>\n",
       "      <td>0.0</td>\n",
       "      <td>0.0</td>\n",
       "      <td>0.0</td>\n",
       "      <td>0.0</td>\n",
       "      <td>0.0</td>\n",
       "    </tr>\n",
       "    <tr>\n",
       "      <td>Bustle, ContributorNews, entertainment, lifestyle site</td>\n",
       "      <td>0.0</td>\n",
       "      <td>0.0</td>\n",
       "      <td>0.0</td>\n",
       "      <td>0.0</td>\n",
       "      <td>0.0</td>\n",
       "      <td>0.0</td>\n",
       "      <td>0.0</td>\n",
       "      <td>0.0</td>\n",
       "      <td>0.0</td>\n",
       "      <td>0.0</td>\n",
       "      <td>...</td>\n",
       "      <td>0.0</td>\n",
       "      <td>0.0</td>\n",
       "      <td>0.0</td>\n",
       "      <td>0.0</td>\n",
       "      <td>0.0</td>\n",
       "      <td>0.0</td>\n",
       "      <td>0.0</td>\n",
       "      <td>1.0</td>\n",
       "      <td>0.0</td>\n",
       "      <td>0.0</td>\n",
       "    </tr>\n",
       "    <tr>\n",
       "      <td>Cristian Farias, Elise Foley, and Willa Frej</td>\n",
       "      <td>0.0</td>\n",
       "      <td>0.0</td>\n",
       "      <td>0.0</td>\n",
       "      <td>0.0</td>\n",
       "      <td>0.0</td>\n",
       "      <td>0.0</td>\n",
       "      <td>0.0</td>\n",
       "      <td>0.0</td>\n",
       "      <td>0.0</td>\n",
       "      <td>0.0</td>\n",
       "      <td>...</td>\n",
       "      <td>0.0</td>\n",
       "      <td>0.0</td>\n",
       "      <td>0.0</td>\n",
       "      <td>0.0</td>\n",
       "      <td>0.0</td>\n",
       "      <td>0.0</td>\n",
       "      <td>0.0</td>\n",
       "      <td>0.0</td>\n",
       "      <td>0.0</td>\n",
       "      <td>0.0</td>\n",
       "    </tr>\n",
       "  </tbody>\n",
       "</table>\n",
       "<p>5 rows × 37 columns</p>\n",
       "</div>"
      ],
      "text/plain": [
       "category                                            BLACK VOICES  BUSINESS  \\\n",
       "authors                                                                      \n",
       " Basil Kreimendahl, Contributor\\nPlaywright                  0.0       0.0   \n",
       " Bill Bigelow, ContributorRethinking Schools cu...           0.0       0.0   \n",
       " Bustle, Contributor\\nNews, entertainment, life...           0.0       0.0   \n",
       " Bustle, ContributorNews, entertainment, lifest...           0.0       0.0   \n",
       " Cristian Farias, Elise Foley, and Willa Frej                0.0       0.0   \n",
       "\n",
       "category                                            COLLEGE  COMEDY  CRIME  \\\n",
       "authors                                                                      \n",
       " Basil Kreimendahl, Contributor\\nPlaywright             0.0     0.0    0.0   \n",
       " Bill Bigelow, ContributorRethinking Schools cu...      0.0     0.0    0.0   \n",
       " Bustle, Contributor\\nNews, entertainment, life...      0.0     0.0    0.0   \n",
       " Bustle, ContributorNews, entertainment, lifest...      0.0     0.0    0.0   \n",
       " Cristian Farias, Elise Foley, and Willa Frej           0.0     0.0    0.0   \n",
       "\n",
       "category                                            CULTURE  DIVORCE  \\\n",
       "authors                                                                \n",
       " Basil Kreimendahl, Contributor\\nPlaywright             0.0      0.0   \n",
       " Bill Bigelow, ContributorRethinking Schools cu...      0.0      0.0   \n",
       " Bustle, Contributor\\nNews, entertainment, life...      0.0      0.0   \n",
       " Bustle, ContributorNews, entertainment, lifest...      0.0      0.0   \n",
       " Cristian Farias, Elise Foley, and Willa Frej           0.0      0.0   \n",
       "\n",
       "category                                            EDUCATION  ENTERTAINMENT  \\\n",
       "authors                                                                        \n",
       " Basil Kreimendahl, Contributor\\nPlaywright               0.0            0.0   \n",
       " Bill Bigelow, ContributorRethinking Schools cu...        0.0            0.0   \n",
       " Bustle, Contributor\\nNews, entertainment, life...        0.0            0.0   \n",
       " Bustle, ContributorNews, entertainment, lifest...        0.0            0.0   \n",
       " Cristian Farias, Elise Foley, and Willa Frej             0.0            0.0   \n",
       "\n",
       "category                                            ENVIRONMENT  ...  \\\n",
       "authors                                                          ...   \n",
       " Basil Kreimendahl, Contributor\\nPlaywright                 0.0  ...   \n",
       " Bill Bigelow, ContributorRethinking Schools cu...          0.0  ...   \n",
       " Bustle, Contributor\\nNews, entertainment, life...          0.0  ...   \n",
       " Bustle, ContributorNews, entertainment, lifest...          0.0  ...   \n",
       " Cristian Farias, Elise Foley, and Willa Frej               0.0  ...   \n",
       "\n",
       "category                                            STYLE & BEAUTY  TASTE  \\\n",
       "authors                                                                     \n",
       " Basil Kreimendahl, Contributor\\nPlaywright                    0.0    0.0   \n",
       " Bill Bigelow, ContributorRethinking Schools cu...             0.0    0.0   \n",
       " Bustle, Contributor\\nNews, entertainment, life...             0.0    0.0   \n",
       " Bustle, ContributorNews, entertainment, lifest...             0.0    0.0   \n",
       " Cristian Farias, Elise Foley, and Willa Frej                  0.0    0.0   \n",
       "\n",
       "category                                            TECH  TRAVEL  WEDDINGS  \\\n",
       "authors                                                                      \n",
       " Basil Kreimendahl, Contributor\\nPlaywright          0.0     0.0       0.0   \n",
       " Bill Bigelow, ContributorRethinking Schools cu...   0.0     0.0       0.0   \n",
       " Bustle, Contributor\\nNews, entertainment, life...   0.0     0.0       1.0   \n",
       " Bustle, ContributorNews, entertainment, lifest...   0.0     0.0       0.0   \n",
       " Cristian Farias, Elise Foley, and Willa Frej        0.0     0.0       0.0   \n",
       "\n",
       "category                                            WEIRD NEWS  WELLNESS  \\\n",
       "authors                                                                    \n",
       " Basil Kreimendahl, Contributor\\nPlaywright                0.0       0.0   \n",
       " Bill Bigelow, ContributorRethinking Schools cu...         0.0       0.0   \n",
       " Bustle, Contributor\\nNews, entertainment, life...         0.0       0.0   \n",
       " Bustle, ContributorNews, entertainment, lifest...         0.0       0.0   \n",
       " Cristian Farias, Elise Foley, and Willa Frej              0.0       0.0   \n",
       "\n",
       "category                                            WOMEN  WORLD NEWS  \\\n",
       "authors                                                                 \n",
       " Basil Kreimendahl, Contributor\\nPlaywright           0.0         0.0   \n",
       " Bill Bigelow, ContributorRethinking Schools cu...    0.0         0.0   \n",
       " Bustle, Contributor\\nNews, entertainment, life...    0.0         0.0   \n",
       " Bustle, ContributorNews, entertainment, lifest...    1.0         0.0   \n",
       " Cristian Farias, Elise Foley, and Willa Frej         0.0         0.0   \n",
       "\n",
       "category                                            WORLDPOST  \n",
       "authors                                                        \n",
       " Basil Kreimendahl, Contributor\\nPlaywright               0.0  \n",
       " Bill Bigelow, ContributorRethinking Schools cu...        0.0  \n",
       " Bustle, Contributor\\nNews, entertainment, life...        0.0  \n",
       " Bustle, ContributorNews, entertainment, lifest...        0.0  \n",
       " Cristian Farias, Elise Foley, and Willa Frej             0.0  \n",
       "\n",
       "[5 rows x 37 columns]"
      ]
     },
     "execution_count": 145,
     "metadata": {},
     "output_type": "execute_result"
    }
   ],
   "source": [
    "authors2 = authors.pivot('authors', 'category', 'data').fillna(0)\n",
    "\n",
    "authors2.head()"
   ]
  },
  {
   "cell_type": "code",
   "execution_count": 146,
   "metadata": {},
   "outputs": [
    {
     "data": {
      "image/png": "[encoded data removed]",
      "text/plain": [
       "<Figure size 432x288 with 2 Axes>"
      ]
     },
     "metadata": {
      "needs_background": "light"
     },
     "output_type": "display_data"
    }
   ],
   "source": [
    "ax = sns.heatmap(authors2)"
   ]
  },
  {
   "cell_type": "code",
   "execution_count": 147,
   "metadata": {},
   "outputs": [],
   "source": [
    "X_train, X_test, Y_train, Y_test = train_test_split(df['text'], df['category'])"
   ]
  },
  {
   "cell_type": "code",
   "execution_count": 148,
   "metadata": {},
   "outputs": [
    {
     "data": {
      "text/html": [
       "<div>\n",
       "<style scoped>\n",
       "    .dataframe tbody tr th:only-of-type {\n",
       "        vertical-align: middle;\n",
       "    }\n",
       "\n",
       "    .dataframe tbody tr th {\n",
       "        vertical-align: top;\n",
       "    }\n",
       "\n",
       "    .dataframe thead th {\n",
       "        text-align: right;\n",
       "    }\n",
       "</style>\n",
       "<table border=\"1\" class=\"dataframe\">\n",
       "  <thead>\n",
       "    <tr style=\"text-align: right;\">\n",
       "      <th></th>\n",
       "      <th>text</th>\n",
       "      <th>category</th>\n",
       "    </tr>\n",
       "  </thead>\n",
       "  <tbody>\n",
       "    <tr>\n",
       "      <td>123499</td>\n",
       "      <td>My Mother Is Better At Online Dating Than Me</td>\n",
       "      <td>WOMEN</td>\n",
       "    </tr>\n",
       "    <tr>\n",
       "      <td>194916</td>\n",
       "      <td>Russia's 'Gay Propaganda' Crackdown: Will Pro...</td>\n",
       "      <td>QUEER VOICES</td>\n",
       "    </tr>\n",
       "    <tr>\n",
       "      <td>24880</td>\n",
       "      <td>Anders Emil Møller, ContributorI'm the managin...</td>\n",
       "      <td>BUSINESS</td>\n",
       "    </tr>\n",
       "    <tr>\n",
       "      <td>180349</td>\n",
       "      <td>Lynn Toler, Contributor\\nDivorce Court Host an...</td>\n",
       "      <td>WEDDINGS</td>\n",
       "    </tr>\n",
       "    <tr>\n",
       "      <td>146213</td>\n",
       "      <td>Doug and Leslie Gustafson, Contributor\\nAuthor...</td>\n",
       "      <td>WEDDINGS</td>\n",
       "    </tr>\n",
       "  </tbody>\n",
       "</table>\n",
       "</div>"
      ],
      "text/plain": [
       "                                                     text      category\n",
       "123499      My Mother Is Better At Online Dating Than Me          WOMEN\n",
       "194916   Russia's 'Gay Propaganda' Crackdown: Will Pro...  QUEER VOICES\n",
       "24880   Anders Emil Møller, ContributorI'm the managin...      BUSINESS\n",
       "180349  Lynn Toler, Contributor\\nDivorce Court Host an...      WEDDINGS\n",
       "146213  Doug and Leslie Gustafson, Contributor\\nAuthor...      WEDDINGS"
      ]
     },
     "execution_count": 148,
     "metadata": {},
     "output_type": "execute_result"
    }
   ],
   "source": [
    "train = pd.concat([X_train, Y_train], axis=1)\n",
    "test = pd.concat([X_test, Y_test], axis=1)\n",
    "test.head()"
   ]
  },
  {
   "cell_type": "code",
   "execution_count": 164,
   "metadata": {},
   "outputs": [],
   "source": [
    "a = [1,2,3,4]"
   ]
  },
  {
   "cell_type": "code",
   "execution_count": 168,
   "metadata": {},
   "outputs": [
    {
     "data": {
      "text/plain": [
       "[4, 3, 2, 1]"
      ]
     },
     "execution_count": 168,
     "metadata": {},
     "output_type": "execute_result"
    }
   ],
   "source": [
    "a[::-1]"
   ]
  },
  {
   "cell_type": "code",
   "execution_count": null,
   "metadata": {},
   "outputs": [],
   "source": []
  }
 ],
 "metadata": {
  "kernelspec": {
   "display_name": "Python 3",
   "language": "python",
   "name": "python3"
  },
  "language_info": {
   "codemirror_mode": {
    "name": "ipython",
    "version": 3
   },
   "file_extension": ".py",
   "mimetype": "text/x-python",
   "name": "python",
   "nbconvert_exporter": "python",
   "pygments_lexer": "ipython3",
   "version": "3.7.4"
  }
 },
 "nbformat": 4,
 "nbformat_minor": 2
}
