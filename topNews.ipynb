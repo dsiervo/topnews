{
  "nbformat": 4,
  "nbformat_minor": 0,
  "metadata": {
    "colab": {
      "name": "topNews.ipynb",
      "provenance": [],
      "collapsed_sections": [],
      "include_colab_link": true
    },
    "kernelspec": {
      "name": "python3",
      "display_name": "Python 3"
    },
    "accelerator": "GPU"
  },
  "cells": [
    {
      "cell_type": "markdown",
      "metadata": {
        "id": "view-in-github",
        "colab_type": "text"
      },
      "source": [
        "<a href=\"https://colab.research.google.com/github/dsiervo/topnews/blob/master/topNews.ipynb\" target=\"_parent\"><img src=\"https://colab.research.google.com/assets/colab-badge.svg\" alt=\"Open In Colab\"/></a>"
      ]
    },
    {
      "cell_type": "code",
      "metadata": {
        "id": "7Ynf8N7CIlQa",
        "colab_type": "code",
        "outputId": "62cfebcd-202c-4f8e-8d47-abc745b4fe50",
        "colab": {
          "base_uri": "https://localhost:8080/",
          "height": 51
        }
      },
      "source": [
        "%tensorflow_version 2.x\n",
        "import tensorflow as tf\n",
        "device_name = tf.test.gpu_device_name()\n",
        "if device_name != '/device:GPU:0':\n",
        "  raise SystemError('GPU device not found')\n",
        "print('Found GPU at: {}'.format(device_name))"
      ],
      "execution_count": 1,
      "outputs": [
        {
          "output_type": "stream",
          "text": [
            "TensorFlow 2.x selected.\n",
            "Found GPU at: /device:GPU:0\n"
          ],
          "name": "stdout"
        }
      ]
    },
    {
      "cell_type": "code",
      "metadata": {
        "id": "CdLfhpjMIgsu",
        "colab_type": "code",
        "colab": {}
      },
      "source": [
        "# install ktrain\n",
        "!pip3 install ktrain"
      ],
      "execution_count": 0,
      "outputs": []
    },
    {
      "cell_type": "code",
      "metadata": {
        "id": "wMpE4EFwJAFe",
        "colab_type": "code",
        "outputId": "c4176b45-6016-4694-ab03-1c64f9e45593",
        "colab": {
          "base_uri": "https://localhost:8080/",
          "height": 34
        }
      },
      "source": [
        "import ktrain\n",
        "import tensorflow as tf\n",
        "import pandas as pd\n",
        "import numpy as np\n",
        "import sklearn as sk\n",
        "from plotly.offline import init_notebook_mode,iplot\n",
        "import plotly.graph_objects as go\n",
        "import cufflinks as cf\n",
        "from sklearn.metrics import accuracy_score"
      ],
      "execution_count": 3,
      "outputs": [
        {
          "output_type": "stream",
          "text": [
            "using Keras version: 2.2.4-tf\n"
          ],
          "name": "stdout"
        }
      ]
    },
    {
      "cell_type": "code",
      "metadata": {
        "id": "5XAZuPiqKa5_",
        "colab_type": "code",
        "colab": {}
      },
      "source": [
        "from google.colab import drive\n",
        "drive.mount('/content/drive')"
      ],
      "execution_count": 0,
      "outputs": []
    },
    {
      "cell_type": "markdown",
      "metadata": {
        "id": "Xk44iUEHw-Hw",
        "colab_type": "text"
      },
      "source": [
        "## Data exploration and cleaning"
      ]
    },
    {
      "cell_type": "code",
      "metadata": {
        "id": "xHNUumUMKsV6",
        "colab_type": "code",
        "outputId": "6d9b47e4-b562-41ee-8b3c-c9ae43fe775e",
        "colab": {
          "base_uri": "https://localhost:8080/",
          "height": 204
        }
      },
      "source": [
        "path = '/content/drive/My Drive/News_Category_Dataset_v2.json'\n",
        "\n",
        "df_ = pd.read_json(path, lines=True)\n",
        "\n",
        "df_.info()"
      ],
      "execution_count": 5,
      "outputs": [
        {
          "output_type": "stream",
          "text": [
            "<class 'pandas.core.frame.DataFrame'>\n",
            "RangeIndex: 200853 entries, 0 to 200852\n",
            "Data columns (total 6 columns):\n",
            "category             200853 non-null object\n",
            "headline             200853 non-null object\n",
            "authors              200853 non-null object\n",
            "link                 200853 non-null object\n",
            "short_description    200853 non-null object\n",
            "date                 200853 non-null datetime64[ns]\n",
            "dtypes: datetime64[ns](1), object(5)\n",
            "memory usage: 9.2+ MB\n"
          ],
          "name": "stdout"
        }
      ]
    },
    {
      "cell_type": "code",
      "metadata": {
        "id": "mn0uysShWNL-",
        "colab_type": "code",
        "outputId": "4d898820-d9c8-4bf6-ad61-d458aec22fd4",
        "colab": {
          "base_uri": "https://localhost:8080/",
          "height": 289
        }
      },
      "source": [
        "df_.head()"
      ],
      "execution_count": 6,
      "outputs": [
        {
          "output_type": "execute_result",
          "data": {
            "text/html": [
              "<div>\n",
              "<style scoped>\n",
              "    .dataframe tbody tr th:only-of-type {\n",
              "        vertical-align: middle;\n",
              "    }\n",
              "\n",
              "    .dataframe tbody tr th {\n",
              "        vertical-align: top;\n",
              "    }\n",
              "\n",
              "    .dataframe thead th {\n",
              "        text-align: right;\n",
              "    }\n",
              "</style>\n",
              "<table border=\"1\" class=\"dataframe\">\n",
              "  <thead>\n",
              "    <tr style=\"text-align: right;\">\n",
              "      <th></th>\n",
              "      <th>category</th>\n",
              "      <th>headline</th>\n",
              "      <th>authors</th>\n",
              "      <th>link</th>\n",
              "      <th>short_description</th>\n",
              "      <th>date</th>\n",
              "    </tr>\n",
              "  </thead>\n",
              "  <tbody>\n",
              "    <tr>\n",
              "      <th>0</th>\n",
              "      <td>CRIME</td>\n",
              "      <td>There Were 2 Mass Shootings In Texas Last Week...</td>\n",
              "      <td>Melissa Jeltsen</td>\n",
              "      <td>https://www.huffingtonpost.com/entry/texas-ama...</td>\n",
              "      <td>She left her husband. He killed their children...</td>\n",
              "      <td>2018-05-26</td>\n",
              "    </tr>\n",
              "    <tr>\n",
              "      <th>1</th>\n",
              "      <td>ENTERTAINMENT</td>\n",
              "      <td>Will Smith Joins Diplo And Nicky Jam For The 2...</td>\n",
              "      <td>Andy McDonald</td>\n",
              "      <td>https://www.huffingtonpost.com/entry/will-smit...</td>\n",
              "      <td>Of course it has a song.</td>\n",
              "      <td>2018-05-26</td>\n",
              "    </tr>\n",
              "    <tr>\n",
              "      <th>2</th>\n",
              "      <td>ENTERTAINMENT</td>\n",
              "      <td>Hugh Grant Marries For The First Time At Age 57</td>\n",
              "      <td>Ron Dicker</td>\n",
              "      <td>https://www.huffingtonpost.com/entry/hugh-gran...</td>\n",
              "      <td>The actor and his longtime girlfriend Anna Ebe...</td>\n",
              "      <td>2018-05-26</td>\n",
              "    </tr>\n",
              "    <tr>\n",
              "      <th>3</th>\n",
              "      <td>ENTERTAINMENT</td>\n",
              "      <td>Jim Carrey Blasts 'Castrato' Adam Schiff And D...</td>\n",
              "      <td>Ron Dicker</td>\n",
              "      <td>https://www.huffingtonpost.com/entry/jim-carre...</td>\n",
              "      <td>The actor gives Dems an ass-kicking for not fi...</td>\n",
              "      <td>2018-05-26</td>\n",
              "    </tr>\n",
              "    <tr>\n",
              "      <th>4</th>\n",
              "      <td>ENTERTAINMENT</td>\n",
              "      <td>Julianna Margulies Uses Donald Trump Poop Bags...</td>\n",
              "      <td>Ron Dicker</td>\n",
              "      <td>https://www.huffingtonpost.com/entry/julianna-...</td>\n",
              "      <td>The \"Dietland\" actress said using the bags is ...</td>\n",
              "      <td>2018-05-26</td>\n",
              "    </tr>\n",
              "  </tbody>\n",
              "</table>\n",
              "</div>"
            ],
            "text/plain": [
              "        category  ...       date\n",
              "0          CRIME  ... 2018-05-26\n",
              "1  ENTERTAINMENT  ... 2018-05-26\n",
              "2  ENTERTAINMENT  ... 2018-05-26\n",
              "3  ENTERTAINMENT  ... 2018-05-26\n",
              "4  ENTERTAINMENT  ... 2018-05-26\n",
              "\n",
              "[5 rows x 6 columns]"
            ]
          },
          "metadata": {
            "tags": []
          },
          "execution_count": 6
        }
      ]
    },
    {
      "cell_type": "markdown",
      "metadata": {
        "id": "uykqyPnfxHKv",
        "colab_type": "text"
      },
      "source": [
        "Columns that do not seem to provide valuable information for classification by category are removed and those that do are joined into a single column."
      ]
    },
    {
      "cell_type": "code",
      "metadata": {
        "id": "ao3TxAAYWpHD",
        "colab_type": "code",
        "outputId": "7a6d5801-81a1-48e2-8e23-943d7a21b99f",
        "colab": {
          "base_uri": "https://localhost:8080/",
          "height": 204
        }
      },
      "source": [
        "df_['text'] = df_['authors']+' '+df_['headline'] +' '+ df_['short_description']\n",
        "\n",
        "df = df_.drop(['link', 'date', 'headline', 'short_description', 'authors'], axis=1)\n",
        "\n",
        "df.head()"
      ],
      "execution_count": 7,
      "outputs": [
        {
          "output_type": "execute_result",
          "data": {
            "text/html": [
              "<div>\n",
              "<style scoped>\n",
              "    .dataframe tbody tr th:only-of-type {\n",
              "        vertical-align: middle;\n",
              "    }\n",
              "\n",
              "    .dataframe tbody tr th {\n",
              "        vertical-align: top;\n",
              "    }\n",
              "\n",
              "    .dataframe thead th {\n",
              "        text-align: right;\n",
              "    }\n",
              "</style>\n",
              "<table border=\"1\" class=\"dataframe\">\n",
              "  <thead>\n",
              "    <tr style=\"text-align: right;\">\n",
              "      <th></th>\n",
              "      <th>category</th>\n",
              "      <th>text</th>\n",
              "    </tr>\n",
              "  </thead>\n",
              "  <tbody>\n",
              "    <tr>\n",
              "      <th>0</th>\n",
              "      <td>CRIME</td>\n",
              "      <td>Melissa Jeltsen There Were 2 Mass Shootings In...</td>\n",
              "    </tr>\n",
              "    <tr>\n",
              "      <th>1</th>\n",
              "      <td>ENTERTAINMENT</td>\n",
              "      <td>Andy McDonald Will Smith Joins Diplo And Nicky...</td>\n",
              "    </tr>\n",
              "    <tr>\n",
              "      <th>2</th>\n",
              "      <td>ENTERTAINMENT</td>\n",
              "      <td>Ron Dicker Hugh Grant Marries For The First Ti...</td>\n",
              "    </tr>\n",
              "    <tr>\n",
              "      <th>3</th>\n",
              "      <td>ENTERTAINMENT</td>\n",
              "      <td>Ron Dicker Jim Carrey Blasts 'Castrato' Adam S...</td>\n",
              "    </tr>\n",
              "    <tr>\n",
              "      <th>4</th>\n",
              "      <td>ENTERTAINMENT</td>\n",
              "      <td>Ron Dicker Julianna Margulies Uses Donald Trum...</td>\n",
              "    </tr>\n",
              "  </tbody>\n",
              "</table>\n",
              "</div>"
            ],
            "text/plain": [
              "        category                                               text\n",
              "0          CRIME  Melissa Jeltsen There Were 2 Mass Shootings In...\n",
              "1  ENTERTAINMENT  Andy McDonald Will Smith Joins Diplo And Nicky...\n",
              "2  ENTERTAINMENT  Ron Dicker Hugh Grant Marries For The First Ti...\n",
              "3  ENTERTAINMENT  Ron Dicker Jim Carrey Blasts 'Castrato' Adam S...\n",
              "4  ENTERTAINMENT  Ron Dicker Julianna Margulies Uses Donald Trum..."
            ]
          },
          "metadata": {
            "tags": []
          },
          "execution_count": 7
        }
      ]
    },
    {
      "cell_type": "code",
      "metadata": {
        "id": "odmDmtZbsPJ0",
        "colab_type": "code",
        "outputId": "8027d9e9-e0e9-438b-b58f-1d7abd87bb53",
        "colab": {
          "base_uri": "https://localhost:8080/",
          "height": 731
        }
      },
      "source": [
        "cat_count = df['category'].value_counts()\n",
        "cat_count"
      ],
      "execution_count": 8,
      "outputs": [
        {
          "output_type": "execute_result",
          "data": {
            "text/plain": [
              "POLITICS          32739\n",
              "WELLNESS          17827\n",
              "ENTERTAINMENT     16058\n",
              "TRAVEL             9887\n",
              "STYLE & BEAUTY     9649\n",
              "PARENTING          8677\n",
              "HEALTHY LIVING     6694\n",
              "QUEER VOICES       6314\n",
              "FOOD & DRINK       6226\n",
              "BUSINESS           5937\n",
              "COMEDY             5175\n",
              "SPORTS             4884\n",
              "BLACK VOICES       4528\n",
              "HOME & LIVING      4195\n",
              "PARENTS            3955\n",
              "THE WORLDPOST      3664\n",
              "WEDDINGS           3651\n",
              "WOMEN              3490\n",
              "IMPACT             3459\n",
              "DIVORCE            3426\n",
              "CRIME              3405\n",
              "MEDIA              2815\n",
              "WEIRD NEWS         2670\n",
              "GREEN              2622\n",
              "WORLDPOST          2579\n",
              "RELIGION           2556\n",
              "STYLE              2254\n",
              "SCIENCE            2178\n",
              "WORLD NEWS         2177\n",
              "TASTE              2096\n",
              "TECH               2082\n",
              "MONEY              1707\n",
              "ARTS               1509\n",
              "FIFTY              1401\n",
              "GOOD NEWS          1398\n",
              "ARTS & CULTURE     1339\n",
              "ENVIRONMENT        1323\n",
              "COLLEGE            1144\n",
              "LATINO VOICES      1129\n",
              "CULTURE & ARTS     1030\n",
              "EDUCATION          1004\n",
              "Name: category, dtype: int64"
            ]
          },
          "metadata": {
            "tags": []
          },
          "execution_count": 8
        }
      ]
    },
    {
      "cell_type": "code",
      "metadata": {
        "id": "ThSlIqrusnvb",
        "colab_type": "code",
        "outputId": "0d3518c0-2bb1-4697-efab-7a96be1e7978",
        "colab": {
          "base_uri": "https://localhost:8080/",
          "height": 542
        }
      },
      "source": [
        "#defining data\n",
        "trace = go.Bar(x = list(cat_count.index),y=df['category'].value_counts())\n",
        "#defining layout\n",
        "layout = go.Layout(title='Categories count',xaxis=dict(title='Category'))\n",
        "#defining figure and plotting\n",
        "figure = go.Figure(data=[trace],layout=layout)\n",
        "iplot(figure)"
      ],
      "execution_count": 9,
      "outputs": [
        {
          "output_type": "display_data",
          "data": {
            "text/html": [
              "<html>\n",
              "<head><meta charset=\"utf-8\" /></head>\n",
              "<body>\n",
              "    <div>\n",
              "            <script src=\"https://cdnjs.cloudflare.com/ajax/libs/mathjax/2.7.5/MathJax.js?config=TeX-AMS-MML_SVG\"></script><script type=\"text/javascript\">if (window.MathJax) {MathJax.Hub.Config({SVG: {font: \"STIX-Web\"}});}</script>\n",
              "                <script type=\"text/javascript\">window.PlotlyConfig = {MathJaxConfig: 'local'};</script>\n",
              "        <script src=\"https://cdn.plot.ly/plotly-latest.min.js\"></script>    \n",
              "            <div id=\"d87b81d9-51eb-4849-8eac-e3d51a406105\" class=\"plotly-graph-div\" style=\"height:525px; width:100%;\"></div>\n",
              "            <script type=\"text/javascript\">\n",
              "                \n",
              "                    window.PLOTLYENV=window.PLOTLYENV || {};\n",
              "                    \n",
              "                if (document.getElementById(\"d87b81d9-51eb-4849-8eac-e3d51a406105\")) {\n",
              "                    Plotly.newPlot(\n",
              "                        'd87b81d9-51eb-4849-8eac-e3d51a406105',\n",
              "                        [{\"type\": \"bar\", \"x\": [\"POLITICS\", \"WELLNESS\", \"ENTERTAINMENT\", \"TRAVEL\", \"STYLE & BEAUTY\", \"PARENTING\", \"HEALTHY LIVING\", \"QUEER VOICES\", \"FOOD & DRINK\", \"BUSINESS\", \"COMEDY\", \"SPORTS\", \"BLACK VOICES\", \"HOME & LIVING\", \"PARENTS\", \"THE WORLDPOST\", \"WEDDINGS\", \"WOMEN\", \"IMPACT\", \"DIVORCE\", \"CRIME\", \"MEDIA\", \"WEIRD NEWS\", \"GREEN\", \"WORLDPOST\", \"RELIGION\", \"STYLE\", \"SCIENCE\", \"WORLD NEWS\", \"TASTE\", \"TECH\", \"MONEY\", \"ARTS\", \"FIFTY\", \"GOOD NEWS\", \"ARTS & CULTURE\", \"ENVIRONMENT\", \"COLLEGE\", \"LATINO VOICES\", \"CULTURE & ARTS\", \"EDUCATION\"], \"y\": [32739, 17827, 16058, 9887, 9649, 8677, 6694, 6314, 6226, 5937, 5175, 4884, 4528, 4195, 3955, 3664, 3651, 3490, 3459, 3426, 3405, 2815, 2670, 2622, 2579, 2556, 2254, 2178, 2177, 2096, 2082, 1707, 1509, 1401, 1398, 1339, 1323, 1144, 1129, 1030, 1004]}],\n",
              "                        {\"template\": {\"data\": {\"bar\": [{\"error_x\": {\"color\": \"#2a3f5f\"}, \"error_y\": {\"color\": \"#2a3f5f\"}, \"marker\": {\"line\": {\"color\": \"#E5ECF6\", \"width\": 0.5}}, \"type\": \"bar\"}], \"barpolar\": [{\"marker\": {\"line\": {\"color\": \"#E5ECF6\", \"width\": 0.5}}, \"type\": \"barpolar\"}], \"carpet\": [{\"aaxis\": {\"endlinecolor\": \"#2a3f5f\", \"gridcolor\": \"white\", \"linecolor\": \"white\", \"minorgridcolor\": \"white\", \"startlinecolor\": \"#2a3f5f\"}, \"baxis\": {\"endlinecolor\": \"#2a3f5f\", \"gridcolor\": \"white\", \"linecolor\": \"white\", \"minorgridcolor\": \"white\", \"startlinecolor\": \"#2a3f5f\"}, \"type\": \"carpet\"}], \"choropleth\": [{\"colorbar\": {\"outlinewidth\": 0, \"ticks\": \"\"}, \"type\": \"choropleth\"}], \"contour\": [{\"colorbar\": {\"outlinewidth\": 0, \"ticks\": \"\"}, \"colorscale\": [[0.0, \"#0d0887\"], [0.1111111111111111, \"#46039f\"], [0.2222222222222222, \"#7201a8\"], [0.3333333333333333, \"#9c179e\"], [0.4444444444444444, \"#bd3786\"], [0.5555555555555556, \"#d8576b\"], [0.6666666666666666, \"#ed7953\"], [0.7777777777777778, \"#fb9f3a\"], [0.8888888888888888, \"#fdca26\"], [1.0, \"#f0f921\"]], \"type\": \"contour\"}], \"contourcarpet\": [{\"colorbar\": {\"outlinewidth\": 0, \"ticks\": \"\"}, \"type\": \"contourcarpet\"}], \"heatmap\": [{\"colorbar\": {\"outlinewidth\": 0, \"ticks\": \"\"}, \"colorscale\": [[0.0, \"#0d0887\"], [0.1111111111111111, \"#46039f\"], [0.2222222222222222, \"#7201a8\"], [0.3333333333333333, \"#9c179e\"], [0.4444444444444444, \"#bd3786\"], [0.5555555555555556, \"#d8576b\"], [0.6666666666666666, \"#ed7953\"], [0.7777777777777778, \"#fb9f3a\"], [0.8888888888888888, \"#fdca26\"], [1.0, \"#f0f921\"]], \"type\": \"heatmap\"}], \"heatmapgl\": [{\"colorbar\": {\"outlinewidth\": 0, \"ticks\": \"\"}, \"colorscale\": [[0.0, \"#0d0887\"], [0.1111111111111111, \"#46039f\"], [0.2222222222222222, \"#7201a8\"], [0.3333333333333333, \"#9c179e\"], [0.4444444444444444, \"#bd3786\"], [0.5555555555555556, \"#d8576b\"], [0.6666666666666666, \"#ed7953\"], [0.7777777777777778, \"#fb9f3a\"], [0.8888888888888888, \"#fdca26\"], [1.0, \"#f0f921\"]], \"type\": \"heatmapgl\"}], \"histogram\": [{\"marker\": {\"colorbar\": {\"outlinewidth\": 0, \"ticks\": \"\"}}, \"type\": \"histogram\"}], \"histogram2d\": [{\"colorbar\": {\"outlinewidth\": 0, \"ticks\": \"\"}, \"colorscale\": [[0.0, \"#0d0887\"], [0.1111111111111111, \"#46039f\"], [0.2222222222222222, \"#7201a8\"], [0.3333333333333333, \"#9c179e\"], [0.4444444444444444, \"#bd3786\"], [0.5555555555555556, \"#d8576b\"], [0.6666666666666666, \"#ed7953\"], [0.7777777777777778, \"#fb9f3a\"], [0.8888888888888888, \"#fdca26\"], [1.0, \"#f0f921\"]], \"type\": \"histogram2d\"}], \"histogram2dcontour\": [{\"colorbar\": {\"outlinewidth\": 0, \"ticks\": \"\"}, \"colorscale\": [[0.0, \"#0d0887\"], [0.1111111111111111, \"#46039f\"], [0.2222222222222222, \"#7201a8\"], [0.3333333333333333, \"#9c179e\"], [0.4444444444444444, \"#bd3786\"], [0.5555555555555556, \"#d8576b\"], [0.6666666666666666, \"#ed7953\"], [0.7777777777777778, \"#fb9f3a\"], [0.8888888888888888, \"#fdca26\"], [1.0, \"#f0f921\"]], \"type\": \"histogram2dcontour\"}], \"mesh3d\": [{\"colorbar\": {\"outlinewidth\": 0, \"ticks\": \"\"}, \"type\": \"mesh3d\"}], \"parcoords\": [{\"line\": {\"colorbar\": {\"outlinewidth\": 0, \"ticks\": \"\"}}, \"type\": \"parcoords\"}], \"scatter\": [{\"marker\": {\"colorbar\": {\"outlinewidth\": 0, \"ticks\": \"\"}}, \"type\": \"scatter\"}], \"scatter3d\": [{\"line\": {\"colorbar\": {\"outlinewidth\": 0, \"ticks\": \"\"}}, \"marker\": {\"colorbar\": {\"outlinewidth\": 0, \"ticks\": \"\"}}, \"type\": \"scatter3d\"}], \"scattercarpet\": [{\"marker\": {\"colorbar\": {\"outlinewidth\": 0, \"ticks\": \"\"}}, \"type\": \"scattercarpet\"}], \"scattergeo\": [{\"marker\": {\"colorbar\": {\"outlinewidth\": 0, \"ticks\": \"\"}}, \"type\": \"scattergeo\"}], \"scattergl\": [{\"marker\": {\"colorbar\": {\"outlinewidth\": 0, \"ticks\": \"\"}}, \"type\": \"scattergl\"}], \"scattermapbox\": [{\"marker\": {\"colorbar\": {\"outlinewidth\": 0, \"ticks\": \"\"}}, \"type\": \"scattermapbox\"}], \"scatterpolar\": [{\"marker\": {\"colorbar\": {\"outlinewidth\": 0, \"ticks\": \"\"}}, \"type\": \"scatterpolar\"}], \"scatterpolargl\": [{\"marker\": {\"colorbar\": {\"outlinewidth\": 0, \"ticks\": \"\"}}, \"type\": \"scatterpolargl\"}], \"scatterternary\": [{\"marker\": {\"colorbar\": {\"outlinewidth\": 0, \"ticks\": \"\"}}, \"type\": \"scatterternary\"}], \"surface\": [{\"colorbar\": {\"outlinewidth\": 0, \"ticks\": \"\"}, \"colorscale\": [[0.0, \"#0d0887\"], [0.1111111111111111, \"#46039f\"], [0.2222222222222222, \"#7201a8\"], [0.3333333333333333, \"#9c179e\"], [0.4444444444444444, \"#bd3786\"], [0.5555555555555556, \"#d8576b\"], [0.6666666666666666, \"#ed7953\"], [0.7777777777777778, \"#fb9f3a\"], [0.8888888888888888, \"#fdca26\"], [1.0, \"#f0f921\"]], \"type\": \"surface\"}], \"table\": [{\"cells\": {\"fill\": {\"color\": \"#EBF0F8\"}, \"line\": {\"color\": \"white\"}}, \"header\": {\"fill\": {\"color\": \"#C8D4E3\"}, \"line\": {\"color\": \"white\"}}, \"type\": \"table\"}]}, \"layout\": {\"annotationdefaults\": {\"arrowcolor\": \"#2a3f5f\", \"arrowhead\": 0, \"arrowwidth\": 1}, \"colorscale\": {\"diverging\": [[0, \"#8e0152\"], [0.1, \"#c51b7d\"], [0.2, \"#de77ae\"], [0.3, \"#f1b6da\"], [0.4, \"#fde0ef\"], [0.5, \"#f7f7f7\"], [0.6, \"#e6f5d0\"], [0.7, \"#b8e186\"], [0.8, \"#7fbc41\"], [0.9, \"#4d9221\"], [1, \"#276419\"]], \"sequential\": [[0.0, \"#0d0887\"], [0.1111111111111111, \"#46039f\"], [0.2222222222222222, \"#7201a8\"], [0.3333333333333333, \"#9c179e\"], [0.4444444444444444, \"#bd3786\"], [0.5555555555555556, \"#d8576b\"], [0.6666666666666666, \"#ed7953\"], [0.7777777777777778, \"#fb9f3a\"], [0.8888888888888888, \"#fdca26\"], [1.0, \"#f0f921\"]], \"sequentialminus\": [[0.0, \"#0d0887\"], [0.1111111111111111, \"#46039f\"], [0.2222222222222222, \"#7201a8\"], [0.3333333333333333, \"#9c179e\"], [0.4444444444444444, \"#bd3786\"], [0.5555555555555556, \"#d8576b\"], [0.6666666666666666, \"#ed7953\"], [0.7777777777777778, \"#fb9f3a\"], [0.8888888888888888, \"#fdca26\"], [1.0, \"#f0f921\"]]}, \"colorway\": [\"#636efa\", \"#EF553B\", \"#00cc96\", \"#ab63fa\", \"#FFA15A\", \"#19d3f3\", \"#FF6692\", \"#B6E880\", \"#FF97FF\", \"#FECB52\"], \"font\": {\"color\": \"#2a3f5f\"}, \"geo\": {\"bgcolor\": \"white\", \"lakecolor\": \"white\", \"landcolor\": \"#E5ECF6\", \"showlakes\": true, \"showland\": true, \"subunitcolor\": \"white\"}, \"hoverlabel\": {\"align\": \"left\"}, \"hovermode\": \"closest\", \"mapbox\": {\"style\": \"light\"}, \"paper_bgcolor\": \"white\", \"plot_bgcolor\": \"#E5ECF6\", \"polar\": {\"angularaxis\": {\"gridcolor\": \"white\", \"linecolor\": \"white\", \"ticks\": \"\"}, \"bgcolor\": \"#E5ECF6\", \"radialaxis\": {\"gridcolor\": \"white\", \"linecolor\": \"white\", \"ticks\": \"\"}}, \"scene\": {\"xaxis\": {\"backgroundcolor\": \"#E5ECF6\", \"gridcolor\": \"white\", \"gridwidth\": 2, \"linecolor\": \"white\", \"showbackground\": true, \"ticks\": \"\", \"zerolinecolor\": \"white\"}, \"yaxis\": {\"backgroundcolor\": \"#E5ECF6\", \"gridcolor\": \"white\", \"gridwidth\": 2, \"linecolor\": \"white\", \"showbackground\": true, \"ticks\": \"\", \"zerolinecolor\": \"white\"}, \"zaxis\": {\"backgroundcolor\": \"#E5ECF6\", \"gridcolor\": \"white\", \"gridwidth\": 2, \"linecolor\": \"white\", \"showbackground\": true, \"ticks\": \"\", \"zerolinecolor\": \"white\"}}, \"shapedefaults\": {\"line\": {\"color\": \"#2a3f5f\"}}, \"ternary\": {\"aaxis\": {\"gridcolor\": \"white\", \"linecolor\": \"white\", \"ticks\": \"\"}, \"baxis\": {\"gridcolor\": \"white\", \"linecolor\": \"white\", \"ticks\": \"\"}, \"bgcolor\": \"#E5ECF6\", \"caxis\": {\"gridcolor\": \"white\", \"linecolor\": \"white\", \"ticks\": \"\"}}, \"title\": {\"x\": 0.05}, \"xaxis\": {\"automargin\": true, \"gridcolor\": \"white\", \"linecolor\": \"white\", \"ticks\": \"\", \"zerolinecolor\": \"white\", \"zerolinewidth\": 2}, \"yaxis\": {\"automargin\": true, \"gridcolor\": \"white\", \"linecolor\": \"white\", \"ticks\": \"\", \"zerolinecolor\": \"white\", \"zerolinewidth\": 2}}}, \"title\": {\"text\": \"Categories count\"}, \"xaxis\": {\"title\": {\"text\": \"Category\"}}},\n",
              "                        {\"responsive\": true}\n",
              "                    ).then(function(){\n",
              "                            \n",
              "var gd = document.getElementById('d87b81d9-51eb-4849-8eac-e3d51a406105');\n",
              "var x = new MutationObserver(function (mutations, observer) {{\n",
              "        var display = window.getComputedStyle(gd).display;\n",
              "        if (!display || display === 'none') {{\n",
              "            console.log([gd, 'removed!']);\n",
              "            Plotly.purge(gd);\n",
              "            observer.disconnect();\n",
              "        }}\n",
              "}});\n",
              "\n",
              "// Listen for the removal of the full notebook cells\n",
              "var notebookContainer = gd.closest('#notebook-container');\n",
              "if (notebookContainer) {{\n",
              "    x.observe(notebookContainer, {childList: true});\n",
              "}}\n",
              "\n",
              "// Listen for the clearing of the current output cell\n",
              "var outputEl = gd.closest('.output');\n",
              "if (outputEl) {{\n",
              "    x.observe(outputEl, {childList: true});\n",
              "}}\n",
              "\n",
              "                        })\n",
              "                };\n",
              "                \n",
              "            </script>\n",
              "        </div>\n",
              "</body>\n",
              "</html>"
            ]
          },
          "metadata": {
            "tags": []
          }
        }
      ]
    },
    {
      "cell_type": "code",
      "metadata": {
        "id": "qfoNAQh6YzUr",
        "colab_type": "code",
        "outputId": "60225e5c-3fe3-4fcd-f53b-7d759adc29e4",
        "colab": {
          "base_uri": "https://localhost:8080/",
          "height": 54
        }
      },
      "source": [
        "df[df['category'] == 'PARENTING']['text'].iloc[24]"
      ],
      "execution_count": 10,
      "outputs": [
        {
          "output_type": "execute_result",
          "data": {
            "text/plain": [
              "'Suzanne Leigh, Contributor\\nHealth Reporter, Essayist, Blogger Finding My Tribe After the Death of My Daughter There is laughter and smiles and happy recollections of our late children, and there are tears and sobs and anguished recollections of our late children.'"
            ]
          },
          "metadata": {
            "tags": []
          },
          "execution_count": 10
        }
      ]
    },
    {
      "cell_type": "code",
      "metadata": {
        "id": "FlcH3n4Tu9U8",
        "colab_type": "code",
        "outputId": "247679a2-ad94-431b-a0b5-6d98d05f9977",
        "colab": {
          "base_uri": "https://localhost:8080/",
          "height": 54
        }
      },
      "source": [
        "df[df['category'] == 'PARENTS']['text'].iloc[24]"
      ],
      "execution_count": 11,
      "outputs": [
        {
          "output_type": "execute_result",
          "data": {
            "text/plain": [
              "'Motherly, ContributorYour #momlife manual—inspiration, ideas + expert advice By Letting Go Of Perfection, I Found My Strength As A Mother There is a difference between striving to do our very best for our children, and striving for perfection.'"
            ]
          },
          "metadata": {
            "tags": []
          },
          "execution_count": 11
        }
      ]
    },
    {
      "cell_type": "markdown",
      "metadata": {
        "id": "WRgCJW_avfhT",
        "colab_type": "text"
      },
      "source": [
        "Merge the categories that are basically the same\n",
        "\n"
      ]
    },
    {
      "cell_type": "code",
      "metadata": {
        "id": "P0jRDShpY5JK",
        "colab_type": "code",
        "colab": {}
      },
      "source": [
        "culture = ['ARTS & CULTURE', 'ARTS', 'CULTURE & ARTS']\n",
        "worldpost = ['WORLDPOST', 'THE WORLDPOST']\n",
        "parents = ['PARENTING', 'PARENTS']\n",
        "\n",
        "df['category'][df['category'].isin(culture)] = \"CULTURE\"\n",
        "df['category'][df['category'].isin(worldpost)] = \"WORLDPOST\"\n",
        "df['category'][df['category'].isin(parents)] = \"PARENTS\""
      ],
      "execution_count": 0,
      "outputs": []
    },
    {
      "cell_type": "markdown",
      "metadata": {
        "id": "EIDG-BSJvy3k",
        "colab_type": "text"
      },
      "source": [
        "Se transforman las categorías en números enteros para poder usar librería ktrain\n"
      ]
    },
    {
      "cell_type": "code",
      "metadata": {
        "id": "VlAB29bedb8N",
        "colab_type": "code",
        "colab": {}
      },
      "source": [
        "cats = df.category.unique()\n",
        "def cat_to_num(lab):\n",
        "  return np.where(cats == lab)[0][0]"
      ],
      "execution_count": 0,
      "outputs": []
    },
    {
      "cell_type": "code",
      "metadata": {
        "id": "_F6xdBaXrKak",
        "colab_type": "code",
        "outputId": "d8e250bc-865f-4d4b-84b5-e4190b8d4c86",
        "colab": {
          "base_uri": "https://localhost:8080/",
          "height": 514
        }
      },
      "source": [
        "df['label'] = df['category'].apply(cat_to_num)\n",
        "df.head(15)"
      ],
      "execution_count": 14,
      "outputs": [
        {
          "output_type": "execute_result",
          "data": {
            "text/html": [
              "<div>\n",
              "<style scoped>\n",
              "    .dataframe tbody tr th:only-of-type {\n",
              "        vertical-align: middle;\n",
              "    }\n",
              "\n",
              "    .dataframe tbody tr th {\n",
              "        vertical-align: top;\n",
              "    }\n",
              "\n",
              "    .dataframe thead th {\n",
              "        text-align: right;\n",
              "    }\n",
              "</style>\n",
              "<table border=\"1\" class=\"dataframe\">\n",
              "  <thead>\n",
              "    <tr style=\"text-align: right;\">\n",
              "      <th></th>\n",
              "      <th>category</th>\n",
              "      <th>text</th>\n",
              "      <th>label</th>\n",
              "    </tr>\n",
              "  </thead>\n",
              "  <tbody>\n",
              "    <tr>\n",
              "      <th>0</th>\n",
              "      <td>CRIME</td>\n",
              "      <td>Melissa Jeltsen There Were 2 Mass Shootings In...</td>\n",
              "      <td>0</td>\n",
              "    </tr>\n",
              "    <tr>\n",
              "      <th>1</th>\n",
              "      <td>ENTERTAINMENT</td>\n",
              "      <td>Andy McDonald Will Smith Joins Diplo And Nicky...</td>\n",
              "      <td>1</td>\n",
              "    </tr>\n",
              "    <tr>\n",
              "      <th>2</th>\n",
              "      <td>ENTERTAINMENT</td>\n",
              "      <td>Ron Dicker Hugh Grant Marries For The First Ti...</td>\n",
              "      <td>1</td>\n",
              "    </tr>\n",
              "    <tr>\n",
              "      <th>3</th>\n",
              "      <td>ENTERTAINMENT</td>\n",
              "      <td>Ron Dicker Jim Carrey Blasts 'Castrato' Adam S...</td>\n",
              "      <td>1</td>\n",
              "    </tr>\n",
              "    <tr>\n",
              "      <th>4</th>\n",
              "      <td>ENTERTAINMENT</td>\n",
              "      <td>Ron Dicker Julianna Margulies Uses Donald Trum...</td>\n",
              "      <td>1</td>\n",
              "    </tr>\n",
              "    <tr>\n",
              "      <th>5</th>\n",
              "      <td>ENTERTAINMENT</td>\n",
              "      <td>Ron Dicker Morgan Freeman 'Devastated' That Se...</td>\n",
              "      <td>1</td>\n",
              "    </tr>\n",
              "    <tr>\n",
              "      <th>6</th>\n",
              "      <td>ENTERTAINMENT</td>\n",
              "      <td>Ron Dicker Donald Trump Is Lovin' New McDonald...</td>\n",
              "      <td>1</td>\n",
              "    </tr>\n",
              "    <tr>\n",
              "      <th>7</th>\n",
              "      <td>ENTERTAINMENT</td>\n",
              "      <td>Todd Van Luling What To Watch On Amazon Prime ...</td>\n",
              "      <td>1</td>\n",
              "    </tr>\n",
              "    <tr>\n",
              "      <th>8</th>\n",
              "      <td>ENTERTAINMENT</td>\n",
              "      <td>Andy McDonald Mike Myers Reveals He'd 'Like To...</td>\n",
              "      <td>1</td>\n",
              "    </tr>\n",
              "    <tr>\n",
              "      <th>9</th>\n",
              "      <td>ENTERTAINMENT</td>\n",
              "      <td>Todd Van Luling What To Watch On Hulu That’s N...</td>\n",
              "      <td>1</td>\n",
              "    </tr>\n",
              "    <tr>\n",
              "      <th>10</th>\n",
              "      <td>ENTERTAINMENT</td>\n",
              "      <td>Sebastian Murdock Justin Timberlake Visits Tex...</td>\n",
              "      <td>1</td>\n",
              "    </tr>\n",
              "    <tr>\n",
              "      <th>11</th>\n",
              "      <td>WORLD NEWS</td>\n",
              "      <td>South Korean President Meets North Korea's Ki...</td>\n",
              "      <td>2</td>\n",
              "    </tr>\n",
              "    <tr>\n",
              "      <th>12</th>\n",
              "      <td>IMPACT</td>\n",
              "      <td>Karen Pinchin With Its Way Of Life At Risk, Th...</td>\n",
              "      <td>3</td>\n",
              "    </tr>\n",
              "    <tr>\n",
              "      <th>13</th>\n",
              "      <td>POLITICS</td>\n",
              "      <td>Elise Foley and Roque Planas Trump's Crackdown...</td>\n",
              "      <td>4</td>\n",
              "    </tr>\n",
              "    <tr>\n",
              "      <th>14</th>\n",
              "      <td>POLITICS</td>\n",
              "      <td>Michael Isikoff, Yahoo News 'Trump's Son Shoul...</td>\n",
              "      <td>4</td>\n",
              "    </tr>\n",
              "  </tbody>\n",
              "</table>\n",
              "</div>"
            ],
            "text/plain": [
              "         category                                               text  label\n",
              "0           CRIME  Melissa Jeltsen There Were 2 Mass Shootings In...      0\n",
              "1   ENTERTAINMENT  Andy McDonald Will Smith Joins Diplo And Nicky...      1\n",
              "2   ENTERTAINMENT  Ron Dicker Hugh Grant Marries For The First Ti...      1\n",
              "3   ENTERTAINMENT  Ron Dicker Jim Carrey Blasts 'Castrato' Adam S...      1\n",
              "4   ENTERTAINMENT  Ron Dicker Julianna Margulies Uses Donald Trum...      1\n",
              "5   ENTERTAINMENT  Ron Dicker Morgan Freeman 'Devastated' That Se...      1\n",
              "6   ENTERTAINMENT  Ron Dicker Donald Trump Is Lovin' New McDonald...      1\n",
              "7   ENTERTAINMENT  Todd Van Luling What To Watch On Amazon Prime ...      1\n",
              "8   ENTERTAINMENT  Andy McDonald Mike Myers Reveals He'd 'Like To...      1\n",
              "9   ENTERTAINMENT  Todd Van Luling What To Watch On Hulu That’s N...      1\n",
              "10  ENTERTAINMENT  Sebastian Murdock Justin Timberlake Visits Tex...      1\n",
              "11     WORLD NEWS   South Korean President Meets North Korea's Ki...      2\n",
              "12         IMPACT  Karen Pinchin With Its Way Of Life At Risk, Th...      3\n",
              "13       POLITICS  Elise Foley and Roque Planas Trump's Crackdown...      4\n",
              "14       POLITICS  Michael Isikoff, Yahoo News 'Trump's Son Shoul...      4"
            ]
          },
          "metadata": {
            "tags": []
          },
          "execution_count": 14
        }
      ]
    },
    {
      "cell_type": "markdown",
      "metadata": {
        "id": "nj2QGH4NwMbb",
        "colab_type": "text"
      },
      "source": [
        "Separamos los datos entre datos de entrenamiento y datos de prueba"
      ]
    },
    {
      "cell_type": "code",
      "metadata": {
        "id": "7GwK8GwO6Ipn",
        "colab_type": "code",
        "colab": {}
      },
      "source": [
        "X_train, X_test, Y_train, Y_test = sk.model_selection.train_test_split(df['text'], df['label'])"
      ],
      "execution_count": 0,
      "outputs": []
    },
    {
      "cell_type": "markdown",
      "metadata": {
        "id": "tx_aZiFCuLD5",
        "colab_type": "text"
      },
      "source": [
        "\n",
        "## Feature engineering and downloading pretrained BERT model\n"
      ]
    },
    {
      "cell_type": "code",
      "metadata": {
        "id": "1DJsLVNos8cb",
        "colab_type": "code",
        "outputId": "045e0eb9-71dd-4c67-9d96-7de9f7da590d",
        "colab": {
          "base_uri": "https://localhost:8080/",
          "height": 255
        }
      },
      "source": [
        "(x_train, y_train), (x_test, y_test), preproc = ktrain.text.texts_from_array(\n",
        "                                                            x_train=X_train.to_list(), y_train=Y_train.to_list(),\n",
        "                                                            x_test=X_test.to_list(), y_test=Y_test.to_list(),\n",
        "                                                            class_names=list(cats),\n",
        "                                                            preprocess_mode='bert',\n",
        "                                                            maxlen=350, \n",
        "                                                            max_features=35000)"
      ],
      "execution_count": 16,
      "outputs": [
        {
          "output_type": "stream",
          "text": [
            "downloading pretrained BERT model (uncased_L-12_H-768_A-12.zip)...\n",
            "[██████████████████████████████████████████████████]\n",
            "extracting pretrained BERT model...\n",
            "done.\n",
            "\n",
            "cleanup downloaded zip...\n",
            "done.\n",
            "\n",
            "preprocessing train...\n",
            "language: en\n"
          ],
          "name": "stdout"
        },
        {
          "output_type": "display_data",
          "data": {
            "text/html": [
              "done."
            ],
            "text/plain": [
              "<IPython.core.display.HTML object>"
            ]
          },
          "metadata": {
            "tags": []
          }
        },
        {
          "output_type": "stream",
          "text": [
            "preprocessing test...\n",
            "language: en\n"
          ],
          "name": "stdout"
        },
        {
          "output_type": "display_data",
          "data": {
            "text/html": [
              "done."
            ],
            "text/plain": [
              "<IPython.core.display.HTML object>"
            ]
          },
          "metadata": {
            "tags": []
          }
        }
      ]
    },
    {
      "cell_type": "markdown",
      "metadata": {
        "id": "w42np1Bu19re",
        "colab_type": "text"
      },
      "source": [
        "## Model creation and training"
      ]
    },
    {
      "cell_type": "code",
      "metadata": {
        "id": "G40Q9Bakv239",
        "colab_type": "code",
        "outputId": "630117aa-5ea8-4736-f27e-6d15d3612eee",
        "colab": {
          "base_uri": "https://localhost:8080/",
          "height": 68
        }
      },
      "source": [
        "tf.device('/device:GPU:0')\n",
        "model = ktrain.text.text_classifier('bert', (x_train, y_train), preproc=preproc)\n",
        "learner = ktrain.get_learner(model,train_data=(x_train, y_train), batch_size=6,\n",
        "                             workers=-1, use_multiprocessing = True)"
      ],
      "execution_count": 17,
      "outputs": [
        {
          "output_type": "stream",
          "text": [
            "Is Multi-Label? False\n",
            "maxlen is 350\n",
            "done.\n"
          ],
          "name": "stdout"
        }
      ]
    },
    {
      "cell_type": "code",
      "metadata": {
        "id": "9MHBkosKv_hZ",
        "colab_type": "code",
        "outputId": "1c162cd8-1d31-4884-b9bb-6ab3f858e91b",
        "colab": {
          "base_uri": "https://localhost:8080/",
          "height": 170
        }
      },
      "source": [
        "learner.autofit(5e-5, 2)"
      ],
      "execution_count": 18,
      "outputs": [
        {
          "output_type": "stream",
          "text": [
            "\n",
            "\n",
            "begin training using triangular learning rate policy with max lr of 5e-05...\n",
            "Train on 150639 samples\n",
            "Epoch 1/2\n",
            "150639/150639 [==============================] - 7717s 51ms/sample - loss: 0.9342 - acc: 0.7378\n",
            "Epoch 2/2\n",
            "150639/150639 [==============================] - 7715s 51ms/sample - loss: 0.5575 - acc: 0.8318\n"
          ],
          "name": "stdout"
        },
        {
          "output_type": "execute_result",
          "data": {
            "text/plain": [
              "<tensorflow.python.keras.callbacks.History at 0x7f47a18beda0>"
            ]
          },
          "metadata": {
            "tags": []
          },
          "execution_count": 18
        }
      ]
    },
    {
      "cell_type": "code",
      "metadata": {
        "id": "ukq6uwh66Orx",
        "colab_type": "code",
        "colab": {
          "base_uri": "https://localhost:8080/",
          "height": 884
        },
        "outputId": "b837f47b-2df1-4f54-8a83-afd7413e794f"
      },
      "source": [
        "learner.validate(val_data=(x_test, y_test), class_names=list(cats))"
      ],
      "execution_count": 19,
      "outputs": [
        {
          "output_type": "stream",
          "text": [
            "                precision    recall  f1-score   support\n",
            "\n",
            "         CRIME       0.73      0.70      0.71       834\n",
            " ENTERTAINMENT       0.84      0.87      0.86      3969\n",
            "    WORLD NEWS       0.60      0.39      0.47       572\n",
            "        IMPACT       0.61      0.56      0.58       852\n",
            "      POLITICS       0.86      0.89      0.88      8177\n",
            "    WEIRD NEWS       0.62      0.63      0.62       663\n",
            "  BLACK VOICES       0.74      0.71      0.73      1187\n",
            "         WOMEN       0.67      0.58      0.62       849\n",
            "        COMEDY       0.75      0.73      0.74      1276\n",
            "  QUEER VOICES       0.87      0.87      0.87      1569\n",
            "        SPORTS       0.84      0.86      0.85      1196\n",
            "      BUSINESS       0.68      0.73      0.70      1479\n",
            "        TRAVEL       0.92      0.90      0.91      2497\n",
            "         MEDIA       0.75      0.69      0.72       729\n",
            "          TECH       0.77      0.71      0.74       503\n",
            "      RELIGION       0.75      0.77      0.76       611\n",
            "       SCIENCE       0.76      0.79      0.77       569\n",
            " LATINO VOICES       0.80      0.71      0.75       277\n",
            "     EDUCATION       0.71      0.64      0.67       257\n",
            "       COLLEGE       0.65      0.67      0.66       297\n",
            "       PARENTS       0.85      0.87      0.86      3192\n",
            "       CULTURE       0.82      0.79      0.81      1028\n",
            "         STYLE       0.83      0.82      0.82       569\n",
            "         GREEN       0.64      0.72      0.68       632\n",
            "         TASTE       0.79      0.82      0.81       478\n",
            "HEALTHY LIVING       0.78      0.76      0.77      1717\n",
            "     WORLDPOST       0.72      0.73      0.72      1532\n",
            "     GOOD NEWS       0.74      0.69      0.72       333\n",
            "         FIFTY       0.74      0.77      0.75       343\n",
            "      WELLNESS       0.90      0.93      0.91      4432\n",
            " HOME & LIVING       0.90      0.92      0.91      1046\n",
            "STYLE & BEAUTY       0.95      0.92      0.94      2392\n",
            "       DIVORCE       0.87      0.88      0.87       842\n",
            "      WEDDINGS       0.88      0.90      0.89       957\n",
            "  FOOD & DRINK       0.93      0.91      0.92      1617\n",
            "         MONEY       0.77      0.72      0.74       429\n",
            "   ENVIRONMENT       0.78      0.72      0.75       312\n",
            "\n",
            "      accuracy                           0.83     50214\n",
            "     macro avg       0.78      0.76      0.77     50214\n",
            "  weighted avg       0.82      0.83      0.82     50214\n",
            "\n"
          ],
          "name": "stdout"
        },
        {
          "output_type": "execute_result",
          "data": {
            "text/plain": [
              "array([[ 580,   11,    1, ...,    0,    0,    0],\n",
              "       [   6, 3463,    0, ...,    0,    1,    0],\n",
              "       [   6,    5,  225, ...,    0,    0,    0],\n",
              "       ...,\n",
              "       [   0,    1,    0, ..., 1477,    1,    3],\n",
              "       [   2,    2,    0, ...,    1,  309,    3],\n",
              "       [   1,    1,    0, ...,    7,    0,  226]])"
            ]
          },
          "metadata": {
            "tags": []
          },
          "execution_count": 19
        }
      ]
    },
    {
      "cell_type": "markdown",
      "metadata": {
        "id": "a88JfVXd5qNt",
        "colab_type": "text"
      },
      "source": [
        "## Using our trained Bert model"
      ]
    },
    {
      "cell_type": "code",
      "metadata": {
        "id": "NzM97Vvx5urV",
        "colab_type": "code",
        "colab": {}
      },
      "source": [
        "predictor = ktrain.get_predictor(learner.model, preproc)"
      ],
      "execution_count": 0,
      "outputs": []
    },
    {
      "cell_type": "code",
      "metadata": {
        "id": "M1kBq7mq5y1Q",
        "colab_type": "code",
        "colab": {
          "base_uri": "https://localhost:8080/",
          "height": 646
        },
        "outputId": "d4678b67-19de-4a38-89f9-e7a51dd1d3ba"
      },
      "source": [
        "predictor.get_classes()"
      ],
      "execution_count": 21,
      "outputs": [
        {
          "output_type": "execute_result",
          "data": {
            "text/plain": [
              "['CRIME',\n",
              " 'ENTERTAINMENT',\n",
              " 'WORLD NEWS',\n",
              " 'IMPACT',\n",
              " 'POLITICS',\n",
              " 'WEIRD NEWS',\n",
              " 'BLACK VOICES',\n",
              " 'WOMEN',\n",
              " 'COMEDY',\n",
              " 'QUEER VOICES',\n",
              " 'SPORTS',\n",
              " 'BUSINESS',\n",
              " 'TRAVEL',\n",
              " 'MEDIA',\n",
              " 'TECH',\n",
              " 'RELIGION',\n",
              " 'SCIENCE',\n",
              " 'LATINO VOICES',\n",
              " 'EDUCATION',\n",
              " 'COLLEGE',\n",
              " 'PARENTS',\n",
              " 'CULTURE',\n",
              " 'STYLE',\n",
              " 'GREEN',\n",
              " 'TASTE',\n",
              " 'HEALTHY LIVING',\n",
              " 'WORLDPOST',\n",
              " 'GOOD NEWS',\n",
              " 'FIFTY',\n",
              " 'WELLNESS',\n",
              " 'HOME & LIVING',\n",
              " 'STYLE & BEAUTY',\n",
              " 'DIVORCE',\n",
              " 'WEDDINGS',\n",
              " 'FOOD & DRINK',\n",
              " 'MONEY',\n",
              " 'ENVIRONMENT']"
            ]
          },
          "metadata": {
            "tags": []
          },
          "execution_count": 21
        }
      ]
    },
    {
      "cell_type": "code",
      "metadata": {
        "id": "7qyhJ6DM6xT-",
        "colab_type": "code",
        "colab": {
          "base_uri": "https://localhost:8080/",
          "height": 34
        },
        "outputId": "8e766279-ac0f-45be-b20c-5ebed5ed4708"
      },
      "source": [
        "predictor.predict(X_test.iloc[100])"
      ],
      "execution_count": 36,
      "outputs": [
        {
          "output_type": "display_data",
          "data": {
            "text/html": [
              ""
            ],
            "text/plain": [
              "<IPython.core.display.HTML object>"
            ]
          },
          "metadata": {
            "tags": []
          }
        },
        {
          "output_type": "execute_result",
          "data": {
            "text/plain": [
              "'BLACK VOICES'"
            ]
          },
          "metadata": {
            "tags": []
          },
          "execution_count": 36
        }
      ]
    },
    {
      "cell_type": "code",
      "metadata": {
        "id": "KD_Vgi8_7VjG",
        "colab_type": "code",
        "colab": {
          "base_uri": "https://localhost:8080/",
          "height": 51
        },
        "outputId": "555fdd8e-1946-458b-800a-0766876de864"
      },
      "source": [
        "print(cats[Y_test.iloc[100]])\n",
        "print(X_test.iloc[100])"
      ],
      "execution_count": 43,
      "outputs": [
        {
          "output_type": "stream",
          "text": [
            "BLACK VOICES\n",
            "Taryn Finley Common Stresses The Importance Of Giving Back To HBCUs The artist is helping raise $250,000 in scholarships for students.\n"
          ],
          "name": "stdout"
        }
      ]
    },
    {
      "cell_type": "markdown",
      "metadata": {
        "id": "FQAlzJXW5KH2",
        "colab_type": "text"
      },
      "source": [
        "Saving the predictor and reloading it to make predictions on new data"
      ]
    },
    {
      "cell_type": "code",
      "metadata": {
        "id": "1xC0A9Qq7gTq",
        "colab_type": "code",
        "colab": {}
      },
      "source": [
        "model_path = '/content/drive/My Drive/NewsBert/'\n",
        "# let's save the predictor for later use\n",
        "predictor.save(model_path+'my_predictor')"
      ],
      "execution_count": 0,
      "outputs": []
    },
    {
      "cell_type": "code",
      "metadata": {
        "id": "X2sHNbox9aha",
        "colab_type": "code",
        "colab": {}
      },
      "source": [
        "# reload the predictor\n",
        "reloaded_predictor = ktrain.load_predictor(model_path+'my_predictor')"
      ],
      "execution_count": 0,
      "outputs": []
    },
    {
      "cell_type": "code",
      "metadata": {
        "id": "ht5muiX-9pZT",
        "colab_type": "code",
        "colab": {
          "base_uri": "https://localhost:8080/",
          "height": 34
        },
        "outputId": "ba2ae1f2-4edb-4ac1-cca2-aa60357e88e0"
      },
      "source": [
        "reloaded_predictor.predict(X_test.iloc[0])"
      ],
      "execution_count": 40,
      "outputs": [
        {
          "output_type": "display_data",
          "data": {
            "text/html": [
              ""
            ],
            "text/plain": [
              "<IPython.core.display.HTML object>"
            ]
          },
          "metadata": {
            "tags": []
          }
        },
        {
          "output_type": "execute_result",
          "data": {
            "text/plain": [
              "'BUSINESS'"
            ]
          },
          "metadata": {
            "tags": []
          },
          "execution_count": 40
        }
      ]
    },
    {
      "cell_type": "code",
      "metadata": {
        "id": "1X-TgRIXxeaM",
        "colab_type": "code",
        "colab": {
          "base_uri": "https://localhost:8080/",
          "height": 51
        },
        "outputId": "e51e8fce-9f52-4541-e537-a1b8db8d19da"
      },
      "source": [
        "print(cats[Y_test.iloc[0]])\n",
        "print(X_test.iloc[0])"
      ],
      "execution_count": 42,
      "outputs": [
        {
          "output_type": "stream",
          "text": [
            "BUSINESS\n",
            "Ben Walsh The Feds Are Finally Cracking Down On Wall Street Bonuses They want to take back bonuses if traders take too much risk.\n"
          ],
          "name": "stdout"
        }
      ]
    },
    {
      "cell_type": "code",
      "metadata": {
        "id": "rrLXcUnB-QAP",
        "colab_type": "code",
        "colab": {}
      },
      "source": [
        ""
      ],
      "execution_count": 0,
      "outputs": []
    }
  ]
}