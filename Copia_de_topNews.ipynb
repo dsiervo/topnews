{
  "nbformat": 4,
  "nbformat_minor": 0,
  "metadata": {
    "colab": {
      "name": "Copia de topNews.ipynb",
      "provenance": [],
      "collapsed_sections": [],
      "include_colab_link": true
    },
    "kernelspec": {
      "name": "python3",
      "display_name": "Python 3"
    },
    "accelerator": "GPU",
    "widgets": {
      "application/vnd.jupyter.widget-state+json": {
        "0494d75d9db74cc78d7745c260380f24": {
          "model_module": "@jupyter-widgets/controls",
          "model_name": "HBoxModel",
          "state": {
            "_view_name": "HBoxView",
            "_dom_classes": [],
            "_model_name": "HBoxModel",
            "_view_module": "@jupyter-widgets/controls",
            "_model_module_version": "1.5.0",
            "_view_count": null,
            "_view_module_version": "1.5.0",
            "box_style": "",
            "layout": "IPY_MODEL_9b758560df644793b9bd98af1ad7b134",
            "_model_module": "@jupyter-widgets/controls",
            "children": [
              "IPY_MODEL_07075c34928044baa3de7b941a59e007",
              "IPY_MODEL_1a68abeaad2449d7b56951f966b1d116"
            ]
          }
        }
      }
    }
  },
  "cells": [
    {
      "cell_type": "markdown",
      "metadata": {
        "id": "view-in-github",
        "colab_type": "text"
      },
      "source": [
        "<a href=\"https://colab.research.google.com/github/dsiervo/topnews/blob/all_categories/Copia_de_topNews.ipynb\" target=\"_parent\"><img src=\"https://colab.research.google.com/assets/colab-badge.svg\" alt=\"Open In Colab\"/></a>"
      ]
    },
    {
      "cell_type": "code",
      "metadata": {
        "id": "CdLfhpjMIgsu",
        "colab_type": "code",
        "outputId": "afca850d-91da-4407-b0b8-1bba1d731291",
        "colab": {
          "base_uri": "https://localhost:8080/",
          "height": 1000
        }
      },
      "source": [
        "# install simpletransformers\n",
        "!pip install simpletransformers\n",
        "!pip install ktrain"
      ],
      "execution_count": 25,
      "outputs": [
        {
          "output_type": "stream",
          "text": [
            "Requirement already satisfied: simpletransformers in /usr/local/lib/python3.6/dist-packages (0.15.4)\n",
            "Requirement already satisfied: scikit-learn in /usr/local/lib/python3.6/dist-packages (from simpletransformers) (0.21.3)\n",
            "Requirement already satisfied: seqeval in /usr/local/lib/python3.6/dist-packages (from simpletransformers) (0.0.12)\n",
            "Requirement already satisfied: numpy in /usr/local/lib/python3.6/dist-packages (from simpletransformers) (1.17.4)\n",
            "Requirement already satisfied: scipy in /usr/local/lib/python3.6/dist-packages (from simpletransformers) (1.3.3)\n",
            "Requirement already satisfied: requests in /usr/local/lib/python3.6/dist-packages (from simpletransformers) (2.21.0)\n",
            "Requirement already satisfied: regex in /usr/local/lib/python3.6/dist-packages (from simpletransformers) (2019.12.9)\n",
            "Requirement already satisfied: transformers in /usr/local/lib/python3.6/dist-packages (from simpletransformers) (2.3.0)\n",
            "Requirement already satisfied: tqdm in /usr/local/lib/python3.6/dist-packages (from simpletransformers) (4.28.1)\n",
            "Requirement already satisfied: tensorboardx in /usr/local/lib/python3.6/dist-packages (from simpletransformers) (2.0)\n",
            "Requirement already satisfied: joblib>=0.11 in /usr/local/lib/python3.6/dist-packages (from scikit-learn->simpletransformers) (0.14.1)\n",
            "Requirement already satisfied: Keras>=2.2.4 in /usr/local/lib/python3.6/dist-packages (from seqeval->simpletransformers) (2.2.5)\n",
            "Requirement already satisfied: chardet<3.1.0,>=3.0.2 in /usr/local/lib/python3.6/dist-packages (from requests->simpletransformers) (3.0.4)\n",
            "Requirement already satisfied: certifi>=2017.4.17 in /usr/local/lib/python3.6/dist-packages (from requests->simpletransformers) (2019.11.28)\n",
            "Requirement already satisfied: idna<2.9,>=2.5 in /usr/local/lib/python3.6/dist-packages (from requests->simpletransformers) (2.8)\n",
            "Requirement already satisfied: urllib3<1.25,>=1.21.1 in /usr/local/lib/python3.6/dist-packages (from requests->simpletransformers) (1.24.3)\n",
            "Requirement already satisfied: sacremoses in /usr/local/lib/python3.6/dist-packages (from transformers->simpletransformers) (0.0.35)\n",
            "Requirement already satisfied: boto3 in /usr/local/lib/python3.6/dist-packages (from transformers->simpletransformers) (1.10.40)\n",
            "Requirement already satisfied: sentencepiece in /usr/local/lib/python3.6/dist-packages (from transformers->simpletransformers) (0.1.85)\n",
            "Requirement already satisfied: six in /usr/local/lib/python3.6/dist-packages (from tensorboardx->simpletransformers) (1.12.0)\n",
            "Requirement already satisfied: protobuf>=3.8.0 in /usr/local/lib/python3.6/dist-packages (from tensorboardx->simpletransformers) (3.10.0)\n",
            "Requirement already satisfied: keras-preprocessing>=1.1.0 in /usr/local/lib/python3.6/dist-packages (from Keras>=2.2.4->seqeval->simpletransformers) (1.1.0)\n",
            "Requirement already satisfied: h5py in /usr/local/lib/python3.6/dist-packages (from Keras>=2.2.4->seqeval->simpletransformers) (2.8.0)\n",
            "Requirement already satisfied: pyyaml in /usr/local/lib/python3.6/dist-packages (from Keras>=2.2.4->seqeval->simpletransformers) (3.13)\n",
            "Requirement already satisfied: keras-applications>=1.0.8 in /usr/local/lib/python3.6/dist-packages (from Keras>=2.2.4->seqeval->simpletransformers) (1.0.8)\n",
            "Requirement already satisfied: click in /usr/local/lib/python3.6/dist-packages (from sacremoses->transformers->simpletransformers) (7.0)\n",
            "Requirement already satisfied: s3transfer<0.3.0,>=0.2.0 in /usr/local/lib/python3.6/dist-packages (from boto3->transformers->simpletransformers) (0.2.1)\n",
            "Requirement already satisfied: botocore<1.14.0,>=1.13.40 in /usr/local/lib/python3.6/dist-packages (from boto3->transformers->simpletransformers) (1.13.40)\n",
            "Requirement already satisfied: jmespath<1.0.0,>=0.7.1 in /usr/local/lib/python3.6/dist-packages (from boto3->transformers->simpletransformers) (0.9.4)\n",
            "Requirement already satisfied: setuptools in /usr/local/lib/python3.6/dist-packages (from protobuf>=3.8.0->tensorboardx->simpletransformers) (42.0.2)\n",
            "Requirement already satisfied: docutils<0.16,>=0.10 in /usr/local/lib/python3.6/dist-packages (from botocore<1.14.0,>=1.13.40->boto3->transformers->simpletransformers) (0.15.2)\n",
            "Requirement already satisfied: python-dateutil<2.8.1,>=2.1; python_version >= \"2.7\" in /usr/local/lib/python3.6/dist-packages (from botocore<1.14.0,>=1.13.40->boto3->transformers->simpletransformers) (2.6.1)\n",
            "Requirement already satisfied: ktrain in /usr/local/lib/python3.6/dist-packages (0.7.3)\n",
            "Requirement already satisfied: matplotlib>=3.0.0 in /usr/local/lib/python3.6/dist-packages (from ktrain) (3.1.2)\n",
            "Requirement already satisfied: packaging in /usr/local/lib/python3.6/dist-packages (from ktrain) (19.2)\n",
            "Requirement already satisfied: cchardet in /usr/local/lib/python3.6/dist-packages (from ktrain) (2.1.5)\n",
            "Requirement already satisfied: keras-bert in /usr/local/lib/python3.6/dist-packages (from ktrain) (0.80.0)\n",
            "Requirement already satisfied: seqeval in /usr/local/lib/python3.6/dist-packages (from ktrain) (0.0.12)\n",
            "Requirement already satisfied: langdetect in /usr/local/lib/python3.6/dist-packages (from ktrain) (1.0.7)\n",
            "Requirement already satisfied: requests in /usr/local/lib/python3.6/dist-packages (from ktrain) (2.21.0)\n",
            "Requirement already satisfied: jieba in /usr/local/lib/python3.6/dist-packages (from ktrain) (0.39)\n",
            "Requirement already satisfied: bokeh in /usr/local/lib/python3.6/dist-packages (from ktrain) (1.0.4)\n",
            "Requirement already satisfied: joblib in /usr/local/lib/python3.6/dist-packages (from ktrain) (0.14.1)\n",
            "Requirement already satisfied: scikit-learn==0.21.3 in /usr/local/lib/python3.6/dist-packages (from ktrain) (0.21.3)\n",
            "Requirement already satisfied: networkx==2.3 in /usr/local/lib/python3.6/dist-packages (from ktrain) (2.3)\n",
            "Requirement already satisfied: fastprogress>=0.1.21 in /usr/local/lib/python3.6/dist-packages (from ktrain) (0.1.22)\n",
            "Requirement already satisfied: pandas>=0.24.2 in /usr/local/lib/python3.6/dist-packages (from ktrain) (0.25.3)\n",
            "Requirement already satisfied: numpy>=1.11 in /usr/local/lib/python3.6/dist-packages (from matplotlib>=3.0.0->ktrain) (1.17.4)\n",
            "Requirement already satisfied: cycler>=0.10 in /usr/local/lib/python3.6/dist-packages (from matplotlib>=3.0.0->ktrain) (0.10.0)\n",
            "Requirement already satisfied: python-dateutil>=2.1 in /usr/local/lib/python3.6/dist-packages (from matplotlib>=3.0.0->ktrain) (2.6.1)\n",
            "Requirement already satisfied: pyparsing!=2.0.4,!=2.1.2,!=2.1.6,>=2.0.1 in /usr/local/lib/python3.6/dist-packages (from matplotlib>=3.0.0->ktrain) (2.4.5)\n",
            "Requirement already satisfied: kiwisolver>=1.0.1 in /usr/local/lib/python3.6/dist-packages (from matplotlib>=3.0.0->ktrain) (1.1.0)\n",
            "Requirement already satisfied: six in /usr/local/lib/python3.6/dist-packages (from packaging->ktrain) (1.12.0)\n",
            "Requirement already satisfied: keras-transformer>=0.30.0 in /usr/local/lib/python3.6/dist-packages (from keras-bert->ktrain) (0.31.0)\n",
            "Requirement already satisfied: Keras in /usr/local/lib/python3.6/dist-packages (from keras-bert->ktrain) (2.2.5)\n",
            "Requirement already satisfied: certifi>=2017.4.17 in /usr/local/lib/python3.6/dist-packages (from requests->ktrain) (2019.11.28)\n",
            "Requirement already satisfied: idna<2.9,>=2.5 in /usr/local/lib/python3.6/dist-packages (from requests->ktrain) (2.8)\n",
            "Requirement already satisfied: chardet<3.1.0,>=3.0.2 in /usr/local/lib/python3.6/dist-packages (from requests->ktrain) (3.0.4)\n",
            "Requirement already satisfied: urllib3<1.25,>=1.21.1 in /usr/local/lib/python3.6/dist-packages (from requests->ktrain) (1.24.3)\n",
            "Requirement already satisfied: tornado>=4.3 in /usr/local/lib/python3.6/dist-packages (from bokeh->ktrain) (4.5.3)\n",
            "Requirement already satisfied: Jinja2>=2.7 in /usr/local/lib/python3.6/dist-packages (from bokeh->ktrain) (2.10.3)\n",
            "Requirement already satisfied: PyYAML>=3.10 in /usr/local/lib/python3.6/dist-packages (from bokeh->ktrain) (3.13)\n",
            "Requirement already satisfied: pillow>=4.0 in /usr/local/lib/python3.6/dist-packages (from bokeh->ktrain) (4.3.0)\n",
            "Requirement already satisfied: scipy>=0.17.0 in /usr/local/lib/python3.6/dist-packages (from scikit-learn==0.21.3->ktrain) (1.3.3)\n",
            "Requirement already satisfied: decorator>=4.3.0 in /usr/local/lib/python3.6/dist-packages (from networkx==2.3->ktrain) (4.4.1)\n",
            "Requirement already satisfied: pytz>=2017.2 in /usr/local/lib/python3.6/dist-packages (from pandas>=0.24.2->ktrain) (2018.9)\n",
            "Requirement already satisfied: setuptools in /usr/local/lib/python3.6/dist-packages (from kiwisolver>=1.0.1->matplotlib>=3.0.0->ktrain) (42.0.2)\n",
            "Requirement already satisfied: keras-layer-normalization>=0.12.0 in /usr/local/lib/python3.6/dist-packages (from keras-transformer>=0.30.0->keras-bert->ktrain) (0.14.0)\n",
            "Requirement already satisfied: keras-position-wise-feed-forward>=0.5.0 in /usr/local/lib/python3.6/dist-packages (from keras-transformer>=0.30.0->keras-bert->ktrain) (0.6.0)\n",
            "Requirement already satisfied: keras-pos-embd>=0.10.0 in /usr/local/lib/python3.6/dist-packages (from keras-transformer>=0.30.0->keras-bert->ktrain) (0.11.0)\n",
            "Requirement already satisfied: keras-embed-sim>=0.7.0 in /usr/local/lib/python3.6/dist-packages (from keras-transformer>=0.30.0->keras-bert->ktrain) (0.7.0)\n",
            "Requirement already satisfied: keras-multi-head>=0.22.0 in /usr/local/lib/python3.6/dist-packages (from keras-transformer>=0.30.0->keras-bert->ktrain) (0.22.0)\n",
            "Requirement already satisfied: h5py in /usr/local/lib/python3.6/dist-packages (from Keras->keras-bert->ktrain) (2.8.0)\n",
            "Requirement already satisfied: keras-preprocessing>=1.1.0 in /usr/local/lib/python3.6/dist-packages (from Keras->keras-bert->ktrain) (1.1.0)\n",
            "Requirement already satisfied: keras-applications>=1.0.8 in /usr/local/lib/python3.6/dist-packages (from Keras->keras-bert->ktrain) (1.0.8)\n",
            "Requirement already satisfied: MarkupSafe>=0.23 in /usr/local/lib/python3.6/dist-packages (from Jinja2>=2.7->bokeh->ktrain) (1.1.1)\n",
            "Requirement already satisfied: olefile in /usr/local/lib/python3.6/dist-packages (from pillow>=4.0->bokeh->ktrain) (0.46)\n",
            "Requirement already satisfied: keras-self-attention==0.41.0 in /usr/local/lib/python3.6/dist-packages (from keras-multi-head>=0.22.0->keras-transformer>=0.30.0->keras-bert->ktrain) (0.41.0)\n"
          ],
          "name": "stdout"
        }
      ]
    },
    {
      "cell_type": "code",
      "metadata": {
        "id": "wMpE4EFwJAFe",
        "colab_type": "code",
        "colab": {}
      },
      "source": [
        "from simpletransformers.classification import ClassificationModel\n",
        "import tensorflow as tf\n",
        "import pandas as pd\n",
        "import ktrain\n",
        "import numpy as np\n",
        "import sklearn as sk\n",
        "from sklearn.model_selection import train_test_split\n",
        "from plotly.offline import init_notebook_mode,iplot\n",
        "import plotly.graph_objects as go\n",
        "import cufflinks as cf\n",
        "from sklearn.metrics import accuracy_score"
      ],
      "execution_count": 0,
      "outputs": []
    },
    {
      "cell_type": "code",
      "metadata": {
        "id": "5XAZuPiqKa5_",
        "colab_type": "code",
        "outputId": "65350486-1f20-4950-a032-5825171b0030",
        "colab": {
          "base_uri": "https://localhost:8080/",
          "height": 34
        }
      },
      "source": [
        "from google.colab import drive\n",
        "drive.mount('/content/drive')"
      ],
      "execution_count": 27,
      "outputs": [
        {
          "output_type": "stream",
          "text": [
            "Drive already mounted at /content/drive; to attempt to forcibly remount, call drive.mount(\"/content/drive\", force_remount=True).\n"
          ],
          "name": "stdout"
        }
      ]
    },
    {
      "cell_type": "markdown",
      "metadata": {
        "id": "Xk44iUEHw-Hw",
        "colab_type": "text"
      },
      "source": [
        "## Data exploration and cleaning"
      ]
    },
    {
      "cell_type": "code",
      "metadata": {
        "id": "xHNUumUMKsV6",
        "colab_type": "code",
        "colab": {}
      },
      "source": [
        "path = '/content/drive/My Drive/News_Category_Dataset_v2.json'\n",
        "\n",
        "df_ = pd.read_json(path, lines=True)"
      ],
      "execution_count": 0,
      "outputs": []
    },
    {
      "cell_type": "code",
      "metadata": {
        "id": "7DRrx3CsQma6",
        "colab_type": "code",
        "colab": {
          "base_uri": "https://localhost:8080/",
          "height": 221
        },
        "outputId": "22ca1fec-13c2-4ff7-bad1-0fa25299ec08"
      },
      "source": [
        "df_['date'].dt.year.astype(str)"
      ],
      "execution_count": 39,
      "outputs": [
        {
          "output_type": "execute_result",
          "data": {
            "text/plain": [
              "0         2018\n",
              "1         2018\n",
              "2         2018\n",
              "3         2018\n",
              "4         2018\n",
              "          ... \n",
              "200848    2012\n",
              "200849    2012\n",
              "200850    2012\n",
              "200851    2012\n",
              "200852    2012\n",
              "Name: date, Length: 200853, dtype: object"
            ]
          },
          "metadata": {
            "tags": []
          },
          "execution_count": 39
        }
      ]
    },
    {
      "cell_type": "code",
      "metadata": {
        "id": "ao3TxAAYWpHD",
        "colab_type": "code",
        "outputId": "97bb6be5-c6f3-4a8d-d1f2-cd319d993c20",
        "colab": {
          "base_uri": "https://localhost:8080/",
          "height": 204
        }
      },
      "source": [
        "df_['text'] = df_['date'].dt.year.astype(str)+' '+df_['authors']+' '+df_['headline'] +' '+ df_['short_description']\n",
        "\n",
        "df = df_.drop(['link', 'date', 'headline', 'short_description', 'authors'], axis=1)\n",
        "\n",
        "df.head()"
      ],
      "execution_count": 40,
      "outputs": [
        {
          "output_type": "execute_result",
          "data": {
            "text/html": [
              "<div>\n",
              "<style scoped>\n",
              "    .dataframe tbody tr th:only-of-type {\n",
              "        vertical-align: middle;\n",
              "    }\n",
              "\n",
              "    .dataframe tbody tr th {\n",
              "        vertical-align: top;\n",
              "    }\n",
              "\n",
              "    .dataframe thead th {\n",
              "        text-align: right;\n",
              "    }\n",
              "</style>\n",
              "<table border=\"1\" class=\"dataframe\">\n",
              "  <thead>\n",
              "    <tr style=\"text-align: right;\">\n",
              "      <th></th>\n",
              "      <th>category</th>\n",
              "      <th>text</th>\n",
              "    </tr>\n",
              "  </thead>\n",
              "  <tbody>\n",
              "    <tr>\n",
              "      <th>0</th>\n",
              "      <td>CRIME</td>\n",
              "      <td>2018 Melissa Jeltsen There Were 2 Mass Shootin...</td>\n",
              "    </tr>\n",
              "    <tr>\n",
              "      <th>1</th>\n",
              "      <td>ENTERTAINMENT</td>\n",
              "      <td>2018 Andy McDonald Will Smith Joins Diplo And ...</td>\n",
              "    </tr>\n",
              "    <tr>\n",
              "      <th>2</th>\n",
              "      <td>ENTERTAINMENT</td>\n",
              "      <td>2018 Ron Dicker Hugh Grant Marries For The Fir...</td>\n",
              "    </tr>\n",
              "    <tr>\n",
              "      <th>3</th>\n",
              "      <td>ENTERTAINMENT</td>\n",
              "      <td>2018 Ron Dicker Jim Carrey Blasts 'Castrato' A...</td>\n",
              "    </tr>\n",
              "    <tr>\n",
              "      <th>4</th>\n",
              "      <td>ENTERTAINMENT</td>\n",
              "      <td>2018 Ron Dicker Julianna Margulies Uses Donald...</td>\n",
              "    </tr>\n",
              "  </tbody>\n",
              "</table>\n",
              "</div>"
            ],
            "text/plain": [
              "        category                                               text\n",
              "0          CRIME  2018 Melissa Jeltsen There Were 2 Mass Shootin...\n",
              "1  ENTERTAINMENT  2018 Andy McDonald Will Smith Joins Diplo And ...\n",
              "2  ENTERTAINMENT  2018 Ron Dicker Hugh Grant Marries For The Fir...\n",
              "3  ENTERTAINMENT  2018 Ron Dicker Jim Carrey Blasts 'Castrato' A...\n",
              "4  ENTERTAINMENT  2018 Ron Dicker Julianna Margulies Uses Donald..."
            ]
          },
          "metadata": {
            "tags": []
          },
          "execution_count": 40
        }
      ]
    },
    {
      "cell_type": "code",
      "metadata": {
        "id": "odmDmtZbsPJ0",
        "colab_type": "code",
        "colab": {}
      },
      "source": [
        "cat_count = df['category'].value_counts()"
      ],
      "execution_count": 0,
      "outputs": []
    },
    {
      "cell_type": "code",
      "metadata": {
        "id": "P0jRDShpY5JK",
        "colab_type": "code",
        "colab": {}
      },
      "source": [
        "culture = ['ARTS & CULTURE', 'ARTS', 'CULTURE & ARTS']\n",
        "worldpost = ['WORLDPOST', 'THE WORLDPOST']\n",
        "parents = ['PARENTING', 'PARENTS']\n",
        "\n",
        "df['category'][df['category'].isin(culture)] = \"CULTURE\"\n",
        "df['category'][df['category'].isin(worldpost)] = \"WORLDPOST\"\n",
        "df['category'][df['category'].isin(parents)] = \"PARENTS\""
      ],
      "execution_count": 0,
      "outputs": []
    },
    {
      "cell_type": "code",
      "metadata": {
        "id": "VlAB29bedb8N",
        "colab_type": "code",
        "colab": {}
      },
      "source": [
        "cats = df.category.unique()\n",
        "def cat_to_num(lab):\n",
        "  return np.where(cats == lab)[0][0]\n",
        "\n",
        "df['label'] = df['category'].apply(cat_to_num)"
      ],
      "execution_count": 0,
      "outputs": []
    },
    {
      "cell_type": "code",
      "metadata": {
        "id": "7GwK8GwO6Ipn",
        "colab_type": "code",
        "colab": {}
      },
      "source": [
        "X_train, X_test, Y_train, Y_test = train_test_split(df['text'], df['label'], test_size=0.3)"
      ],
      "execution_count": 0,
      "outputs": []
    },
    {
      "cell_type": "markdown",
      "metadata": {
        "id": "tx_aZiFCuLD5",
        "colab_type": "text"
      },
      "source": [
        "\n",
        "## Feature engineering and downloading pretrained NBSVM model\n"
      ]
    },
    {
      "cell_type": "code",
      "metadata": {
        "id": "1DJsLVNos8cb",
        "colab_type": "code",
        "outputId": "a00c0bc6-268f-4f8c-ddf0-7ba6f507482b",
        "colab": {
          "base_uri": "https://localhost:8080/",
          "height": 204
        }
      },
      "source": [
        "(x_train, y_train), (x_test, y_test), preproc = ktrain.text.texts_from_array(\n",
        "                                                            x_train=X_train.to_list(), y_train=Y_train.to_list(),\n",
        "                                                            x_test=X_test.to_list(), y_test=Y_test.to_list(),\n",
        "                                                            class_names=list(cats),\n",
        "                                                            maxlen=350, \n",
        "                                                            max_features=35000)"
      ],
      "execution_count": 55,
      "outputs": [
        {
          "output_type": "stream",
          "text": [
            "language: en\n",
            "Word Counts: 113426\n",
            "Nrows: 140597\n",
            "140597 train sequences\n",
            "Average train sequence length: 33\n",
            "x_train shape: (140597,350)\n",
            "y_train shape: (140597,37)\n",
            "60256 test sequences\n",
            "Average test sequence length: 33\n",
            "x_test shape: (60256,350)\n",
            "y_test shape: (60256,37)\n"
          ],
          "name": "stdout"
        }
      ]
    },
    {
      "cell_type": "markdown",
      "metadata": {
        "id": "w42np1Bu19re",
        "colab_type": "text"
      },
      "source": [
        "## Model creation and training"
      ]
    },
    {
      "cell_type": "code",
      "metadata": {
        "id": "G40Q9Bakv239",
        "colab_type": "code",
        "outputId": "6fca41c7-8f53-44a4-e161-490e8ffdea18",
        "colab": {
          "base_uri": "https://localhost:8080/",
          "height": 374
        }
      },
      "source": [
        "tf.device('/device:GPU:0')\n",
        "model = ktrain.text.text_classifier('nbsvm', (x_train, y_train), preproc=preproc)\n",
        "learner = ktrain.get_learner(model,train_data=(x_train, y_train), batch_size=6,\n",
        "                             workers=-1, use_multiprocessing = True)"
      ],
      "execution_count": 56,
      "outputs": [
        {
          "output_type": "stream",
          "text": [
            "Is Multi-Label? False\n",
            "compiling word ID features...\n",
            "maxlen is 350\n",
            "building document-term matrix... this may take a few moments...\n",
            "rows: 1-10000\n",
            "rows: 10001-20000\n",
            "rows: 20001-30000\n",
            "rows: 30001-40000\n",
            "rows: 40001-50000\n",
            "rows: 50001-60000\n",
            "rows: 60001-70000\n",
            "rows: 70001-80000\n",
            "rows: 80001-90000\n",
            "rows: 90001-100000\n",
            "rows: 100001-110000\n",
            "rows: 110001-120000\n",
            "rows: 120001-130000\n",
            "rows: 130001-140000\n",
            "rows: 140001-140597\n",
            "computing log-count ratios...\n",
            "done.\n"
          ],
          "name": "stdout"
        }
      ]
    },
    {
      "cell_type": "code",
      "metadata": {
        "id": "QSU-ix-lv3dY",
        "colab_type": "code",
        "outputId": "d8dcfadb-a734-4953-b7ce-9253f25a1378",
        "colab": {
          "base_uri": "https://localhost:8080/",
          "height": 136
        }
      },
      "source": [
        "learner.lr_find()"
      ],
      "execution_count": 12,
      "outputs": [
        {
          "output_type": "stream",
          "text": [
            "simulating training for different learning rates... this may take a few moments...\n",
            "Train on 140597 samples\n",
            "Epoch 1/1024\n",
            "  9300/140597 [>.............................] - ETA: 1:22 - loss: 3.1684 - acc: 0.3539\n",
            "\n",
            "done.\n",
            "Please invoke the Learner.lr_plot() method to visually inspect the loss plot to help identify the maximal learning rate associated with falling loss.\n"
          ],
          "name": "stdout"
        }
      ]
    },
    {
      "cell_type": "code",
      "metadata": {
        "id": "QYVsFPB7wArh",
        "colab_type": "code",
        "outputId": "c6597216-9ec1-4737-d13e-83620f282e81",
        "colab": {
          "base_uri": "https://localhost:8080/",
          "height": 283
        }
      },
      "source": [
        "learner.lr_plot()"
      ],
      "execution_count": 13,
      "outputs": [
        {
          "output_type": "display_data",
          "data": {
            "image/png": "[encoded data removed]",
            "text/plain": [
              "<Figure size 432x288 with 1 Axes>"
            ]
          },
          "metadata": {
            "tags": []
          }
        }
      ]
    },
    {
      "cell_type": "code",
      "metadata": {
        "id": "9MHBkosKv_hZ",
        "colab_type": "code",
        "outputId": "240c8141-0e88-47db-c9db-9775d8d65f1c",
        "colab": {
          "base_uri": "https://localhost:8080/",
          "height": 204
        }
      },
      "source": [
        "learner.autofit(0.001, 3)"
      ],
      "execution_count": 57,
      "outputs": [
        {
          "output_type": "stream",
          "text": [
            "\n",
            "\n",
            "begin training using triangular learning rate policy with max lr of 0.001...\n",
            "Train on 140597 samples\n",
            "Epoch 1/3\n",
            "140597/140597 [==============================] - 126s 895us/sample - loss: 1.2754 - acc: 0.7206\n",
            "Epoch 2/3\n",
            "140597/140597 [==============================] - 125s 893us/sample - loss: 0.7809 - acc: 0.7880\n",
            "Epoch 3/3\n",
            "140597/140597 [==============================] - 125s 893us/sample - loss: 0.7325 - acc: 0.8000\n"
          ],
          "name": "stdout"
        },
        {
          "output_type": "execute_result",
          "data": {
            "text/plain": [
              "<tensorflow.python.keras.callbacks.History at 0x7f40fac9d080>"
            ]
          },
          "metadata": {
            "tags": []
          },
          "execution_count": 57
        }
      ]
    },
    {
      "cell_type": "code",
      "metadata": {
        "id": "ukq6uwh66Orx",
        "colab_type": "code",
        "outputId": "58e8332d-f849-4379-ddf2-9c08d949877f",
        "colab": {
          "base_uri": "https://localhost:8080/",
          "height": 884
        }
      },
      "source": [
        "learner.validate(val_data=(x_test, y_test), class_names=list(cats))"
      ],
      "execution_count": 58,
      "outputs": [
        {
          "output_type": "stream",
          "text": [
            "                precision    recall  f1-score   support\n",
            "\n",
            "         CRIME       0.53      0.64      0.58       997\n",
            " ENTERTAINMENT       0.84      0.74      0.79      4802\n",
            "    WORLD NEWS       0.42      0.71      0.53       621\n",
            "        IMPACT       0.58      0.43      0.50      1040\n",
            "      POLITICS       0.88      0.81      0.84      9767\n",
            "    WEIRD NEWS       0.50      0.56      0.53       797\n",
            "  BLACK VOICES       0.66      0.56      0.61      1355\n",
            "         WOMEN       0.60      0.48      0.53      1084\n",
            "        COMEDY       0.69      0.63      0.66      1555\n",
            "  QUEER VOICES       0.86      0.79      0.83      1912\n",
            "        SPORTS       0.82      0.76      0.79      1489\n",
            "      BUSINESS       0.72      0.51      0.60      1815\n",
            "        TRAVEL       0.87      0.83      0.85      3022\n",
            "         MEDIA       0.54      0.61      0.57       822\n",
            "          TECH       0.57      0.62      0.59       578\n",
            "      RELIGION       0.72      0.67      0.70       757\n",
            "       SCIENCE       0.62      0.66      0.64       610\n",
            " LATINO VOICES       0.26      0.69      0.38       365\n",
            "     EDUCATION       0.22      0.65      0.32       297\n",
            "       COLLEGE       0.34      0.55      0.42       359\n",
            "       PARENTS       0.83      0.76      0.79      3752\n",
            "       CULTURE       0.77      0.71      0.74      1156\n",
            "         STYLE       0.60      0.75      0.66       682\n",
            "         GREEN       0.56      0.47      0.51       794\n",
            "         TASTE       0.69      0.78      0.73       612\n",
            "HEALTHY LIVING       0.75      0.56      0.64      1989\n",
            "     WORLDPOST       0.76      0.60      0.67      1891\n",
            "     GOOD NEWS       0.33      0.73      0.46       378\n",
            "         FIFTY       0.30      0.71      0.43       429\n",
            "      WELLNESS       0.86      0.84      0.85      5452\n",
            " HOME & LIVING       0.88      0.85      0.87      1304\n",
            "STYLE & BEAUTY       0.87      0.90      0.89      2905\n",
            "       DIVORCE       0.74      0.84      0.79       990\n",
            "      WEDDINGS       0.79      0.80      0.80      1097\n",
            "  FOOD & DRINK       0.88      0.87      0.87      1892\n",
            "         MONEY       0.48      0.80      0.60       497\n",
            "   ENVIRONMENT       0.31      0.77      0.44       392\n",
            "\n",
            "      accuracy                           0.74     60256\n",
            "     macro avg       0.64      0.69      0.65     60256\n",
            "  weighted avg       0.77      0.74      0.75     60256\n",
            "\n"
          ],
          "name": "stdout"
        },
        {
          "output_type": "execute_result",
          "data": {
            "text/plain": [
              "array([[ 639,    6,   14, ...,    0,    5,   14],\n",
              "       [  32, 3538,   11, ...,    2,   14,   25],\n",
              "       [   7,    4,  443, ...,    0,    0,    0],\n",
              "       ...,\n",
              "       [   0,    2,    0, ..., 1641,   13,   20],\n",
              "       [   4,    1,    0, ...,    2,  398,    7],\n",
              "       [   0,    2,    0, ...,    6,    6,  302]])"
            ]
          },
          "metadata": {
            "tags": []
          },
          "execution_count": 58
        }
      ]
    },
    {
      "cell_type": "code",
      "metadata": {
        "id": "aqhMYsle52mU",
        "colab_type": "code",
        "outputId": "0531fcf7-982f-4b72-f9fb-99d0f324921e",
        "colab": {
          "base_uri": "https://localhost:8080/",
          "height": 68
        }
      },
      "source": [
        "from sklearn.metrics import roc_auc_score\n",
        "y_pred = learner.model.predict(x_test, verbose=0)\n",
        "score = roc_auc_score(y_test, y_pred)\n",
        "print(\"\\n ROC-AUC score: %.6f \\n\" % (score))"
      ],
      "execution_count": 0,
      "outputs": [
        {
          "output_type": "stream",
          "text": [
            "\n",
            " ROC-AUC score: 0.973851 \n",
            "\n"
          ],
          "name": "stdout"
        }
      ]
    },
    {
      "cell_type": "markdown",
      "metadata": {
        "id": "UnHrvfDgxQdi",
        "colab_type": "text"
      },
      "source": [
        "# fasttext model"
      ]
    },
    {
      "cell_type": "code",
      "metadata": {
        "id": "hyTOukASxgfK",
        "colab_type": "code",
        "outputId": "1ed75152-697f-4d2b-fbc2-2085c00fb995",
        "colab": {
          "base_uri": "https://localhost:8080/",
          "height": 85
        }
      },
      "source": [
        "model = ktrain.text.text_classifier('fasttext', (x_train, y_train), preproc=preproc)\n",
        "learner = ktrain.get_learner(model,train_data=(x_train, y_train), batch_size=6,\n",
        "                             workers=-1, use_multiprocessing = True)"
      ],
      "execution_count": 47,
      "outputs": [
        {
          "output_type": "stream",
          "text": [
            "Is Multi-Label? False\n",
            "compiling word ID features...\n",
            "maxlen is 350\n",
            "done.\n"
          ],
          "name": "stdout"
        }
      ]
    },
    {
      "cell_type": "code",
      "metadata": {
        "id": "oyCUhkldxr49",
        "colab_type": "code",
        "outputId": "e5db80eb-4f17-4655-a310-4623bef5762d",
        "colab": {
          "base_uri": "https://localhost:8080/",
          "height": 136
        }
      },
      "source": [
        "learner.lr_find()"
      ],
      "execution_count": 48,
      "outputs": [
        {
          "output_type": "stream",
          "text": [
            "simulating training for different learning rates... this may take a few moments...\n",
            "Train on 140597 samples\n",
            "Epoch 1/1024\n",
            " 11112/140597 [=>............................] - ETA: 2:13 - loss: 4.1017 - acc: 0.0796\n",
            "\n",
            "done.\n",
            "Please invoke the Learner.lr_plot() method to visually inspect the loss plot to help identify the maximal learning rate associated with falling loss.\n"
          ],
          "name": "stdout"
        }
      ]
    },
    {
      "cell_type": "code",
      "metadata": {
        "id": "QopCwXimxxcV",
        "colab_type": "code",
        "outputId": "a1d8ccc8-65b6-4836-d991-165ac727dfc7",
        "colab": {
          "base_uri": "https://localhost:8080/",
          "height": 283
        }
      },
      "source": [
        "learner.lr_plot()"
      ],
      "execution_count": 49,
      "outputs": [
        {
          "output_type": "display_data",
          "data": {
            "image/png": "[encoded data removed]",
            "text/plain": [
              "<Figure size 432x288 with 1 Axes>"
            ]
          },
          "metadata": {
            "tags": []
          }
        }
      ]
    },
    {
      "cell_type": "code",
      "metadata": {
        "id": "BSN_Tql6x0qg",
        "colab_type": "code",
        "outputId": "572d60b4-ac56-477f-bb24-5cbc26e41640",
        "colab": {
          "base_uri": "https://localhost:8080/",
          "height": 204
        }
      },
      "source": [
        "learner.autofit(0.2, 3)"
      ],
      "execution_count": 50,
      "outputs": [
        {
          "output_type": "stream",
          "text": [
            "\n",
            "\n",
            "begin training using triangular learning rate policy with max lr of 0.2...\n",
            "Train on 140597 samples\n",
            "Epoch 1/3\n",
            "140597/140597 [==============================] - 175s 1ms/sample - loss: 3.3842 - acc: 0.1559\n",
            "Epoch 2/3\n",
            "140597/140597 [==============================] - 177s 1ms/sample - loss: 3.3445 - acc: 0.1574\n",
            "Epoch 3/3\n",
            "140597/140597 [==============================] - 176s 1ms/sample - loss: 3.3442 - acc: 0.1569\n"
          ],
          "name": "stdout"
        },
        {
          "output_type": "execute_result",
          "data": {
            "text/plain": [
              "<tensorflow.python.keras.callbacks.History at 0x7f41be732748>"
            ]
          },
          "metadata": {
            "tags": []
          },
          "execution_count": 50
        }
      ]
    },
    {
      "cell_type": "code",
      "metadata": {
        "id": "rKRXJUvCx9N2",
        "colab_type": "code",
        "outputId": "3e6b42c5-b668-4fc6-a8a2-fd228da357f8",
        "colab": {
          "base_uri": "https://localhost:8080/",
          "height": 952
        }
      },
      "source": [
        "learner.validate(val_data=(x_test, y_test), class_names=list(cats))"
      ],
      "execution_count": 0,
      "outputs": [
        {
          "output_type": "stream",
          "text": [
            "                precision    recall  f1-score   support\n",
            "\n",
            "         CRIME       0.00      0.00      0.00       814\n",
            " ENTERTAINMENT       0.00      0.00      0.00      3993\n",
            "    WORLD NEWS       0.00      0.00      0.00       510\n",
            "        IMPACT       0.00      0.00      0.00       853\n",
            "      POLITICS       0.17      1.00      0.28      8305\n",
            "    WEIRD NEWS       0.00      0.00      0.00       639\n",
            "  BLACK VOICES       0.00      0.00      0.00      1163\n",
            "         WOMEN       0.00      0.00      0.00       854\n",
            "        COMEDY       0.00      0.00      0.00      1298\n",
            "  QUEER VOICES       0.00      0.00      0.00      1616\n",
            "        SPORTS       0.00      0.00      0.00      1253\n",
            "      BUSINESS       0.00      0.00      0.00      1460\n",
            "        TRAVEL       0.00      0.00      0.00      2474\n",
            "         MEDIA       0.00      0.00      0.00       702\n",
            "          TECH       0.00      0.00      0.00       511\n",
            "      RELIGION       0.00      0.00      0.00       640\n",
            "       SCIENCE       0.00      0.00      0.00       530\n",
            " LATINO VOICES       0.00      0.00      0.00       290\n",
            "     EDUCATION       0.00      0.00      0.00       267\n",
            "       COLLEGE       0.00      0.00      0.00       296\n",
            "       PARENTS       0.00      0.00      0.00      3168\n",
            "       CULTURE       0.00      0.00      0.00       951\n",
            "         STYLE       0.00      0.00      0.00       582\n",
            "         GREEN       0.00      0.00      0.00       623\n",
            "         TASTE       0.00      0.00      0.00       526\n",
            "HEALTHY LIVING       0.00      0.00      0.00      1648\n",
            "     WORLDPOST       0.00      0.00      0.00      1553\n",
            "     GOOD NEWS       0.00      0.00      0.00       348\n",
            "         FIFTY       0.00      0.00      0.00       373\n",
            "      WELLNESS       0.00      0.00      0.00      4478\n",
            " HOME & LIVING       0.00      0.00      0.00      1085\n",
            "STYLE & BEAUTY       0.00      0.00      0.00      2451\n",
            "       DIVORCE       0.00      0.00      0.00       819\n",
            "      WEDDINGS       0.00      0.00      0.00       915\n",
            "  FOOD & DRINK       0.00      0.00      0.00      1518\n",
            "         MONEY       0.00      0.00      0.00       406\n",
            "   ENVIRONMENT       0.00      0.00      0.00       302\n",
            "\n",
            "      accuracy                           0.17     50214\n",
            "     macro avg       0.00      0.03      0.01     50214\n",
            "  weighted avg       0.03      0.17      0.05     50214\n",
            "\n"
          ],
          "name": "stdout"
        },
        {
          "output_type": "stream",
          "text": [
            "/usr/local/lib/python3.6/dist-packages/sklearn/metrics/classification.py:1437: UndefinedMetricWarning:\n",
            "\n",
            "Precision and F-score are ill-defined and being set to 0.0 in labels with no predicted samples.\n",
            "\n"
          ],
          "name": "stderr"
        },
        {
          "output_type": "execute_result",
          "data": {
            "text/plain": [
              "array([[0, 0, 0, ..., 0, 0, 0],\n",
              "       [0, 0, 0, ..., 0, 0, 0],\n",
              "       [0, 0, 0, ..., 0, 0, 0],\n",
              "       ...,\n",
              "       [0, 0, 0, ..., 0, 0, 0],\n",
              "       [0, 0, 0, ..., 0, 0, 0],\n",
              "       [0, 0, 0, ..., 0, 0, 0]])"
            ]
          },
          "metadata": {
            "tags": []
          },
          "execution_count": 59
        }
      ]
    },
    {
      "cell_type": "markdown",
      "metadata": {
        "id": "IvKX7VAlywVw",
        "colab_type": "text"
      },
      "source": [
        "# Using simpletransformers"
      ]
    },
    {
      "cell_type": "code",
      "metadata": {
        "id": "0hTPMDavEa4Z",
        "colab_type": "code",
        "colab": {}
      },
      "source": [
        "!wget https://repo.anaconda.com/archive/Anaconda3-5.2.0-Linux-x86_64.sh && bash Anaconda3-5.2.0-Linux-x86_64.sh -bfp /usr/local"
      ],
      "execution_count": 0,
      "outputs": []
    },
    {
      "cell_type": "code",
      "metadata": {
        "id": "-KTM3QYwEgse",
        "colab_type": "code",
        "colab": {}
      },
      "source": [
        "import sys\n",
        "sys.path.append('/usr/local/lib/python3.6/site-packages')"
      ],
      "execution_count": 0,
      "outputs": []
    },
    {
      "cell_type": "code",
      "metadata": {
        "id": "Rf1iZ19qEGnf",
        "colab_type": "code",
        "colab": {}
      },
      "source": [
        "!conda install -y -q pytorch cudatoolkit=10.0 -c pytorch"
      ],
      "execution_count": 0,
      "outputs": []
    },
    {
      "cell_type": "code",
      "metadata": {
        "id": "x6DfhpVxGGHf",
        "colab_type": "code",
        "outputId": "d52a9279-0d89-4c98-857a-c4f76370577b",
        "colab": {
          "base_uri": "https://localhost:8080/",
          "height": 35
        }
      },
      "source": [
        "%%writefile setup.sh\n",
        "\n",
        "git clone https://github.com/NVIDIA/apex\n",
        "pip install -v --no-cache-dir --global-option=\"--cpp_ext\" --global-option=\"--cuda_ext\" ./apex"
      ],
      "execution_count": 0,
      "outputs": [
        {
          "output_type": "stream",
          "text": [
            "Writing setup.sh\n"
          ],
          "name": "stdout"
        }
      ]
    },
    {
      "cell_type": "code",
      "metadata": {
        "id": "m2zYpZ6BGkD7",
        "colab_type": "code",
        "colab": {}
      },
      "source": [
        "!sh setup.sh"
      ],
      "execution_count": 0,
      "outputs": []
    },
    {
      "cell_type": "code",
      "metadata": {
        "id": "lm5Rv1aXy45C",
        "colab_type": "code",
        "colab": {}
      },
      "source": [
        "train = pd.concat([X_train, Y_train], axis=1)\n",
        "test = pd.concat([X_test, Y_test], axis=1)"
      ],
      "execution_count": 0,
      "outputs": []
    },
    {
      "cell_type": "code",
      "metadata": {
        "id": "rTmKMYzZXgsj",
        "colab_type": "code",
        "colab": {}
      },
      "source": [
        "train['text'] = train['text'].apply(lambda x: x.replace('\\\\', ' '))\n",
        "test['text'] = test['text'].apply(lambda x: x.replace('\\\\', ' '))"
      ],
      "execution_count": 0,
      "outputs": []
    },
    {
      "cell_type": "code",
      "metadata": {
        "id": "Uc0QmSq6y52I",
        "colab_type": "code",
        "colab": {}
      },
      "source": [
        "model = ClassificationModel('albert', 'albert-base-v2', num_labels=len(cats),\n",
        "                            args={'reprocess_input_data': True,\n",
        "                                  'overwrite_output_dir': True,\n",
        "                                  'fp16_opt_level': 'O1',\n",
        "                                  'keep_batchnorm_fp32': None, \n",
        "                                  \"output_dir\": \"/content/drive/My Drive/NewsBert/outputs/\",\n",
        "                                  \"cache_dir\": \"/content/drive/My Drive/NewsBert/cache_dir/\",\n",
        "                                  \"learning_rate\": 2e-5,\n",
        "                                  \"num_train_epochs\": 3,\n",
        "                                  'max_seq_length': 300,\n",
        "                                  'tensorboard_folder': \"/content/drive/My Drive/NewsBert/run/\"})"
      ],
      "execution_count": 0,
      "outputs": []
    },
    {
      "cell_type": "code",
      "metadata": {
        "id": "juiJOPNSy6PM",
        "colab_type": "code",
        "colab": {}
      },
      "source": [
        "model.train_model(train)"
      ],
      "execution_count": 0,
      "outputs": []
    },
    {
      "cell_type": "code",
      "metadata": {
        "id": "DqzDrRFt7v0r",
        "colab_type": "code",
        "colab": {}
      },
      "source": [
        "reloaded_model = ClassificationModel('albert', '/content/drive/My Drive/NewsBert/outputs/', num_labels=len(cats),\n",
        "                            args={'reprocess_input_data': True,\n",
        "                                  'overwrite_output_dir': True,\n",
        "                                  \"output_dir\": \"/content/drive/My Drive/NewsBert/outputs/\",\n",
        "                                  \"cache_dir\": \"/content/drive/My Drive/NewsBert/cache_dir/\",\n",
        "                                  \"learning_rate\": 5e-5,\n",
        "                                  \"num_train_epochs\": 1,\n",
        "                                  'max_seq_length': 300,\n",
        "                                  'tensorboard_folder': \"/content/drive/My Drive/NewsBert/run/\"})"
      ],
      "execution_count": 0,
      "outputs": []
    },
    {
      "cell_type": "code",
      "metadata": {
        "id": "AQkEBO23y6v8",
        "colab_type": "code",
        "outputId": "09f28d9d-9b7d-405c-e294-b6ae7d851d7f",
        "colab": {
          "base_uri": "https://localhost:8080/",
          "referenced_widgets": [
            "0494d75d9db74cc78d7745c260380f24",
            "9b758560df644793b9bd98af1ad7b134",
            "07075c34928044baa3de7b941a59e007",
            "1a68abeaad2449d7b56951f966b1d116",
            "339ea0a8411e4af1a959caabe1f1a3ca"
          ]
        }
      },
      "source": [
        "result, model_outputs, wrong_predictions = model.eval_model(test, acc=sk.metrics.accuracy_score)"
      ],
      "execution_count": 0,
      "outputs": [
        {
          "output_type": "stream",
          "text": [
            "Converting to features started.\n"
          ],
          "name": "stdout"
        },
        {
          "output_type": "display_data",
          "data": {
            "application/vnd.jupyter.widget-view+json": {
              "model_id": "0494d75d9db74cc78d7745c260380f24",
              "version_minor": 0,
              "version_major": 2
            },
            "text/plain": [
              "HBox(children=(IntProgress(value=0, max=60256), HTML(value='')))"
            ]
          },
          "metadata": {
            "tags": []
          }
        },
        {
          "output_type": "stream",
          "text": [
            "\n"
          ],
          "name": "stdout"
        },
        {
          "output_type": "display_data",
          "data": {
            "application/vnd.jupyter.widget-view+json": {
              "model_id": "339ea0a8411e4af1a959caabe1f1a3ca",
              "version_minor": 0,
              "version_major": 2
            },
            "text/plain": [
              "HBox(children=(IntProgress(value=0, max=7532), HTML(value='')))"
            ]
          },
          "metadata": {
            "tags": []
          }
        },
        {
          "output_type": "stream",
          "text": [
            "\n"
          ],
          "name": "stdout"
        }
      ]
    },
    {
      "cell_type": "code",
      "metadata": {
        "id": "UffbAaof_kih",
        "colab_type": "code",
        "outputId": "db3c436c-57dd-46f8-a997-3b557f23f282",
        "colab": {
          "base_uri": "https://localhost:8080/"
        }
      },
      "source": [
        "result"
      ],
      "execution_count": 0,
      "outputs": [
        {
          "output_type": "execute_result",
          "data": {
            "text/plain": [
              "{'acc': 0.7390301380775358,\n",
              " 'eval_loss': 0.9445215776143274,\n",
              " 'mcc': 0.7216599787269715}"
            ]
          },
          "metadata": {
            "tags": []
          },
          "execution_count": 21
        }
      ]
    },
    {
      "cell_type": "code",
      "metadata": {
        "id": "r6qc40MJITg9",
        "colab_type": "code",
        "outputId": "505c17cc-3966-4ccd-fabd-dd79c48405fc",
        "colab": {
          "base_uri": "https://localhost:8080/"
        }
      },
      "source": [
        "train.head()"
      ],
      "execution_count": 0,
      "outputs": [
        {
          "output_type": "execute_result",
          "data": {
            "text/html": [
              "<div>\n",
              "<style scoped>\n",
              "    .dataframe tbody tr th:only-of-type {\n",
              "        vertical-align: middle;\n",
              "    }\n",
              "\n",
              "    .dataframe tbody tr th {\n",
              "        vertical-align: top;\n",
              "    }\n",
              "\n",
              "    .dataframe thead th {\n",
              "        text-align: right;\n",
              "    }\n",
              "</style>\n",
              "<table border=\"1\" class=\"dataframe\">\n",
              "  <thead>\n",
              "    <tr style=\"text-align: right;\">\n",
              "      <th></th>\n",
              "      <th>text</th>\n",
              "      <th>label</th>\n",
              "    </tr>\n",
              "  </thead>\n",
              "  <tbody>\n",
              "    <tr>\n",
              "      <th>158472</th>\n",
              "      <td>Facebook Activity Is Reflection Of U.S. Obesi...</td>\n",
              "      <td>29</td>\n",
              "    </tr>\n",
              "    <tr>\n",
              "      <th>22977</th>\n",
              "      <td>Kimberly Yam NY Assembly Passes Bill That Woul...</td>\n",
              "      <td>4</td>\n",
              "    </tr>\n",
              "    <tr>\n",
              "      <th>125976</th>\n",
              "      <td>Leigh Merryday Porch, Contributor\\nSpecial edu...</td>\n",
              "      <td>20</td>\n",
              "    </tr>\n",
              "    <tr>\n",
              "      <th>39640</th>\n",
              "      <td>Nell Minow, ContributorMovie critic, corporate...</td>\n",
              "      <td>1</td>\n",
              "    </tr>\n",
              "    <tr>\n",
              "      <th>79809</th>\n",
              "      <td>Bonnie Fuller, ContributorPresident &amp; Editor-i...</td>\n",
              "      <td>18</td>\n",
              "    </tr>\n",
              "  </tbody>\n",
              "</table>\n",
              "</div>"
            ],
            "text/plain": [
              "                                                     text  label\n",
              "158472   Facebook Activity Is Reflection Of U.S. Obesi...     29\n",
              "22977   Kimberly Yam NY Assembly Passes Bill That Woul...      4\n",
              "125976  Leigh Merryday Porch, Contributor\\nSpecial edu...     20\n",
              "39640   Nell Minow, ContributorMovie critic, corporate...      1\n",
              "79809   Bonnie Fuller, ContributorPresident & Editor-i...     18"
            ]
          },
          "metadata": {
            "tags": []
          },
          "execution_count": 22
        }
      ]
    },
    {
      "cell_type": "code",
      "metadata": {
        "id": "DN04DHfgJ3Jq",
        "colab_type": "code",
        "outputId": "715c348f-7774-4aad-fdc9-375f1ad3d517",
        "colab": {
          "base_uri": "https://localhost:8080/"
        }
      },
      "source": [
        "train.info()"
      ],
      "execution_count": 0,
      "outputs": [
        {
          "output_type": "stream",
          "text": [
            "<class 'pandas.core.frame.DataFrame'>\n",
            "Int64Index: 140597 entries, 158472 to 74752\n",
            "Data columns (total 2 columns):\n",
            "text     140597 non-null object\n",
            "label    140597 non-null int64\n",
            "dtypes: int64(1), object(1)\n",
            "memory usage: 3.2+ MB\n"
          ],
          "name": "stdout"
        }
      ]
    },
    {
      "cell_type": "code",
      "metadata": {
        "id": "JgaG89SbKTtI",
        "colab_type": "code",
        "colab": {}
      },
      "source": [
        ""
      ],
      "execution_count": 0,
      "outputs": []
    }
  ]
}